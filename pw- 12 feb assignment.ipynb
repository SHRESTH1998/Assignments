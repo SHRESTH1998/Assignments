{
 "cells": [
  {
   "cell_type": "markdown",
   "id": "f8f46099-1c82-414f-a2ee-fb8a7a683c1c",
   "metadata": {},
   "source": [
    "#Q1.Ans"
   ]
  },
  {
   "cell_type": "markdown",
   "id": "024b865a-e5b8-4659-94f0-7faee72608be",
   "metadata": {},
   "source": [
    "An Exception is an error that happens during the execution of a program. Whenever there is an error, \n",
    "Python generates an exception that could be handled. It basically prevents the program from getting crashed.\n",
    "\n",
    "An Exception is an event that occurs during the program execution and disrupts the normal flow of the \n",
    "program's execution. Errors mostly happen at compile-time like syntax error; however it can happen at \n",
    "runtime as well. Whereas an Exception occurs at runtime (checked exceptions can be detected at compile time)."
   ]
  },
  {
   "cell_type": "markdown",
   "id": "8adac152-71c7-4fbb-af29-820012f8bd42",
   "metadata": {},
   "source": [
    "Q2.Ans"
   ]
  },
  {
   "cell_type": "markdown",
   "id": "84c628cf-e5cc-4dac-9b34-d0c4a3bd2ac3",
   "metadata": {},
   "source": [
    "If an exception occurs during execution of the try clause, the exception may be handled by an \n",
    "except clause. If the exception is not handled by an except clause, the exception is re-raised \n",
    "after the finally clause has been executed.\n",
    "\n",
    "Ex:"
   ]
  },
  {
   "cell_type": "code",
   "execution_count": 1,
   "id": "2a7e3a50-5343-437d-bec9-763a04362f5f",
   "metadata": {},
   "outputs": [
    {
     "ename": "ZeroDivisionError",
     "evalue": "division by zero",
     "output_type": "error",
     "traceback": [
      "\u001b[0;31m---------------------------------------------------------------------------\u001b[0m",
      "\u001b[0;31mZeroDivisionError\u001b[0m                         Traceback (most recent call last)",
      "Cell \u001b[0;32mIn[1], line 5\u001b[0m\n\u001b[1;32m      2\u001b[0m marks \u001b[38;5;241m=\u001b[39m \u001b[38;5;241m10000\u001b[39m\n\u001b[1;32m      4\u001b[0m \u001b[38;5;66;03m# perform division with 0\u001b[39;00m\n\u001b[0;32m----> 5\u001b[0m a \u001b[38;5;241m=\u001b[39m \u001b[43mmarks\u001b[49m\u001b[43m \u001b[49m\u001b[38;5;241;43m/\u001b[39;49m\u001b[43m \u001b[49m\u001b[38;5;241;43m0\u001b[39;49m\n\u001b[1;32m      6\u001b[0m \u001b[38;5;28mprint\u001b[39m(a)\n",
      "\u001b[0;31mZeroDivisionError\u001b[0m: division by zero"
     ]
    }
   ],
   "source": [
    "# initialize the amount variable\n",
    "marks = 10000\n",
    " \n",
    "# perform division with 0\n",
    "a = marks / 0\n",
    "print(a)"
   ]
  },
  {
   "cell_type": "markdown",
   "id": "8740c101-e8b4-4c05-b918-617c583b5fec",
   "metadata": {},
   "source": [
    "Exceptions are raised when the program is syntactically correct, but the code resulted in an error. \n",
    "This error does not stop the execution of the program, however, it changes the normal flow of the program."
   ]
  },
  {
   "cell_type": "markdown",
   "id": "91645430-20cd-4a3a-978e-f5d1fad70ed1",
   "metadata": {},
   "source": [
    "Q3. Ans"
   ]
  },
  {
   "cell_type": "markdown",
   "id": "c57f0e7e-9315-4ac9-9668-868f34399ae8",
   "metadata": {},
   "source": [
    "Python uses try and except keywords to handle exceptions. Both keywords are followed by indented blocks. \n",
    "The try: block contains one or more statements which are likely to encounter an exception. \n",
    "If the statements in this block are executed without an exception, the subsequent except: block is skipped.\n",
    "\n",
    "Example: Catch Specific Error Type Copy\n"
   ]
  },
  {
   "cell_type": "code",
   "execution_count": 2,
   "id": "6b94e012-2baa-4472-808f-4f094640f7db",
   "metadata": {},
   "outputs": [
    {
     "name": "stdout",
     "output_type": "stream",
     "text": [
      "Unsupported operation\n",
      "Out of try except blocks\n"
     ]
    }
   ],
   "source": [
    "try:\n",
    "    a=5\n",
    "    b='0'\n",
    "    print (a+b)\n",
    "except TypeError:\n",
    "    print('Unsupported operation')\n",
    "print (\"Out of try except blocks\")"
   ]
  },
  {
   "cell_type": "markdown",
   "id": "b679e622-ebca-411e-96a7-a011d0095be9",
   "metadata": {},
   "source": [
    "Example: try...except blocks Copy"
   ]
  },
  {
   "cell_type": "markdown",
   "id": "e5730f24-8e24-47bd-89be-27b5fc492d88",
   "metadata": {},
   "source": [
    "try:\n",
    "    a=5\n",
    "    b='0'\n",
    "    print(a/b)\n",
    "except:\n",
    "    print('Some error occurred.')\n",
    "print(\"Out of try except blocks.\")"
   ]
  },
  {
   "cell_type": "markdown",
   "id": "5cadc4cb-891d-4ea7-81b8-13d6a682813c",
   "metadata": {},
   "source": [
    "Q4. Ans"
   ]
  },
  {
   "cell_type": "markdown",
   "id": "ae767070-9e0f-429f-9e16-f626bf4b2d77",
   "metadata": {},
   "source": [
    "The try block lets you test a block of code for errors. The except block lets you handle the error. \n",
    "The else block lets you execute code when there is no error. The finally block lets you execute code,\n",
    "regardless of the result of the try- and except blocks."
   ]
  },
  {
   "cell_type": "code",
   "execution_count": 3,
   "id": "0e9b2f30-ca05-446f-8b7f-e552be0a26fd",
   "metadata": {},
   "outputs": [
    {
     "name": "stdout",
     "output_type": "stream",
     "text": [
      "Yeah ! Your answer is : 1\n",
      "Sorry ! You are dividing by zero \n"
     ]
    }
   ],
   "source": [
    "# Python code to illustrate\n",
    "# working of try() \n",
    "def divide(x, y):\n",
    "    try:\n",
    "        # Floor Division : Gives only Fractional\n",
    "        # Part as Answer\n",
    "        result = x // y\n",
    "        print(\"Yeah ! Your answer is :\", result)\n",
    "    except ZeroDivisionError:\n",
    "        print(\"Sorry ! You are dividing by zero \")\n",
    "   \n",
    "# Look at parameters and note the working of Program\n",
    "divide(3, 2)\n",
    "divide(3, 0)"
   ]
  },
  {
   "cell_type": "code",
   "execution_count": 4,
   "id": "b3717af8-35cc-410a-a6fa-44a9288d4ce5",
   "metadata": {},
   "outputs": [
    {
     "name": "stdout",
     "output_type": "stream",
     "text": [
      "Yeah ! Your answer is : 1\n",
      "Sorry ! You are dividing by zero \n"
     ]
    }
   ],
   "source": [
    "# Python code to illustrate\n",
    "# working of try() \n",
    "def divide(x, y):\n",
    "    try:\n",
    "        # Floor Division : Gives only Fractional\n",
    "        # Part as Answer\n",
    "        result = x // y\n",
    "    except ZeroDivisionError:\n",
    "        print(\"Sorry ! You are dividing by zero \")\n",
    "    else:\n",
    "        print(\"Yeah ! Your answer is :\", result)\n",
    "   \n",
    "# Look at parameters and note the working of Program\n",
    "divide(3, 2)\n",
    "divide(3, 0)"
   ]
  },
  {
   "cell_type": "markdown",
   "id": "c4e2cf12-1931-48ae-84be-96eccba7e856",
   "metadata": {},
   "source": [
    "The finally block will be executed no matter if the try block raises an error or not. \n",
    "This can be useful to close objects and clean up resources."
   ]
  },
  {
   "cell_type": "code",
   "execution_count": 8,
   "id": "8cb0c23b-72e4-414a-a32b-c836472b0fd8",
   "metadata": {},
   "outputs": [
    {
     "name": "stdout",
     "output_type": "stream",
     "text": [
      "Yeah ! Your answer is : 1\n",
      "This is always executed\n",
      "Sorry ! You are dividing by zero \n",
      "This is always executed\n"
     ]
    }
   ],
   "source": [
    "# Python code to illustrate\n",
    "# working of try() \n",
    "def divide(x, y):\n",
    "    try:\n",
    "        # Floor Division : Gives only Fractional\n",
    "        # Part as Answer\n",
    "        result = x //y\n",
    "    except ZeroDivisionError:\n",
    "        print(\"Sorry ! You are dividing by zero \")\n",
    "    else:\n",
    "        print(\"Yeah ! Your answer is :\", result)\n",
    "    finally: \n",
    "        # this block is always executed  \n",
    "        # regardless of exception generation. \n",
    "        print('This is always executed')  \n",
    " \n",
    "# Look at parameters and note the working of Program\n",
    "divide(3, 2)\n",
    "divide(3, 0)"
   ]
  },
  {
   "cell_type": "code",
   "execution_count": null,
   "id": "c2c56112-b335-4839-8e37-ada8cf2883d2",
   "metadata": {},
   "outputs": [],
   "source": []
  },
  {
   "cell_type": "markdown",
   "id": "56b6b925-0f52-48b2-8e36-a4c62e29e8a8",
   "metadata": {},
   "source": [
    "The raise keyword is used to raise an exception."
   ]
  },
  {
   "cell_type": "code",
   "execution_count": 9,
   "id": "9234f4b0-fef8-4505-a80b-b82e62c67cd7",
   "metadata": {},
   "outputs": [
    {
     "ename": "TypeError",
     "evalue": "Only integers are allowed",
     "output_type": "error",
     "traceback": [
      "\u001b[0;31m---------------------------------------------------------------------------\u001b[0m",
      "\u001b[0;31mTypeError\u001b[0m                                 Traceback (most recent call last)",
      "Cell \u001b[0;32mIn[9], line 4\u001b[0m\n\u001b[1;32m      1\u001b[0m x \u001b[38;5;241m=\u001b[39m \u001b[38;5;124m\"\u001b[39m\u001b[38;5;124mhello\u001b[39m\u001b[38;5;124m\"\u001b[39m\n\u001b[1;32m      3\u001b[0m \u001b[38;5;28;01mif\u001b[39;00m \u001b[38;5;129;01mnot\u001b[39;00m \u001b[38;5;28mtype\u001b[39m(x) \u001b[38;5;129;01mis\u001b[39;00m \u001b[38;5;28mint\u001b[39m:\n\u001b[0;32m----> 4\u001b[0m   \u001b[38;5;28;01mraise\u001b[39;00m \u001b[38;5;167;01mTypeError\u001b[39;00m(\u001b[38;5;124m\"\u001b[39m\u001b[38;5;124mOnly integers are allowed\u001b[39m\u001b[38;5;124m\"\u001b[39m)\n",
      "\u001b[0;31mTypeError\u001b[0m: Only integers are allowed"
     ]
    }
   ],
   "source": [
    "x = \"hello\"\n",
    "\n",
    "if not type(x) is int:\n",
    "  raise TypeError(\"Only integers are allowed\")"
   ]
  },
  {
   "cell_type": "markdown",
   "id": "b36159c5-74ce-4bd9-a7b2-5661495b8cf5",
   "metadata": {},
   "source": [
    "Q5. Ans"
   ]
  },
  {
   "cell_type": "markdown",
   "id": "37083e4e-4f5c-41d1-a1fd-b0018c6f79cb",
   "metadata": {},
   "source": [
    "In Python, we can define custom exceptions by creating a new class that is derived from the \n",
    "built-in Exception class. Here's the syntax to define custom exceptions,\n",
    "class CustomError(Exception): ... pass try: ... except CustomError: ...\n",
    "\n",
    "Having custom exceptions - tailored to your specific use cases and that you can raise and \n",
    "catch in specific circumstances - can make your code much more readable and robust, and \n",
    "reduce the amount of code you write later to try and figure out what exactly went wrong."
   ]
  },
  {
   "cell_type": "code",
   "execution_count": 3,
   "id": "c723b16c-dcfd-4330-ac19-83762b6dcdea",
   "metadata": {},
   "outputs": [
    {
     "name": "stdin",
     "output_type": "stream",
     "text": [
      "Enter a number between positive integer:  3\n"
     ]
    }
   ],
   "source": [
    "class NegativeError(Exception):\n",
    "   def __init__(self, data):\n",
    "       self.data = data\n",
    "try:\n",
    "   x = int(input(\"Enter a number between positive integer: \"))\n",
    "   if x < 0:\n",
    "       raise NegativeError(x)\n",
    "except NegativeError as e:\n",
    "   print(\"You provided {}. Please provide positive integer values only\".format(e))"
   ]
  },
  {
   "cell_type": "code",
   "execution_count": null,
   "id": "a52d1574-af77-41e5-b631-25e7e77874a6",
   "metadata": {},
   "outputs": [],
   "source": []
  },
  {
   "cell_type": "markdown",
   "id": "42e02f7e-864a-4efd-ba77-8f7cf2dbb30e",
   "metadata": {},
   "source": [
    "Q6 Ans"
   ]
  },
  {
   "cell_type": "code",
   "execution_count": 1,
   "id": "ea32a22c-c784-4b6a-be24-fb11cddd1506",
   "metadata": {},
   "outputs": [
    {
     "name": "stdin",
     "output_type": "stream",
     "text": [
      "Enter a number:  15\n"
     ]
    },
    {
     "name": "stdout",
     "output_type": "stream",
     "text": [
      "Exception occurred: Invalid Age\n"
     ]
    }
   ],
   "source": [
    "class InvalidAgeException(Exception):\n",
    "    \"Raised when the input value is less than 18\"\n",
    "    pass\n",
    "\n",
    "number = 18\n",
    "\n",
    "try:\n",
    "    input_num = int(input(\"Enter a number: \"))\n",
    "    if input_num < number:\n",
    "        raise InvalidAgeException\n",
    "    else:\n",
    "        print(\"Eligible to Vote\")\n",
    "        \n",
    "except InvalidAgeException:\n",
    "    print(\"Exception occurred: Invalid Age\")"
   ]
  },
  {
   "cell_type": "code",
   "execution_count": null,
   "id": "0736b2f0-841a-4d48-b2b0-ba2a155b0098",
   "metadata": {},
   "outputs": [],
   "source": []
  }
 ],
 "metadata": {
  "kernelspec": {
   "display_name": "Python 3 (ipykernel)",
   "language": "python",
   "name": "python3"
  },
  "language_info": {
   "codemirror_mode": {
    "name": "ipython",
    "version": 3
   },
   "file_extension": ".py",
   "mimetype": "text/x-python",
   "name": "python",
   "nbconvert_exporter": "python",
   "pygments_lexer": "ipython3",
   "version": "3.10.8"
  }
 },
 "nbformat": 4,
 "nbformat_minor": 5
}
