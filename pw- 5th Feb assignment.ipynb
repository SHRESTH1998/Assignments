{
 "cells": [
  {
   "cell_type": "markdown",
   "id": "656dd18e",
   "metadata": {},
   "source": [
    "# Q1 Ans"
   ]
  },
  {
   "cell_type": "code",
   "execution_count": null,
   "id": "2aa2855f",
   "metadata": {},
   "outputs": [],
   "source": [
    "Python is an object oriented programming language.\n",
    "\n",
    "Almost everything in Python is an object, with its properties and methods.\n",
    "\n",
    "A Class is like an object constructor, or a \"blueprint\" for creating objects."
   ]
  },
  {
   "cell_type": "code",
   "execution_count": 5,
   "id": "5eb3e4df",
   "metadata": {},
   "outputs": [],
   "source": [
    "class pwskills:\n",
    "    def welcome_msg(self):\n",
    "        print(\"welcome to pwskills\")"
   ]
  },
  {
   "cell_type": "code",
   "execution_count": 6,
   "id": "7a4d492e",
   "metadata": {},
   "outputs": [],
   "source": [
    "rohan = pwskills()"
   ]
  },
  {
   "cell_type": "code",
   "execution_count": 7,
   "id": "5d2d2dd7",
   "metadata": {},
   "outputs": [
    {
     "name": "stdout",
     "output_type": "stream",
     "text": [
      "welcome to pwskills\n"
     ]
    }
   ],
   "source": [
    "rohan.welcome_msg()"
   ]
  },
  {
   "cell_type": "markdown",
   "id": "d61ab358",
   "metadata": {},
   "source": [
    "# Q2 Ans."
   ]
  },
  {
   "cell_type": "code",
   "execution_count": null,
   "id": "d624287a",
   "metadata": {},
   "outputs": [],
   "source": [
    "The four pillars of object-oriented programming are:\n",
    "\n",
    "Abstraction\n",
    "Encapsulation\n",
    "Inheritance\n",
    "Polymorphism"
   ]
  },
  {
   "cell_type": "markdown",
   "id": "d63603a9",
   "metadata": {},
   "source": [
    "# Q3 Ans."
   ]
  },
  {
   "cell_type": "code",
   "execution_count": null,
   "id": "5d626f21",
   "metadata": {},
   "outputs": [],
   "source": [
    "Use the __init__() function to assign values to object properties,\n",
    "or other operations that are necessary to do when the object is being created:"
   ]
  },
  {
   "cell_type": "code",
   "execution_count": 2,
   "id": "8cabcb24",
   "metadata": {},
   "outputs": [],
   "source": [
    "class pwskills1:\n",
    "    def __init__(self,phone_number,email_id,student_id):\n",
    "        self.phone_number =phone_number\n",
    "        self.email_id=email_id\n",
    "        self.student_id=student_id\n",
    "    def return_student_details(self):\n",
    "        return self.student_id, self.phone_number, self.email_id"
   ]
  },
  {
   "cell_type": "code",
   "execution_count": 3,
   "id": "1e92a72c",
   "metadata": {},
   "outputs": [],
   "source": [
    "rohan=pwskills1(123456667, \"rohan@gmail.com\",10001)"
   ]
  },
  {
   "cell_type": "code",
   "execution_count": 4,
   "id": "1416b88c",
   "metadata": {},
   "outputs": [
    {
     "data": {
      "text/plain": [
       "(10001, 123456667, 'rohan@gmail.com')"
      ]
     },
     "execution_count": 4,
     "metadata": {},
     "output_type": "execute_result"
    }
   ],
   "source": [
    "rohan.return_student_details()"
   ]
  },
  {
   "cell_type": "markdown",
   "id": "028af5a6",
   "metadata": {},
   "source": [
    "# Q4 Ans."
   ]
  },
  {
   "cell_type": "code",
   "execution_count": null,
   "id": "324c07b8",
   "metadata": {},
   "outputs": [],
   "source": [
    "In object-oriented programming, whenever we define methods for a class, we use self as the first parameter in each case."
   ]
  },
  {
   "cell_type": "markdown",
   "id": "f7d31a52",
   "metadata": {},
   "source": [
    "# Q5 Ans."
   ]
  },
  {
   "cell_type": "code",
   "execution_count": null,
   "id": "a9c276ce",
   "metadata": {},
   "outputs": [],
   "source": [
    "One of the core concepts in object-oriented programming (OOP) languages is inheritance. \n",
    "It is a mechanism that allows you to create a hierarchy of classes that share a set of properties\n",
    "and methods by deriving a class from another class. Inheritance is the capability of one class\n",
    "to derive or inherit the properties from another class. "
   ]
  },
  {
   "cell_type": "code",
   "execution_count": null,
   "id": "e923779e",
   "metadata": {},
   "outputs": [],
   "source": [
    "Types of Inheritance are:\n",
    "    1. Single Inheritance\n",
    "    2. Multiple Inheritance\n",
    "    3. Multilevel Inheritance \n",
    "    4. Hierarchical Inheritance\n",
    "    5. Hybrid Inheritance"
   ]
  }
 ],
 "metadata": {
  "kernelspec": {
   "display_name": "Python 3 (ipykernel)",
   "language": "python",
   "name": "python3"
  },
  "language_info": {
   "codemirror_mode": {
    "name": "ipython",
    "version": 3
   },
   "file_extension": ".py",
   "mimetype": "text/x-python",
   "name": "python",
   "nbconvert_exporter": "python",
   "pygments_lexer": "ipython3",
   "version": "3.9.12"
  }
 },
 "nbformat": 4,
 "nbformat_minor": 5
}
