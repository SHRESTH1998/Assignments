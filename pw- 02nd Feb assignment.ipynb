{
 "cells": [
  {
   "cell_type": "markdown",
   "id": "25bbefbd",
   "metadata": {},
   "source": [
    "# Q1 Ans"
   ]
  },
  {
   "cell_type": "code",
   "execution_count": null,
   "id": "0daa572a",
   "metadata": {},
   "outputs": [],
   "source": [
    "\n",
    "# For loop using condition\n",
    "#1. The initialization, condition checking, and the iteration statements are written at the beginning of the loop.\n",
    "\n",
    "#2. It is used only when the number of iterations is known beforehand.\n",
    "\n",
    "#3. If the condition is not mentioned in the 'for' loop, then the loop iterates infinite number of times.\n",
    "\n",
    "#4.The initialization is done only once, and it is never repeated.\n",
    "\n",
    "#5.The iteration statement is written at the beginning.\n",
    "\n",
    "#6. Hence, it executes once all statements in loop have been executed.\n",
    "\n",
    "# ex. for(initialization; condition; iteration){\n",
    "   //body of the 'for' loop\n",
    "}\n",
    "\n",
    "# While loop using condition\n",
    "#1. The initialization and the condition checking is done at the beginning of the loop.\n",
    "\n",
    "#2. It is used only when the number of iterations isn’t known.\n",
    "\n",
    "#3. If the condition is not mentioned in the 'while' loop, it results in a compilation error.\n",
    "\n",
    "#4.If the initialization is done when the condition is being checked, then initialization occurs every time the loop is iterated through.\n",
    "\n",
    "#5. The iteration statement can be written within any point inside the loop.\n",
    "\n",
    "# Ex. while ( condition) {\n",
    "   statements;\n",
    "   //body of the loop\n",
    "}\n"
   ]
  },
  {
   "cell_type": "markdown",
   "id": "23ab9ff3",
   "metadata": {},
   "source": [
    "# Q2 Ans"
   ]
  },
  {
   "cell_type": "code",
   "execution_count": 1,
   "id": "2233c0fc",
   "metadata": {},
   "outputs": [
    {
     "name": "stdout",
     "output_type": "stream",
     "text": [
      "sum of first 10 natural numbers 55\n"
     ]
    }
   ],
   "source": [
    "# For loop\n",
    "s=0\n",
    "for i in range(11):\n",
    "   s=s+i\n",
    "print (\"sum of first 10 natural numbers\",s)"
   ]
  },
  {
   "cell_type": "code",
   "execution_count": 2,
   "id": "e3be1198",
   "metadata": {},
   "outputs": [
    {
     "name": "stdout",
     "output_type": "stream",
     "text": [
      "sum of first 10 natural numbers 55\n"
     ]
    }
   ],
   "source": [
    "#While loop\n",
    "s,i=0,0\n",
    "n=10\n",
    "while i<n:\n",
    "   i=i+1\n",
    "   s=s+i\n",
    "print (\"sum of first 10 natural numbers\",s)"
   ]
  },
  {
   "cell_type": "markdown",
   "id": "fa4d5d82",
   "metadata": {},
   "source": [
    "# Q3 Ans."
   ]
  },
  {
   "cell_type": "code",
   "execution_count": 3,
   "id": "41c98d3f",
   "metadata": {},
   "outputs": [
    {
     "name": "stdout",
     "output_type": "stream",
     "text": [
      " Please enter Number of Units you Consumed : 310\n",
      "Electricity Bill = 2250.00\n"
     ]
    }
   ],
   "source": [
    "units = int(input(\" Please enter Number of Units you Consumed : \"))\n",
    "\n",
    "if(units < 100):\n",
    "    amount = units * 4.5\n",
    "    \n",
    "elif(units <= 101):\n",
    "    amount = 450 + ((units - 100) * 6)\n",
    "    \n",
    "elif(units <= 201):\n",
    "    amount = 450+ 600 + ((units - 200) *10)\n",
    "    \n",
    "else:\n",
    "    amount = 450+ 600 + 1000+ ((units - 300) *20)\n",
    "    \n",
    "\n",
    "total = amount \n",
    "print(\"Electricity Bill = %.2f\"  %total)"
   ]
  },
  {
   "cell_type": "markdown",
   "id": "d012d421",
   "metadata": {},
   "source": [
    "# Q4 Ans."
   ]
  },
  {
   "cell_type": "code",
   "execution_count": 4,
   "id": "13f59903",
   "metadata": {},
   "outputs": [],
   "source": [
    "l=range(1,101,1)\n",
    "l1=[]\n",
    "for i in l:\n",
    "    l1.append(i**3)"
   ]
  },
  {
   "cell_type": "code",
   "execution_count": 5,
   "id": "e65e7cd8",
   "metadata": {},
   "outputs": [
    {
     "data": {
      "text/plain": [
       "[1,\n",
       " 8,\n",
       " 27,\n",
       " 64,\n",
       " 125,\n",
       " 216,\n",
       " 343,\n",
       " 512,\n",
       " 729,\n",
       " 1000,\n",
       " 1331,\n",
       " 1728,\n",
       " 2197,\n",
       " 2744,\n",
       " 3375,\n",
       " 4096,\n",
       " 4913,\n",
       " 5832,\n",
       " 6859,\n",
       " 8000,\n",
       " 9261,\n",
       " 10648,\n",
       " 12167,\n",
       " 13824,\n",
       " 15625,\n",
       " 17576,\n",
       " 19683,\n",
       " 21952,\n",
       " 24389,\n",
       " 27000,\n",
       " 29791,\n",
       " 32768,\n",
       " 35937,\n",
       " 39304,\n",
       " 42875,\n",
       " 46656,\n",
       " 50653,\n",
       " 54872,\n",
       " 59319,\n",
       " 64000,\n",
       " 68921,\n",
       " 74088,\n",
       " 79507,\n",
       " 85184,\n",
       " 91125,\n",
       " 97336,\n",
       " 103823,\n",
       " 110592,\n",
       " 117649,\n",
       " 125000,\n",
       " 132651,\n",
       " 140608,\n",
       " 148877,\n",
       " 157464,\n",
       " 166375,\n",
       " 175616,\n",
       " 185193,\n",
       " 195112,\n",
       " 205379,\n",
       " 216000,\n",
       " 226981,\n",
       " 238328,\n",
       " 250047,\n",
       " 262144,\n",
       " 274625,\n",
       " 287496,\n",
       " 300763,\n",
       " 314432,\n",
       " 328509,\n",
       " 343000,\n",
       " 357911,\n",
       " 373248,\n",
       " 389017,\n",
       " 405224,\n",
       " 421875,\n",
       " 438976,\n",
       " 456533,\n",
       " 474552,\n",
       " 493039,\n",
       " 512000,\n",
       " 531441,\n",
       " 551368,\n",
       " 571787,\n",
       " 592704,\n",
       " 614125,\n",
       " 636056,\n",
       " 658503,\n",
       " 681472,\n",
       " 704969,\n",
       " 729000,\n",
       " 753571,\n",
       " 778688,\n",
       " 804357,\n",
       " 830584,\n",
       " 857375,\n",
       " 884736,\n",
       " 912673,\n",
       " 941192,\n",
       " 970299,\n",
       " 1000000]"
      ]
     },
     "execution_count": 5,
     "metadata": {},
     "output_type": "execute_result"
    }
   ],
   "source": [
    "l1"
   ]
  },
  {
   "cell_type": "code",
   "execution_count": 6,
   "id": "c796d3de",
   "metadata": {},
   "outputs": [
    {
     "data": {
      "text/plain": [
       "[4,\n",
       " 8,\n",
       " 12,\n",
       " 16,\n",
       " 20,\n",
       " 24,\n",
       " 28,\n",
       " 32,\n",
       " 36,\n",
       " 40,\n",
       " 44,\n",
       " 48,\n",
       " 52,\n",
       " 56,\n",
       " 60,\n",
       " 64,\n",
       " 68,\n",
       " 72,\n",
       " 76,\n",
       " 80,\n",
       " 84,\n",
       " 88,\n",
       " 92,\n",
       " 96,\n",
       " 100]"
      ]
     },
     "execution_count": 6,
     "metadata": {},
     "output_type": "execute_result"
    }
   ],
   "source": [
    "[i for i in l if i %4==0]"
   ]
  },
  {
   "cell_type": "code",
   "execution_count": 7,
   "id": "603c8daa",
   "metadata": {},
   "outputs": [
    {
     "data": {
      "text/plain": [
       "[5,\n",
       " 10,\n",
       " 15,\n",
       " 20,\n",
       " 25,\n",
       " 30,\n",
       " 35,\n",
       " 40,\n",
       " 45,\n",
       " 50,\n",
       " 55,\n",
       " 60,\n",
       " 65,\n",
       " 70,\n",
       " 75,\n",
       " 80,\n",
       " 85,\n",
       " 90,\n",
       " 95,\n",
       " 100]"
      ]
     },
     "execution_count": 7,
     "metadata": {},
     "output_type": "execute_result"
    }
   ],
   "source": [
    "[i for i in l if i %5==0]"
   ]
  },
  {
   "cell_type": "code",
   "execution_count": 8,
   "id": "f70d941c",
   "metadata": {},
   "outputs": [
    {
     "name": "stdout",
     "output_type": "stream",
     "text": [
      "1\n",
      "8\n",
      "27\n",
      "64\n",
      "125\n",
      "216\n",
      "343\n",
      "512\n",
      "729\n",
      "1000\n",
      "1331\n",
      "1728\n",
      "2197\n",
      "2744\n",
      "3375\n",
      "4096\n",
      "4913\n",
      "5832\n",
      "6859\n",
      "8000\n",
      "9261\n",
      "10648\n",
      "12167\n",
      "13824\n",
      "15625\n",
      "17576\n",
      "19683\n",
      "21952\n",
      "24389\n",
      "27000\n",
      "29791\n",
      "32768\n",
      "35937\n",
      "39304\n",
      "42875\n",
      "46656\n",
      "50653\n",
      "54872\n",
      "59319\n",
      "64000\n",
      "68921\n",
      "74088\n",
      "79507\n",
      "85184\n",
      "91125\n",
      "97336\n",
      "103823\n",
      "110592\n",
      "117649\n",
      "125000\n",
      "132651\n",
      "140608\n",
      "148877\n",
      "157464\n",
      "166375\n",
      "175616\n",
      "185193\n",
      "195112\n",
      "205379\n",
      "216000\n",
      "226981\n",
      "238328\n",
      "250047\n",
      "262144\n",
      "274625\n",
      "287496\n",
      "300763\n",
      "314432\n",
      "328509\n",
      "343000\n",
      "357911\n",
      "373248\n",
      "389017\n",
      "405224\n",
      "421875\n",
      "438976\n",
      "456533\n",
      "474552\n",
      "493039\n",
      "512000\n",
      "531441\n",
      "551368\n",
      "571787\n",
      "592704\n",
      "614125\n",
      "636056\n",
      "658503\n",
      "681472\n",
      "704969\n",
      "729000\n",
      "753571\n",
      "778688\n",
      "804357\n",
      "830584\n",
      "857375\n",
      "884736\n",
      "912673\n",
      "941192\n",
      "970299\n",
      "1000000\n"
     ]
    }
   ],
   "source": [
    "a=1\n",
    "while a<=100:\n",
    "    print(a**3)\n",
    "    a=a+1"
   ]
  },
  {
   "cell_type": "markdown",
   "id": "322ba7ef",
   "metadata": {},
   "source": [
    "# Q 5 Ans."
   ]
  },
  {
   "cell_type": "code",
   "execution_count": 15,
   "id": "4c3b7b7e",
   "metadata": {},
   "outputs": [
    {
     "name": "stdout",
     "output_type": "stream",
     "text": [
      "{'a': 4, 'e': 3, 'i': 3, 'o': 2, 'u': 0}\n"
     ]
    }
   ],
   "source": [
    "def countVowels(string):\n",
    "    string = string.casefold()\n",
    "    count = {x:sum([1 for char in string if char == x]) for x in 'aeiou'}\n",
    "    print(count)\n",
    "string = \"I want to become a data scientist\"\n",
    "countVowels(string)"
   ]
  },
  {
   "cell_type": "code",
   "execution_count": null,
   "id": "436078d1",
   "metadata": {},
   "outputs": [],
   "source": []
  }
 ],
 "metadata": {
  "kernelspec": {
   "display_name": "Python 3 (ipykernel)",
   "language": "python",
   "name": "python3"
  },
  "language_info": {
   "codemirror_mode": {
    "name": "ipython",
    "version": 3
   },
   "file_extension": ".py",
   "mimetype": "text/x-python",
   "name": "python",
   "nbconvert_exporter": "python",
   "pygments_lexer": "ipython3",
   "version": "3.9.12"
  }
 },
 "nbformat": 4,
 "nbformat_minor": 5
}
