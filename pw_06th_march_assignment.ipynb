{
  "cells": [
    {
      "cell_type": "markdown",
      "id": "23a42759-b0b5-4410-ae10-156fc2e4c2f4",
      "metadata": {
        "id": "23a42759-b0b5-4410-ae10-156fc2e4c2f4"
      },
      "source": [
        "Q1. Ans"
      ]
    },
    {
      "cell_type": "markdown",
      "id": "c65ada82-8d9e-4fdc-99ba-3964c01dd749",
      "metadata": {
        "id": "c65ada82-8d9e-4fdc-99ba-3964c01dd749"
      },
      "source": [
        "Statistics is the science concerned with developing and studying methods for collecting, analyzing, interpreting and presenting empirical data"
      ]
    },
    {
      "cell_type": "markdown",
      "id": "d25ddbe1-2b26-4c76-9ea6-6143772c6f21",
      "metadata": {
        "id": "d25ddbe1-2b26-4c76-9ea6-6143772c6f21"
      },
      "source": [
        "Q2.Ans"
      ]
    },
    {
      "cell_type": "markdown",
      "id": "2d757743-8f87-4c97-8ed8-2c39c4d4cc44",
      "metadata": {
        "id": "2d757743-8f87-4c97-8ed8-2c39c4d4cc44"
      },
      "source": [
        "Descriptive Statistics\n",
        "In this type of statistics, the data is summarised through the given observations. The summarisation is one from a sample of population using parameters such as the mean or standard deviation.\n",
        "\n",
        "Descriptive statistics is a way to organise, represent and describe a collection of data using tables, graphs, and summary measures. For example, the collection of people in a city using the internet or using Television.\n",
        "\n",
        "Descriptive statistics are also categorised into four different categories:\n",
        "\n",
        "1. Measure of frequency\n",
        "2. Measure of dispersion\n",
        "3. Measure of central tendency\n",
        "4. Measure of position"
      ]
    },
    {
      "cell_type": "markdown",
      "id": "165a36c8-a14d-4f1f-8c31-8ffdd10005df",
      "metadata": {
        "id": "165a36c8-a14d-4f1f-8c31-8ffdd10005df"
      },
      "source": [
        "Inferential Statistics\n",
        "This type of statistics is used to interpret the meaning of Descriptive statistics. That means once the data has been collected, analysed and summarised then we use these stats to describe the meaning of the collected data. Or we can say, it is used to draw conclusions from the data that depends on random variations such as observational errors, sampling variation, etc.\n",
        "\n",
        "Inferential Statistics is a method that allows us to use information collected from a sample to make decisions, predictions or inferences from a population. It grants us permission to give statements that goes beyond the available data or information. For example, deriving estimates from hypothetical research."
      ]
    },
    {
      "cell_type": "markdown",
      "id": "11ce97ab-d68a-4ff0-998d-785bb5ade61f",
      "metadata": {
        "id": "11ce97ab-d68a-4ff0-998d-785bb5ade61f"
      },
      "source": [
        "Q3. Ans"
      ]
    },
    {
      "cell_type": "markdown",
      "id": "0ea461d8-20aa-4ebc-819c-228edb724614",
      "metadata": {
        "id": "0ea461d8-20aa-4ebc-819c-228edb724614"
      },
      "source": [
        "Nominal Data\n",
        "Nominal Data is used to label variables without any order or quantitative value. The color of hair can be considered nominal data, as one color can’t be compared with another color.\n",
        "\n",
        "The name “nominal” comes from the Latin name “nomen,” which means “name.” With the help of nominal data, we can’t do any numerical tasks or can’t give any order to sort the data. These data don’t have any meaningful order; their values are distributed into distinct categories.\n",
        "\n",
        "Examples of Nominal Data :\n",
        "\n",
        "1. Colour of hair (Blonde, red, Brown, Black, etc.)\n",
        "2. Marital status (Single, Widowed, Married)\n",
        "3. Nationality (Indian, German, American)\n",
        "4. Gender (Male, Female, Others)\n",
        "5. Eye Color (Black, Brown, etc.)"
      ]
    },
    {
      "cell_type": "markdown",
      "id": "c42f2513-14f1-4866-b51e-7365103332a0",
      "metadata": {
        "id": "c42f2513-14f1-4866-b51e-7365103332a0"
      },
      "source": [
        "Ordinal Data\n",
        "Ordinal data have natural ordering where a number is present in some kind of order by their position on the scale. These data are used for observation like customer satisfaction, happiness, etc., but we can’t do any arithmetical tasks on them.\n",
        "\n",
        "Ordinal data is qualitative data for which their values have some kind of relative position. These kinds of data can be considered “in-between” qualitative and quantitative data. The ordinal data only shows the sequences and cannot use for statistical analysis. Compared to nominal data, ordinal data have some kind of order that is not present in nominal data.  \n",
        "\n",
        "Examples of Ordinal Data :\n",
        "1. When companies ask for feedback, experience, or satisfaction on a scale of 1 to 10\n",
        "2. Letter grades in the exam (A, B, C, D, etc.)\n",
        "3. Ranking of people in a competition (First, Second, Third, etc.)\n",
        "4. Economic Status (High, Medium, and Low)\n",
        "5. Education Level (Higher, Secondary, Primary)"
      ]
    },
    {
      "cell_type": "markdown",
      "id": "0c5b3507-39bd-4d3e-86fe-5482605edb1b",
      "metadata": {
        "id": "0c5b3507-39bd-4d3e-86fe-5482605edb1b"
      },
      "source": [
        "Discrete Data\n",
        "The term discrete means distinct or separate. The discrete data contain the values that fall under integers or whole numbers. The total number of students in a class is an example of discrete data. These data can’t be broken into decimal or fraction values.\n",
        "\n",
        "The discrete data are countable and have finite values; their subdivision is not possible. These data are represented mainly by a bar graph, number line, or frequency table.\n",
        "\n",
        "Examples of Discrete Data :\n",
        "1. Total numbers of students present in a class\n",
        "2. Cost of a cell phone\n",
        "3. Numbers of employees in a company\n",
        "4. The total number of players who participated in a competition\n",
        "5. Days in a week"
      ]
    },
    {
      "cell_type": "markdown",
      "id": "5f56a17d-83f0-4fcd-a2ef-bdad76c74c59",
      "metadata": {
        "id": "5f56a17d-83f0-4fcd-a2ef-bdad76c74c59"
      },
      "source": [
        "Continuous Data\n",
        "Continuous data are in the form of fractional numbers. It can be the version of an android phone, the height of a person, the length of an object, etc. Continuous data represents information that can be divided into smaller levels. The continuous variable can take any value within a range.\n",
        "\n",
        "The key difference between discrete and continuous data is that discrete data contains the integer or whole number. Still, continuous data stores the fractional numbers to record different types of data such as temperature, height, width, time, speed, etc.\n",
        "\n",
        "Examples of Continuous Data :\n",
        "1. Height of a person\n",
        "2. Speed of a vehicle\n",
        "3. “Time-taken” to finish the work\n",
        "4. Wi-Fi Frequency\n",
        "5. Market share price"
      ]
    },
    {
      "cell_type": "markdown",
      "id": "b4bff926-8f76-4361-bf19-18c1877f8bcd",
      "metadata": {
        "id": "b4bff926-8f76-4361-bf19-18c1877f8bcd"
      },
      "source": [
        "Q4. Ans"
      ]
    },
    {
      "cell_type": "markdown",
      "source": [
        "Categorizing the datasets with respect to quantitative and qualitative data types:\n",
        "\n",
        "(i) Grading in exam: A+, A, B+, B, C+, C, D, E\n",
        "\n",
        "Qualitative data: The grades represent categories or labels, indicating the performance level in the exam.\n",
        "(ii) Colour of mangoes: yellow, green, orange, red\n",
        "\n",
        "Qualitative data: The colors represent categories or labels that describe the visual appearance of the mangoes.\n",
        "(iii) Height data of a class: [178.9, 179, 179.5, 176, 177.2, 178.3, 175.8,...]\n",
        "\n",
        "Quantitative data: The heights are measured values, representing numerical quantities.\n",
        "(iv) Number of mangoes exported by a farm: [500, 600, 478, 672, ...]\n",
        "\n",
        "Quantitative data: The numbers represent counted or measured values, indicating the quantity of mangoes exported.\n",
        "To categorize the data types, it is important to differentiate between qualitative (categorical) data, which represents categories or labels, and quantitative data, which represents numerical values or measurements."
      ],
      "metadata": {
        "id": "Ng1sq5IivKBS"
      },
      "id": "Ng1sq5IivKBS"
    },
    {
      "cell_type": "markdown",
      "id": "a9b1dcd2-5585-4982-87ed-c9cb63bcd59f",
      "metadata": {
        "id": "a9b1dcd2-5585-4982-87ed-c9cb63bcd59f"
      },
      "source": [
        "Q5. Ans"
      ]
    },
    {
      "cell_type": "markdown",
      "id": "6d75c2d8-204d-4465-bfcc-4a6dad34f031",
      "metadata": {
        "id": "6d75c2d8-204d-4465-bfcc-4a6dad34f031"
      },
      "source": [
        "Nominal level\n",
        "You can categorize your data by labelling them in mutually exclusive groups, but there is no order between the categories.\n",
        "\n",
        "Examples of nominal scales\n",
        "\n",
        "1. City of birth\n",
        "2. Gender\n",
        "3. Ethnicity\n",
        "4. Car brands\n",
        "5. Marital status"
      ]
    },
    {
      "cell_type": "markdown",
      "id": "7f93b4e7-347a-414c-9ed4-3c82a7470ebd",
      "metadata": {
        "id": "7f93b4e7-347a-414c-9ed4-3c82a7470ebd"
      },
      "source": [
        "Ordinal level\n",
        "You can categorize and rank your data in an order, but you cannot say anything about the intervals between the rankings.\n",
        "Although you can rank the top 5 Olympic medallists, this scale does not tell you how close or far apart they are in number of wins.\n",
        "\n",
        "Examples of ordinal scales\n",
        "1. Top 5 Olympic medallists\n",
        "2. Language ability (e.g., beginner, intermediate, fluent)\n",
        "3. Likert-type questions  (e.g., very dissatisfied to very satisfied)"
      ]
    },
    {
      "cell_type": "markdown",
      "id": "971639ba-7ee4-45dc-868a-b859047151e6",
      "metadata": {
        "id": "971639ba-7ee4-45dc-868a-b859047151e6"
      },
      "source": [
        "Interval level\n",
        "You can categorize, rank, and infer equal intervals between neighboring data points, but there is no true zero point.\n",
        "The difference between any two adjacent temperatures is the same: one degree. But  zero degrees is defined differently depending on the scale – it doesn’t mean an absolute absence of temperature.\n",
        "\n",
        "The same is true for test scores and personality inventories. A zero on a test is arbitrary; it does not mean that the test-taker has an absolute lack of the trait being measured.\n",
        "\n",
        "Examples of interval scales\n",
        "1. Test scores (e.g., IQ or exams)\n",
        "2. Personality inventories\n",
        "3. Temperature in Fahrenheit or Celsius"
      ]
    },
    {
      "cell_type": "markdown",
      "id": "2261073e-14b2-4744-a528-e7484ecbddbe",
      "metadata": {
        "id": "2261073e-14b2-4744-a528-e7484ecbddbe"
      },
      "source": [
        "Ratio level\n",
        "You can categorize, rank, and infer equal intervals between neighboring data points, and there is a true zero point.\n",
        "A true zero means there is an absence of the variable of interest. In ratio scales, zero does mean an absolute lack of the variable.\n",
        "\n",
        "For example, in the Kelvin temperature scale, there are no negative degrees of temperature – zero means an absolute lack of thermal energy.\n",
        "\n",
        "Examples of ratio scales\n",
        "1. Height\n",
        "2. Age\n",
        "3. Weight\n",
        "4. Temperature in Kelvin"
      ]
    },
    {
      "cell_type": "markdown",
      "id": "abcc6063-5536-4656-b804-cb88bd11f6fd",
      "metadata": {
        "id": "abcc6063-5536-4656-b804-cb88bd11f6fd"
      },
      "source": [
        "Q6. Ans"
      ]
    },
    {
      "cell_type": "markdown",
      "id": "ebb7897a-4dc5-4231-97da-7a2e94985d0b",
      "metadata": {
        "id": "ebb7897a-4dc5-4231-97da-7a2e94985d0b"
      },
      "source": [
        "First, knowing the level of measurement helps you decide how to interpret the data from that variable. When you know that a measure is nominal (like the one just described), then you know that the numerical values are just short codes for the longer names. Second, knowing the level of measurement helps you decide what statistical analysis is appropriate on the values that were assigned. If a measure is nominal, then you know that you would never average the data values or do a t-test on the data."
      ]
    },
    {
      "cell_type": "markdown",
      "id": "7877091d-ac66-47e3-88a3-19867aea90b5",
      "metadata": {
        "id": "7877091d-ac66-47e3-88a3-19867aea90b5"
      },
      "source": [
        "Q7. Ans"
      ]
    },
    {
      "cell_type": "markdown",
      "id": "85d9c1e4-e16d-44af-b4d1-196dca62d723",
      "metadata": {
        "id": "85d9c1e4-e16d-44af-b4d1-196dca62d723"
      },
      "source": [
        "Nominal data is classified without a natural order or rank, whereas ordinal data has a predetermined or natural order.\n",
        "Nominal level data can only be classified, while ordinal level data can be classified and ordered.\n",
        "The ordinal variable has an intrinsic order while nominal variables do not have an order."
      ]
    },
    {
      "cell_type": "markdown",
      "id": "31889f9c-9931-43f9-9e1c-08b09df97174",
      "metadata": {
        "id": "31889f9c-9931-43f9-9e1c-08b09df97174"
      },
      "source": [
        "Q8. Ans"
      ]
    },
    {
      "cell_type": "markdown",
      "id": "902e7a9a-7f1b-46d2-a956-2e2faf15c27e",
      "metadata": {
        "id": "902e7a9a-7f1b-46d2-a956-2e2faf15c27e"
      },
      "source": [
        "If the groups depicted in a bar chart are actually continuous numeric ranges, we can push the bars together to generate a histogram. Bar lengths in histograms typically correspond to counts of data points, and their patterns demonstrate the distribution of variables in your data. A different chart type like line chart tends to be used when the vertical value is not a frequency count."
      ]
    },
    {
      "cell_type": "markdown",
      "id": "aef09e23-f7bb-42b8-963d-da609372c78c",
      "metadata": {
        "id": "aef09e23-f7bb-42b8-963d-da609372c78c"
      },
      "source": [
        "Q9. Ans"
      ]
    },
    {
      "cell_type": "markdown",
      "id": "0a7f735a-b736-425a-8120-4442462c8520",
      "metadata": {
        "id": "0a7f735a-b736-425a-8120-4442462c8520"
      },
      "source": [
        "Descriptive Statistics gives information about raw data regarding its description or features. Inferential statistics, on the other hand, draw inferences about the population by using data extracted from the population.\n",
        "\n",
        "Descriptive statistics explains already known data related to a particular sample or population of a small size. Inferential statistics, however, aims to draw inferences or conclusions about a whole population.\n",
        "\n",
        "Inferential statistics have two main uses: making estimates about populations (for example, the mean SAT score of all 11th graders in the US). testing hypotheses to draw conclusions about populations (for example, the relationship between SAT scores and family income)\n",
        "\n",
        "Descriptive statistics are used to describe or summarize data in ways that are meaningful and useful. For example, it would not be useful to know that all of the participants in our example wore blue shoes. However, it would be useful to know how spread out their anxiety ratings were\n",
        "\n",
        "Types of Descriptive Statistics\n",
        "1. Frequency Distribution\n",
        "2. Central Tendency\n",
        "3. Variability or Dispersion\n",
        "\n",
        "Types of Inferential Statistics\n",
        "1. Regression Analysis\n",
        "2. Hypothesis Tests\n",
        "3. Confidence Intervals"
      ]
    },
    {
      "cell_type": "markdown",
      "id": "40de4eef-4189-491a-9901-f307f708c0d2",
      "metadata": {
        "id": "40de4eef-4189-491a-9901-f307f708c0d2"
      },
      "source": [
        "Q10. Ans"
      ]
    },
    {
      "cell_type": "markdown",
      "id": "6c4dad35-a45d-4bf6-bf7c-75baad787429",
      "metadata": {
        "id": "6c4dad35-a45d-4bf6-bf7c-75baad787429"
      },
      "source": [
        "The central tendency measure is defined as the number used to represent the center or middle of a set of data values. The three commonly used measures of central tendency are the mean, median, and mode. A statistic that tells us how the data values are dispersed or spread out is called the measure of dispersion."
      ]
    },
    {
      "cell_type": "markdown",
      "id": "6c25ce15-8732-49c4-af62-fd0e80ad8520",
      "metadata": {
        "id": "6c25ce15-8732-49c4-af62-fd0e80ad8520"
      },
      "source": [
        "The Mode\n",
        "The mode is the category with the greatest frequency (or percentage). It is not the frequency itself. In other words, if someone asks you for the mode of the distribution shown below, the answer would be coconut, NOT 22.\n",
        "It is possible to have more than one mode in a distribution.\n",
        "\n",
        "The Median\n",
        "The median is the middlemost number. In other words, it's the number that divides the distribution exactly in half such that half the cases are above the median, and half are below. It's also known as the 50th percentile, and it can be calculated for ordinal and interval/ratio variables.\n",
        "\n",
        "The Mean\n",
        "The mean is what people typically refer to as \"the average\". It is the highest measure of central tendency, by which I mean it is available for use only with interval/ratio variables. The mean takes into account the value of every observation and thus provides the most information of any measure of central tendency."
      ]
    }
  ],
  "metadata": {
    "kernelspec": {
      "display_name": "Python 3 (ipykernel)",
      "language": "python",
      "name": "python3"
    },
    "language_info": {
      "codemirror_mode": {
        "name": "ipython",
        "version": 3
      },
      "file_extension": ".py",
      "mimetype": "text/x-python",
      "name": "python",
      "nbconvert_exporter": "python",
      "pygments_lexer": "ipython3",
      "version": "3.10.8"
    },
    "colab": {
      "provenance": []
    }
  },
  "nbformat": 4,
  "nbformat_minor": 5
}