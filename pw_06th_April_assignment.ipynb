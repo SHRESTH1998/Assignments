{
 "cells": [
  {
   "cell_type": "markdown",
   "id": "6fdace6e",
   "metadata": {},
   "source": [
    "# Q1.Ans"
   ]
  },
  {
   "cell_type": "markdown",
   "id": "9e9398a1",
   "metadata": {},
   "source": [
    "The decision function of a linear SVM can be defined as:\n",
    "\n",
    "f(x) = sign(w^T * x + b)\n",
    "\n",
    "where:\n",
    "\n",
    "1. f(x) represents the predicted class label for input feature vector x,\n",
    "2. w is the weight vector perpendicular to the hyperplane,\n",
    "3. b is the bias term that determines the offset of the hyperplane from the origin,\n",
    "4. x is the input feature vector,\n",
    "5. w^T denotes the transpose of w, and\n",
    "sign( ) is the sign function that assigns a positive value for positive outputs and a negative value for negative outputs."
   ]
  },
  {
   "cell_type": "markdown",
   "id": "5fa83b0d",
   "metadata": {},
   "source": [
    "# Q2. Ans"
   ]
  },
  {
   "cell_type": "markdown",
   "id": "2038dc0b",
   "metadata": {},
   "source": [
    "The objective of the support vector machine algorithm is to find a hyperplane in an N-dimensional space(N — the number of features) that distinctly classifies the data points. To separate the two classes of data points, there are many possible hyperplanes that could be chosen."
   ]
  },
  {
   "cell_type": "markdown",
   "id": "72997c8f",
   "metadata": {},
   "source": [
    "# Q3. Ans"
   ]
  },
  {
   "cell_type": "markdown",
   "id": "3ffd1de7",
   "metadata": {},
   "source": [
    "A Kernel Trick is a simple method where a Non Linear data is projected onto a higher dimension space so as to make it easier to classify the data where it could be linearly divided by a plane. This is mathematically achieved by Lagrangian formula using Lagrangian multipliers."
   ]
  },
  {
   "cell_type": "markdown",
   "id": "565ad2d5",
   "metadata": {},
   "source": [
    "# Q4. Ans"
   ]
  },
  {
   "cell_type": "markdown",
   "id": "29e9b49c",
   "metadata": {},
   "source": [
    "Support vectors are data points that are closer to the hyperplane and influence the position and orientation of the hyperplane. Using these support vectors, we maximize the margin of the classifier. Deleting the support vectors will change the position of the hyperplane. These are the points that help us build our SVM.\n",
    "\n",
    "Here's an example to illustrate the role of support vectors in SVM:\n",
    "\n",
    "Let's consider a binary classification problem with two classes, represented by red and blue points, as shown below:\n",
    "\n",
    "markdown\n",
    "Copy code\n",
    "          +     +\n",
    "        +   + +\n",
    "      +   +   +\n",
    "      + +     +\n",
    "        +   +\n",
    "          +\n",
    "    Red      Blue\n",
    "In SVM, the objective is to find the optimal hyperplane that separates the two classes while maximizing the margin, represented by the dashed line:\n",
    "\n",
    "markdown\n",
    "Copy code\n",
    "          +     +\n",
    "        +   + +\n",
    "      +   +   +\n",
    "  +   + +     +\n",
    "  |    |   +\n",
    "  |    |     Margin\n",
    "  |    |\n",
    "Hyperplane  |\n",
    "            |\n",
    "    Red     |     Blue\n",
    "The support vectors are the data points (circled) that lie closest to the hyperplane. In this example, there are three support vectors, two from the red class and one from the blue class.\n",
    "\n",
    "The support vectors determine the position and orientation of the hyperplane. Since they are the closest points to the decision boundary, they are crucial for defining the margin. The margin is the region between the two dotted lines parallel to the hyperplane. The SVM aims to maximize this margin while still correctly classifying the training data."
   ]
  },
  {
   "cell_type": "markdown",
   "id": "00633b08",
   "metadata": {},
   "source": [
    "# Q5. Ans"
   ]
  },
  {
   "cell_type": "markdown",
   "id": "c1405958",
   "metadata": {},
   "source": [
    "1. Hyperplane:\n",
    "The hyperplane is the decision boundary that separates the classes in SVM. In a binary classification problem, the hyperplane is a linear function defined by weights (w) and a bias term (b). It can be represented as w^T * x + b = 0, where x is the input feature vector.\n",
    "Example: Consider a 2D dataset with two classes (red and blue) as shown below:\n",
    "\n",
    "markdown\n",
    "Copy code\n",
    "      +     +\n",
    "    +   + +\n",
    "  +   +   +\n",
    "+   + +     +\n",
    "|    |   +\n",
    "|    |     Hyperplane\n",
    "|    |\n",
    "The hyperplane is a line that divides the two classes. The goal of SVM is to find the optimal hyperplane that maximizes the margin while correctly classifying the data.\n",
    "\n",
    "2. Marginal Plane:\n",
    "The marginal plane refers to the parallel lines on each side of the hyperplane, which define the margin. These planes are equidistant from the hyperplane.\n",
    "Example: The dashed lines represent the marginal planes in the following graph:\n",
    "\n",
    "markdown\n",
    "Copy code\n",
    "          +     +\n",
    "        +   + +\n",
    "      +   +   +\n",
    "  +   + +     +\n",
    "  |    |   +\n",
    "  |    |     Margin\n",
    "  |    |\n",
    "The distance between the marginal planes determines the width of the margin. The objective of SVM is to find the hyperplane that maximizes this margin while minimizing misclassifications.\n",
    "\n",
    "3. Hard Margin:\n",
    "In a hard margin SVM, the margin is maximized, and the goal is to find a hyperplane that perfectly separates the classes without any misclassifications. This assumes that the data is linearly separable.\n",
    "Example: The following graph demonstrates a hard margin SVM with a linearly separable dataset:\n",
    "\n",
    "markdown\n",
    "Copy code\n",
    "      +     +\n",
    "    +   + +\n",
    "  +   +   +\n",
    "+   + +     +\n",
    "|    |   +\n",
    "|    |     Margin\n",
    "|    |\n",
    "Hyperplane  |\n",
    "            |\n",
    "    Red     |     Blue\n",
    "The hard margin SVM achieves a maximum margin by strictly enforcing that all data points are correctly classified and lie outside the margin boundaries.\n",
    "\n",
    "4. Soft Margin:\n",
    "In a soft margin SVM, some misclassifications are allowed to achieve a more flexible decision boundary. This is useful when the data is not perfectly separable or contains outliers. The margin is still maximized, but a certain level of misclassification is tolerated.\n",
    "Example: The following graph demonstrates a soft margin SVM with a dataset containing some overlapping points:\n",
    "\n",
    "markdown\n",
    "Copy code\n",
    "      +     +\n",
    "    +   + +\n",
    "  +   +   +\n",
    "+   + +     +\n",
    "|    |   +\n",
    "|  O |     Margin\n",
    "|    |\n",
    "Hyperplane  |\n",
    "            |\n",
    "    Red     |     Blue\n",
    "In a soft margin SVM, the margin may allow a few misclassified points (represented by 'O') or points that fall within the margin. The objective is to strike a balance between maximizing the margin and minimizing misclassifications."
   ]
  },
  {
   "cell_type": "markdown",
   "id": "7deb9338",
   "metadata": {},
   "source": [
    "# Q6. Ans"
   ]
  },
  {
   "cell_type": "code",
   "execution_count": 1,
   "id": "9b05c1fd",
   "metadata": {},
   "outputs": [
    {
     "name": "stdout",
     "output_type": "stream",
     "text": [
      "Accuracy: 0.9\n"
     ]
    },
    {
     "data": {
      "image/png": "[encoded data removed]",
      "text/plain": [
       "<Figure size 432x288 with 1 Axes>"
      ]
     },
     "metadata": {
      "needs_background": "light"
     },
     "output_type": "display_data"
    }
   ],
   "source": [
    "from sklearn.datasets import load_iris\n",
    "from sklearn.model_selection import train_test_split\n",
    "from sklearn.svm import SVC\n",
    "from sklearn.metrics import accuracy_score\n",
    "import matplotlib.pyplot as plt\n",
    "import numpy as np\n",
    "\n",
    "# Load the Iris dataset\n",
    "iris = load_iris()\n",
    "X = iris.data[:, :2]  # Select two features for simplicity\n",
    "y = iris.target\n",
    "\n",
    "# Split the dataset into training and testing sets\n",
    "X_train, X_test, y_train, y_test = train_test_split(X, y, test_size=0.2, random_state=42)\n",
    "\n",
    "# Train a linear SVM classifier\n",
    "svm = SVC(kernel='linear')\n",
    "svm.fit(X_train, y_train)\n",
    "\n",
    "# Predict labels for the testing set\n",
    "y_pred = svm.predict(X_test)\n",
    "\n",
    "# Compute accuracy\n",
    "accuracy = accuracy_score(y_test, y_pred)\n",
    "print(\"Accuracy:\", accuracy)\n",
    "\n",
    "# Plot decision boundaries\n",
    "h = 0.02  # Step size in the mesh\n",
    "x_min, x_max = X[:, 0].min() - 1, X[:, 0].max() + 1\n",
    "y_min, y_max = X[:, 1].min() - 1, X[:, 1].max() + 1\n",
    "xx, yy = np.meshgrid(np.arange(x_min, x_max, h), np.arange(y_min, y_max, h))\n",
    "Z = svm.predict(np.c_[xx.ravel(), yy.ravel()])\n",
    "\n",
    "# Put the result into a color plot\n",
    "Z = Z.reshape(xx.shape)\n",
    "plt.contourf(xx, yy, Z, cmap=plt.cm.Paired, alpha=0.8)\n",
    "\n",
    "# Plot the training points\n",
    "plt.scatter(X_train[:, 0], X_train[:, 1], c=y_train, cmap=plt.cm.Paired, edgecolors='k')\n",
    "plt.xlabel('Sepal length')\n",
    "plt.ylabel('Sepal width')\n",
    "plt.title('Decision boundaries of SVM')\n",
    "\n",
    "plt.show()\n"
   ]
  },
  {
   "cell_type": "code",
   "execution_count": 3,
   "id": "973b8238",
   "metadata": {},
   "outputs": [],
   "source": [
    "# Bonus Task\n",
    "\n",
    "import numpy as np\n",
    "\n",
    "class SVM:\n",
    "    def __init__(self, learning_rate=0.01, lambda_param=0.01, num_iterations=1000):\n",
    "        self.learning_rate = learning_rate\n",
    "        self.lambda_param = lambda_param\n",
    "        self.num_iterations = num_iterations\n",
    "        self.w = None\n",
    "        self.b = None\n",
    "    \n",
    "    def fit(self, X, y):\n",
    "        n_samples, n_features = X.shape\n",
    "\n",
    "        # Initialize parameters\n",
    "        self.w = np.zeros(n_features)\n",
    "        self.b = 0\n",
    "\n",
    "        # Gradient descent\n",
    "        for _ in range(self.num_iterations):\n",
    "            # Calculate the margins\n",
    "            margins = y * (np.dot(X, self.w) - self.b)\n",
    "            \n",
    "            # Select misclassified samples\n",
    "            misclassified_indices = np.where(margins < 1)[0]\n",
    "            \n",
    "            # Calculate gradients\n",
    "            w_gradient = self.w - self.lambda_param * np.dot(X[misclassified_indices].T, y[misclassified_indices])\n",
    "            b_gradient = -np.sum(y[misclassified_indices])\n",
    "            \n",
    "            # Update parameters\n",
    "            self.w -= self.learning_rate * w_gradient\n",
    "            self.b -= self.learning_rate * b_gradient\n",
    "    \n",
    "    def predict(self, X):\n",
    "        scores = np.dot(X, self.w) - self.b\n",
    "        return np.sign(scores)\n"
   ]
  },
  {
   "cell_type": "code",
   "execution_count": 4,
   "id": "a9f08011",
   "metadata": {},
   "outputs": [
    {
     "name": "stdout",
     "output_type": "stream",
     "text": [
      "Accuracy (from scratch): 0.0\n",
      "Accuracy (scikit-learn): 0.9\n"
     ]
    }
   ],
   "source": [
    "from sklearn.datasets import load_iris\n",
    "from sklearn.model_selection import train_test_split\n",
    "from sklearn.metrics import accuracy_score\n",
    "import matplotlib.pyplot as plt\n",
    "\n",
    "# Load the Iris dataset\n",
    "iris = load_iris()\n",
    "X = iris.data[:, :2]  # Select two features for simplicity\n",
    "y = iris.target\n",
    "\n",
    "# Split the dataset into training and testing sets\n",
    "X_train, X_test, y_train, y_test = train_test_split(X, y, test_size=0.2, random_state=42)\n",
    "\n",
    "# Create and fit the SVM classifier\n",
    "svm_scratch = SVM()\n",
    "svm_scratch.fit(X_train, y_train)\n",
    "\n",
    "# Predict labels for the testing set\n",
    "y_pred_scratch = svm_scratch.predict(X_test)\n",
    "\n",
    "# Compute accuracy\n",
    "accuracy_scratch = accuracy_score(y_test, y_pred_scratch)\n",
    "print(\"Accuracy (from scratch):\", accuracy_scratch)\n",
    "\n",
    "# Compare with scikit-learn implementation\n",
    "from sklearn.svm import SVC\n",
    "\n",
    "svm_sklearn = SVC(kernel='linear')\n",
    "svm_sklearn.fit(X_train, y_train)\n",
    "y_pred_sklearn = svm_sklearn.predict(X_test)\n",
    "accuracy_sklearn = accuracy_score(y_test, y_pred_sklearn)\n",
    "print(\"Accuracy (scikit-learn):\", accuracy_sklearn)\n"
   ]
  },
  {
   "cell_type": "code",
   "execution_count": null,
   "id": "67263644",
   "metadata": {},
   "outputs": [],
   "source": []
  }
 ],
 "metadata": {
  "kernelspec": {
   "display_name": "Python 3 (ipykernel)",
   "language": "python",
   "name": "python3"
  },
  "language_info": {
   "codemirror_mode": {
    "name": "ipython",
    "version": 3
   },
   "file_extension": ".py",
   "mimetype": "text/x-python",
   "name": "python",
   "nbconvert_exporter": "python",
   "pygments_lexer": "ipython3",
   "version": "3.9.12"
  }
 },
 "nbformat": 4,
 "nbformat_minor": 5
}
