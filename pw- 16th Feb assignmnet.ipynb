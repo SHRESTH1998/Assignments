{
 "cells": [
  {
   "cell_type": "markdown",
   "id": "169f3ce3",
   "metadata": {},
   "source": [
    "# Q1. Ans"
   ]
  },
  {
   "cell_type": "markdown",
   "id": "6ac83888",
   "metadata": {},
   "source": [
    "A database is an organized collection of structured information, or data, typically stored electronically in a computer system. A database is usually controlled by a database management system (DBMS). Together, the data and the DBMS, along with the applications that are associated with them, are referred to as a database system, often shortened to just database.\n",
    "\n",
    "Data within the most common types of databases in operation today is typically modeled in rows and columns in a series of tables to make processing and data querying efficient. The data can then be easily accessed, managed, modified, updated, controlled, and organized. Most databases use structured query language (SQL) for writing and querying data."
   ]
  },
  {
   "cell_type": "markdown",
   "id": "18529aa7",
   "metadata": {},
   "source": [
    "The Main Differences: \n",
    "\n",
    "1. Type – \n",
    "\n",
    "SQL databases are primarily called as Relational Databases (RDBMS); whereas NoSQL database are primarily called as non-relational or distributed database. \n",
    "\n",
    "2. Language –\n",
    "\n",
    "SQL databases defines and manipulates data based structured query language (SQL). Seeing from a side this language is extremely powerful. SQL is one of the most versatile and widely-used options available which makes it a safe choice especially for great complex queries.\n",
    "\n",
    "A NoSQL database has dynamic schema for unstructured data. Data is stored in many ways which means it can be document-oriented, column-oriented, graph-based or organized as a KeyValue store.\n",
    "\n",
    "3. Scalability – \n",
    "\n",
    "In almost all situations SQL databases are vertically scalable. This means that you can increase the load on a single server by increasing things like RAM, CPU or SSD. But on the other hand \n",
    "\n",
    "NoSQL databases are horizontally scalable. This means that you handle more traffic by sharding, or adding more servers in your NoSQL database.\n",
    "\n",
    "4. Structure – \n",
    "SQL databases are table-based, This makes relational SQL databases a better option for applications that require multi-row transactions such as an accounting system or for legacy systems that were built for a relational structure.\n",
    "\n",
    "On the other hand NoSQL databases are either key-value pairs, document-based, graph databases or wide-column stores. \n",
    "\n",
    "5. Property followed – \n",
    "SQL databases follow ACID properties (Atomicity, Consistency, Isolation and Durability) \n",
    "\n",
    "Whereas the NoSQL database follows the Brewers CAP theorem (Consistency, Availability and Partition tolerance). \n",
    "\n",
    "6. Support – \n",
    "Great support is available for all SQL database from their vendors. Also a lot of independent consultations are there who can help you with SQL database for a very large scale deployments.\n",
    "\n",
    "But for some NoSQL database you still have to rely on community support and only limited outside experts are available for setting up and deploying your large scale NoSQL deployments."
   ]
  },
  {
   "cell_type": "markdown",
   "id": "f99f85e0",
   "metadata": {},
   "source": [
    "# Q2. Ans"
   ]
  },
  {
   "cell_type": "markdown",
   "id": "aae3eb6d",
   "metadata": {},
   "source": [
    "Data Definition Language (DDL) is a subset of SQL. It is a language for describing data and its relationships in a database. You can generate DDL in a script for database objects to: Keep a snapshot of the database structure. Set up a test system where the database acts like the production system but contains no data."
   ]
  },
  {
   "cell_type": "markdown",
   "id": "aa017ccd",
   "metadata": {},
   "source": [
    "CREATE TABLE\n",
    "\n",
    "The CREATE TABLE command creates a new table in the database.\n",
    "\n",
    "The following SQL creates a table called \"Persons\" that contains five columns: PersonID, LastName, FirstName, Address, and City:"
   ]
  },
  {
   "cell_type": "code",
   "execution_count": null,
   "id": "9b07d504",
   "metadata": {},
   "outputs": [],
   "source": [
    "CREATE TABLE Persons (\n",
    "    PersonID int,\n",
    "    LastName varchar(255),\n",
    "    FirstName varchar(255),\n",
    "    Address varchar(255),\n",
    "    City varchar(255)\n",
    ");"
   ]
  },
  {
   "cell_type": "markdown",
   "id": "aca25f54",
   "metadata": {},
   "source": [
    "ALTER TABLE\n",
    "\n",
    "The ALTER TABLE command adds, deletes, or modifies columns in a table.\n",
    "\n",
    "The ALTER TABLE command also adds and deletes various constraints in a table.\n",
    "\n",
    "The following SQL adds an \"Email\" column to the \"Customers\" table:"
   ]
  },
  {
   "cell_type": "code",
   "execution_count": null,
   "id": "cbf90582",
   "metadata": {},
   "outputs": [],
   "source": [
    "ALTER TABLE Customers\n",
    "ADD Email varchar(255);"
   ]
  },
  {
   "cell_type": "markdown",
   "id": "3f1d289a",
   "metadata": {},
   "source": [
    "DROP TABLE\n",
    "\n",
    "The DROP TABLE command deletes a table in the database.\n",
    "\n",
    "The following SQL deletes the table \"Shippers\":"
   ]
  },
  {
   "cell_type": "code",
   "execution_count": null,
   "id": "5d126c8a",
   "metadata": {},
   "outputs": [],
   "source": [
    "DROP TABLE Shippers;"
   ]
  },
  {
   "cell_type": "markdown",
   "id": "e02e9420",
   "metadata": {},
   "source": [
    "TRUNCATE TABLE\n",
    "\n",
    "The TRUNCATE TABLE command deletes the data inside a table, but not the table itself.\n",
    "\n",
    "The following SQL truncates the table \"Categories\": "
   ]
  },
  {
   "cell_type": "code",
   "execution_count": null,
   "id": "d929dcd8",
   "metadata": {},
   "outputs": [],
   "source": [
    "TRUNCATE TABLE Categories;"
   ]
  },
  {
   "cell_type": "markdown",
   "id": "8f85b09e",
   "metadata": {},
   "source": [
    "# Q3. Ans"
   ]
  },
  {
   "cell_type": "markdown",
   "id": "a1a780b2",
   "metadata": {},
   "source": [
    "A DML (data manipulation language) refers to a computer programming language that allows you to add (insert), delete (delete), and alter (update) data in a database. A DML is typically a sublanguage of a larger database language like SQL, with the DML containing some of the language's operators."
   ]
  },
  {
   "cell_type": "markdown",
   "id": "40ae79dc",
   "metadata": {},
   "source": [
    "INSERT\n",
    "\n",
    "INSERT is your go-to for adding single or multiple rows to a table. INSERT can also help with adding rows from one table into another table.\n",
    "\n",
    "Ex:"
   ]
  },
  {
   "cell_type": "code",
   "execution_count": null,
   "id": "61d3699b",
   "metadata": {},
   "outputs": [],
   "source": [
    "INSERT INTO tableName\n",
    "(column1, column2, ...)\n",
    "VALUES (value1, value2, ...)"
   ]
  },
  {
   "cell_type": "markdown",
   "id": "4b6e5139",
   "metadata": {},
   "source": [
    "UPDATE\n",
    "\n",
    "The SQL UPDATE statement is another common task used by data engineers and database administrators. Use it to change a column value for one or multiple rows.\n",
    "\n",
    "Ex:"
   ]
  },
  {
   "cell_type": "code",
   "execution_count": null,
   "id": "ed8f6b47",
   "metadata": {},
   "outputs": [],
   "source": [
    "UPDATE tableName\n",
    "SET column1=value1, column2=value2,...\n",
    "WHERE filterColumn=filterValue"
   ]
  },
  {
   "cell_type": "markdown",
   "id": "cb5257d4",
   "metadata": {},
   "source": [
    "DELETE\n",
    "\n",
    "DELETE removes one or multiple rows from a table, but be careful! You need to make sure you know what you're deleting before you go ahead and commit to the statement!\n",
    "\n",
    "Ex:"
   ]
  },
  {
   "cell_type": "code",
   "execution_count": null,
   "id": "ca7a23ac",
   "metadata": {},
   "outputs": [],
   "source": [
    "DELETE tableName\n",
    "WHERE  filterColumn=filterValue;"
   ]
  },
  {
   "cell_type": "markdown",
   "id": "e21b6581",
   "metadata": {},
   "source": [
    "# Q4. Ans"
   ]
  },
  {
   "cell_type": "markdown",
   "id": "72369f88",
   "metadata": {},
   "source": [
    "Query languages, often known as DQLs or Data Query Languages, are computer languages that are used to make various queries in information systems and databases."
   ]
  },
  {
   "cell_type": "markdown",
   "id": "0163254d",
   "metadata": {},
   "source": [
    "Select command is used to fetch the data in a set of records from a table, view or a group of tables, views by making use of SQL joins. The simplest example of a select statement where in a user wants to, retrieve all the records of a table, can be performed by using '*'."
   ]
  },
  {
   "cell_type": "code",
   "execution_count": null,
   "id": "f86f2878",
   "metadata": {},
   "outputs": [],
   "source": [
    "Step 1\n",
    "\n",
    "create table student(name char(30), regno number(10), branch char(20), age char(10))\n",
    "\n",
    "Step 2\n",
    "\n",
    "insert into student values(‘hari’,100,’CSE’, 15);\n",
    "\n",
    "Step 3\n",
    "\n",
    "insert into student values(‘pinky’,101,’CSE’,17);\n",
    "\n",
    "Step 4\n",
    "\n",
    "insert into student values(‘bob’,102,’CSE’,14);\n",
    "\n",
    "Step 5\n",
    "\n",
    "insert into student values(‘bhanu’,103,’CSE’,18);\n",
    "\n",
    "Step 6\n",
    "\n",
    "SELECT * FROM student where age>15 and age<20;\n",
    "(OR)\n",
    "SELECT * FROM student where age between 15 and 20;"
   ]
  },
  {
   "cell_type": "markdown",
   "id": "cd11a285",
   "metadata": {},
   "source": [
    "# The output is as follows −\n",
    "\n",
    "Name\tRegno\tBranch\tAge\n",
    "Pinky\t101\t     CSE\t17\n",
    "Bhanu\t103\t     CSE\t18"
   ]
  },
  {
   "cell_type": "markdown",
   "id": "b21dd7f2",
   "metadata": {},
   "source": [
    "# Q5. Ans"
   ]
  },
  {
   "cell_type": "markdown",
   "id": "6e29ff71",
   "metadata": {},
   "source": [
    "A primary key generally focuses on the uniqueness of the table. It is a column or a set of columns that uniquely distinguishes every row in the database. It means it should not have any duplicate value. Also, it doesn’t contain a NULL value"
   ]
  },
  {
   "cell_type": "markdown",
   "id": "8d17fc3a",
   "metadata": {},
   "source": [
    "A foreign key is generally used to build a relationship between the two tables. The major purpose of the foreign key is to sustain data integrity between two separate instances of an entity."
   ]
  },
  {
   "cell_type": "markdown",
   "id": "70f81fcf",
   "metadata": {},
   "source": [
    "# Q6. Ans"
   ]
  },
  {
   "cell_type": "code",
   "execution_count": 2,
   "id": "eef2c2cf",
   "metadata": {},
   "outputs": [
    {
     "ename": "ModuleNotFoundError",
     "evalue": "No module named 'Mysql'",
     "output_type": "error",
     "traceback": [
      "\u001b[1;31m---------------------------------------------------------------------------\u001b[0m",
      "\u001b[1;31mModuleNotFoundError\u001b[0m                       Traceback (most recent call last)",
      "Input \u001b[1;32mIn [2]\u001b[0m, in \u001b[0;36m<cell line: 1>\u001b[1;34m()\u001b[0m\n\u001b[1;32m----> 1\u001b[0m \u001b[38;5;28;01mimport\u001b[39;00m \u001b[38;5;21;01mMysql\u001b[39;00m\u001b[38;5;21;01m.\u001b[39;00m\u001b[38;5;21;01mconnector\u001b[39;00m\n\u001b[0;32m      3\u001b[0m \u001b[38;5;66;03m# Establishing a connection\u001b[39;00m\n\u001b[0;32m      4\u001b[0m connection \u001b[38;5;241m=\u001b[39m mysql\u001b[38;5;241m.\u001b[39mconnector\u001b[38;5;241m.\u001b[39mconnect(\n\u001b[0;32m      5\u001b[0m     host\u001b[38;5;241m=\u001b[39m\u001b[38;5;124m\"\u001b[39m\u001b[38;5;124mlocalhost\u001b[39m\u001b[38;5;124m\"\u001b[39m,\n\u001b[0;32m      6\u001b[0m     user\u001b[38;5;241m=\u001b[39m\u001b[38;5;124m\"\u001b[39m\u001b[38;5;124myour_username\u001b[39m\u001b[38;5;124m\"\u001b[39m,\n\u001b[0;32m      7\u001b[0m     password\u001b[38;5;241m=\u001b[39m\u001b[38;5;124m\"\u001b[39m\u001b[38;5;124myour_password\u001b[39m\u001b[38;5;124m\"\u001b[39m,\n\u001b[0;32m      8\u001b[0m     database\u001b[38;5;241m=\u001b[39m\u001b[38;5;124m\"\u001b[39m\u001b[38;5;124myour_database\u001b[39m\u001b[38;5;124m\"\u001b[39m\n\u001b[0;32m      9\u001b[0m )\n",
      "\u001b[1;31mModuleNotFoundError\u001b[0m: No module named 'Mysql'"
     ]
    }
   ],
   "source": [
    "import Mysql.connector\n",
    "\n",
    "# Establishing a connection\n",
    "connection = mysql.connector.connect(\n",
    "    host=\"localhost\",\n",
    "    user=\"your_username\",\n",
    "    password=\"your_password\",\n",
    "    database=\"your_database\"\n",
    ")\n",
    "\n",
    "# Creating a cursor object\n",
    "cursor = connection.cursor()\n",
    "\n",
    "# Executing SQL queries\n",
    "cursor.execute(\"SELECT * FROM your_table\")\n",
    "result = cursor.fetchall()\n",
    "\n",
    "# Fetching and printing the data\n",
    "for row in result:\n",
    "    print(row)\n",
    "\n",
    "# Closing the cursor and connection\n",
    "cursor.close()\n",
    "connection.close()\n"
   ]
  },
  {
   "cell_type": "markdown",
   "id": "d631057b",
   "metadata": {},
   "source": [
    "The cursor() method creates a cursor object that allows you to execute SQL queries and fetch results from the database.\n",
    "\n",
    "The execute() method is called on the cursor object and is used to execute SQL queries. It takes the SQL query as a string parameter and sends the query to the MySQL server for execution."
   ]
  },
  {
   "cell_type": "markdown",
   "id": "81494be3",
   "metadata": {},
   "source": [
    "# Q7. Ans"
   ]
  },
  {
   "cell_type": "markdown",
   "id": "2fc3126d",
   "metadata": {},
   "source": [
    "Order\tClause\tFunction\n",
    "1\tFROM\t    Tables are joined to get the base data.\n",
    "2\tWHERE\t    The base data is filtered.\n",
    "3\tGROUP BY\tThe filtered base data is grouped.\n",
    "4\tHAVING\t    The grouped base data is filtered.\n",
    "5\tSELECT\t    The final data is returned.\n",
    "6\tORDER BY\tThe final data is sorted.\n",
    "7\tLIMIT\t    The returned data is limited to row count."
   ]
  }
 ],
 "metadata": {
  "kernelspec": {
   "display_name": "Python 3 (ipykernel)",
   "language": "python",
   "name": "python3"
  },
  "language_info": {
   "codemirror_mode": {
    "name": "ipython",
    "version": 3
   },
   "file_extension": ".py",
   "mimetype": "text/x-python",
   "name": "python",
   "nbconvert_exporter": "python",
   "pygments_lexer": "ipython3",
   "version": "3.9.12"
  }
 },
 "nbformat": 4,
 "nbformat_minor": 5
}
