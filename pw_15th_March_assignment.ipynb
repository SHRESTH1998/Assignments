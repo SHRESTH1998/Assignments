{
  "cells": [
    {
      "cell_type": "markdown",
      "id": "bedbc1f0-f652-4311-a354-09123f121633",
      "metadata": {
        "id": "bedbc1f0-f652-4311-a354-09123f121633"
      },
      "source": [
        "Q1. Ans"
      ]
    },
    {
      "cell_type": "markdown",
      "id": "1c41aa0b-76b8-444b-971a-90d8d646006f",
      "metadata": {
        "id": "1c41aa0b-76b8-444b-971a-90d8d646006f"
      },
      "source": [
        "Artificial intelligence is the simulation of human intelligence processes by machines, especially computer systems. Specific applications of AI include expert systems, natural language processing, speech recognition and machine vision.\n",
        "\n",
        "Ex:\n",
        "1. Maps and Navigation. AI has drastically improved traveling.\n",
        "2. Facial Detection and Recognition.\n",
        "3. Text Editors or Autocorrect.\n",
        "4. Search and Recommendation Algorithms.\n",
        "5. Chatbots.\n",
        "6. Digital Assistants.\n",
        "7. Social Media.\n",
        "8. E-Payments."
      ]
    },
    {
      "cell_type": "markdown",
      "id": "234521fc-0d52-4601-9759-25758c05cd52",
      "metadata": {
        "id": "234521fc-0d52-4601-9759-25758c05cd52"
      },
      "source": [
        "Machine learning is a branch of artificial intelligence (AI) and computer science which focuses on the use of data and algorithms to imitate the way that humans learn, gradually improving its accuracy.\n",
        "\n",
        "Ex:\n",
        "An algorithm would be trained with pictures of dogs and other things, all labeled by humans, and the machine would learn ways to identify pictures of dogs on its own."
      ]
    },
    {
      "cell_type": "markdown",
      "id": "1773666a-16f2-4cfe-a748-da9e15af4307",
      "metadata": {
        "id": "1773666a-16f2-4cfe-a748-da9e15af4307"
      },
      "source": [
        "Deep learning is a method in artificial intelligence (AI) that teaches computers to process data in a way that is inspired by the human brain. Deep learning models can recognize complex patterns in pictures, text, sounds, and other data to produce accurate insights and predictions.\n",
        "\n",
        "Examples of Deep Learning at Work\n",
        "Aerospace and Defense: Deep learning is used to identify objects from satellites that locate areas of interest, and identify safe or unsafe zones for troops. Medical Research: Cancer researchers are using deep learning to automatically detect cancer cells."
      ]
    },
    {
      "cell_type": "markdown",
      "id": "09738e4f-ec0a-4ec8-9221-abf32b71a1f0",
      "metadata": {
        "id": "09738e4f-ec0a-4ec8-9221-abf32b71a1f0"
      },
      "source": [
        "Q2. Ans"
      ]
    },
    {
      "cell_type": "markdown",
      "id": "9c680663-c817-4eea-9f4a-1ef7bfae14d2",
      "metadata": {
        "id": "9c680663-c817-4eea-9f4a-1ef7bfae14d2"
      },
      "source": [
        "Supervised learning is defined as machine learning model training technique in which the machine learning models are trained by providing them with example inputs and their corresponding outputs.\n",
        "The most commonly used Supervised Learning algorithms are decision tree, logistic regression, linear regression, support vector machine.\n",
        "\n",
        "Supervised Learning is used in areas of risk assessment, image classification, fraud detection, visual recognition, etc."
      ]
    },
    {
      "cell_type": "markdown",
      "id": "65573fd0-24ec-4baf-90bf-df52dc8781bb",
      "metadata": {
        "id": "65573fd0-24ec-4baf-90bf-df52dc8781bb"
      },
      "source": [
        "Q3. Ans"
      ]
    },
    {
      "cell_type": "markdown",
      "id": "db3c6ce8-00f4-46af-8428-125202312649",
      "metadata": {
        "id": "db3c6ce8-00f4-46af-8428-125202312649"
      },
      "source": [
        "Unsupervised Learning is a type of machine learning in which the algorithms are provided with data that does not contain any labels or explicit instructions on what to do with it. The goal is for the learning algorithm to find structure in the input data on its own.\n",
        "The most commonly used Unsupervised Learning algorithms are k-means clustering, hierarchical clustering, and apriori algorithm.\n",
        "\n",
        "Unsupervised Learning models can perform more complex tasks than Supervised Learning models, but they are also more unpredictable. Here are the main tasks that utilize this approach.\n",
        "\n",
        "1. Clustering\n",
        "2. Association\n",
        "3. Dimensionality reduction\n",
        "\n",
        "Unsupervised Learning areas of application include market basket analysis, semantic clustering, recommender systems, etc."
      ]
    },
    {
      "cell_type": "markdown",
      "id": "d71812c0-4680-4ee3-bfc0-cad496f22199",
      "metadata": {
        "id": "d71812c0-4680-4ee3-bfc0-cad496f22199"
      },
      "source": [
        "Q4. Ans"
      ]
    },
    {
      "cell_type": "markdown",
      "id": "f17afb37-a8fd-4687-a27c-2239d52f9aa7",
      "metadata": {
        "id": "f17afb37-a8fd-4687-a27c-2239d52f9aa7"
      },
      "source": [
        "Artificial Intelligence (AI) enables machines to think by understanding, learning from the data, and taking decisions based on patterns hidden in the data or make inferences that would otherwise be very difficult for humans to make manually. The end goal of using ML or DL is to create an AI application or machine as smart as humans.\n",
        "\n",
        "Machine Learning (ML) is a subset of AI; it provides us statistical tools/techniques like Supervised, Unsupervised, and Reinforcement learning to explore and analyze the data.\n",
        "\n",
        "Deep Learning (DL) is further a subset of ML, and the main idea behind it is to make machines learn by mimicking the human brain. Here, we create a multi neural network architecture with the help of different techniques like ANN, CNN, and RNN.\n",
        "\n",
        "Data Science (DS) is basically drawing insights from structured and unstructured data either by using ML or DL or without these techniques. We can even use different visualization tools, statistics, and probability to gain these insights."
      ]
    },
    {
      "cell_type": "markdown",
      "id": "7c1813a4-a4dc-4620-82df-8f71d62a511b",
      "metadata": {
        "id": "7c1813a4-a4dc-4620-82df-8f71d62a511b"
      },
      "source": [
        "Q5. Ans"
      ]
    },
    {
      "cell_type": "markdown",
      "id": "b73b3268-5875-44fc-9f7b-0f2e7e802aae",
      "metadata": {
        "id": "b73b3268-5875-44fc-9f7b-0f2e7e802aae"
      },
      "source": [
        "Supervised learning aims to learn a function that, given a sample of data and desired outputs, approximates a function that maps inputs to outputs.\n",
        "\n",
        "Semi-supervised learning aims to label unlabeled data points using knowledge learned from a small number of labeled data points.\n",
        "\n",
        "Unsupervised learning does not have (or need) any labeled outputs, so its goal is to infer the natural structure present within a set of data points."
      ]
    },
    {
      "cell_type": "markdown",
      "id": "f9c3b276-4284-4f0a-8411-f37c0558a8da",
      "metadata": {
        "id": "f9c3b276-4284-4f0a-8411-f37c0558a8da"
      },
      "source": [
        "Q6. Ans"
      ]
    },
    {
      "cell_type": "markdown",
      "id": "0acd6753-5d0a-492c-9df7-63d9997d3a82",
      "metadata": {
        "id": "0acd6753-5d0a-492c-9df7-63d9997d3a82"
      },
      "source": [
        "The Training Set\n",
        "It is the set of data that is used to train and make the model learn the hidden features/patterns in the data.\n",
        "In each epoch, the same training data is fed to the neural network architecture repeatedly, and the model continues to learn the features of the data.\n",
        "The training set should have a diversified set of inputs so that the model is trained in all scenarios and can predict any unseen data sample that may appear in the future.\n",
        "\n",
        "The Split Validation\n",
        "Split Validation is a way to predict the fit of a model to a hypothetical testing set when an explicit testing set is not available. The Split Validation operator also allows training on one data set and testing on another explicit testing data set.\n",
        "\n",
        "The Test Set\n",
        "The test set is a separate set of data used to test the model after completing the training.\n",
        "It provides an unbiased final model performance metric in terms of accuracy, precision, etc. To put it simply, it answers the question of \"How well does the model perform?\n",
        "\n",
        "Importance of each of them\n",
        "Data splitting is an important aspect of data science, particularly for creating models based on data. This technique helps ensure the creation of data models and processes that use data models -- such as machine learning -- are accurate.\n",
        "\n",
        "Test data is very important in testing, because it determines if an application works as expected and it also helps in catching bugs if the data entered is alphanumeric but the requirements only says it should only accept numbers then the application did not throw an error."
      ]
    },
    {
      "cell_type": "markdown",
      "id": "e087632f-6dac-45e4-918b-fea04b3fc665",
      "metadata": {
        "id": "e087632f-6dac-45e4-918b-fea04b3fc665"
      },
      "source": [
        "Q7. Ans"
      ]
    },
    {
      "cell_type": "markdown",
      "id": "909a2ad0-e776-42c2-bc0c-4184d1cfa78f",
      "metadata": {
        "id": "909a2ad0-e776-42c2-bc0c-4184d1cfa78f"
      },
      "source": [
        "Unsupervised is useful when the data is unlabeled and thus requires less work to process the data set before- hand. Anomaly detection techniques of unsupervised nature assume that normal data points occur considerably more frequently than anomalous data points."
      ]
    },
    {
      "cell_type": "markdown",
      "id": "be6194bb-b9c7-4794-9a2b-393797b2f85e",
      "metadata": {
        "id": "be6194bb-b9c7-4794-9a2b-393797b2f85e"
      },
      "source": [
        "Q8. Ans"
      ]
    },
    {
      "cell_type": "markdown",
      "id": "c6989c84-a072-4c08-a921-1f43fe7ffae9",
      "metadata": {
        "id": "c6989c84-a072-4c08-a921-1f43fe7ffae9"
      },
      "source": [
        "The most commonly used Supervised Learning algorithms are decision tree, logistic regression, linear regression, support vector machine. The most commonly used Unsupervised Learning algorithms are k-means clustering, hierarchical clustering, and apriori algorithm."
      ]
    }
  ],
  "metadata": {
    "kernelspec": {
      "display_name": "Python 3 (ipykernel)",
      "language": "python",
      "name": "python3"
    },
    "language_info": {
      "codemirror_mode": {
        "name": "ipython",
        "version": 3
      },
      "file_extension": ".py",
      "mimetype": "text/x-python",
      "name": "python",
      "nbconvert_exporter": "python",
      "pygments_lexer": "ipython3",
      "version": "3.10.8"
    },
    "colab": {
      "provenance": []
    }
  },
  "nbformat": 4,
  "nbformat_minor": 5
}