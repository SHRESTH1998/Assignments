{
  "cells": [
    {
      "cell_type": "markdown",
      "id": "8bac18e2-1854-4032-b275-f5447ec1cc7f",
      "metadata": {
        "id": "8bac18e2-1854-4032-b275-f5447ec1cc7f"
      },
      "source": [
        "Q1. Ans"
      ]
    },
    {
      "cell_type": "markdown",
      "id": "8186e825-b96a-47fc-a433-1e9ad3754dd7",
      "metadata": {
        "id": "8186e825-b96a-47fc-a433-1e9ad3754dd7"
      },
      "source": [
        "A z-test is used to test a Null Hypothesis if the population variance is known, or if the sample size is larger than 30, for an unknown population variance. A t-test is used when the sample size is less than 30 and the population variance is unknown.\n",
        "\n",
        "Example 1: A teacher claims that the mean score of students in his class is greater than 82 with a standard deviation of 20. If a sample of 81 students was selected with a mean score of 90 then check if there is enough evidence to support this claim at a 0.05 significance level.\n",
        "\n",
        "You want to know whether the mean petal length of iris flowers differs according to their species. You find two different species of irises growing in a garden and measure 25 petals of each species. You can test the difference between these two groups using a t test and null and alterative hypotheses.\n",
        "The null hypothesis (H0) is that the true difference between these group means is zero.\n",
        "The alternate hypothesis (Ha) is that the true difference is different from zero."
      ]
    },
    {
      "cell_type": "markdown",
      "id": "7b6a5a4f-da39-4264-92a5-8633c6055abf",
      "metadata": {
        "id": "7b6a5a4f-da39-4264-92a5-8633c6055abf"
      },
      "source": [
        "Q2. Ans"
      ]
    },
    {
      "cell_type": "markdown",
      "id": "aad3313f-fc1c-4567-8636-e4112e69d654",
      "metadata": {
        "id": "aad3313f-fc1c-4567-8636-e4112e69d654"
      },
      "source": [
        "The main difference between one-tailed and two-tailed tests is that one-tailed tests will only have one critical region whereas two-tailed tests will have two critical regions. If we require a 100(1−α) 100 ( 1 − α ) % confidence interval we have to make some adjustments when using a two-tailed test."
      ]
    },
    {
      "cell_type": "markdown",
      "id": "acd595f4-20ec-404e-b447-3847436c5ac1",
      "metadata": {
        "id": "acd595f4-20ec-404e-b447-3847436c5ac1"
      },
      "source": [
        "Q3. Ans"
      ]
    },
    {
      "cell_type": "markdown",
      "id": "691f5897-2b45-40de-98a5-ff6ed7535ff6",
      "metadata": {
        "id": "691f5897-2b45-40de-98a5-ff6ed7535ff6"
      },
      "source": [
        "A Type I error means rejecting the null hypothesis when it’s actually true. It means concluding that results are statistically significant when, in reality, they came about purely by chance or because of unrelated factors.\n",
        "\n",
        "A Type II error means not rejecting the null hypothesis when it’s actually false. This is not quite the same as “accepting” the null hypothesis, because hypothesis testing can only tell you whether to reject the null hypothesis.\n",
        "\n",
        "Example: Type I and Type II errors\n",
        "A Type I error happens when you get false positive results: you conclude that the drug intervention improved symptoms when it actually didn’t. These improvements could have arisen from other random factors or measurement errors.\n",
        "A Type II error happens when you get false negative results: you conclude that the drug intervention didn’t improve symptoms when it actually did. Your study may have missed key indicators of improvements or attributed any improvements to other factors instead."
      ]
    },
    {
      "cell_type": "markdown",
      "id": "f6211e33-f398-4b76-95d9-e9a2cb31b2db",
      "metadata": {
        "id": "f6211e33-f398-4b76-95d9-e9a2cb31b2db"
      },
      "source": [
        "Q4. Ans"
      ]
    },
    {
      "cell_type": "markdown",
      "id": "6234fdd7-71bd-485f-91a2-efea36a46903",
      "metadata": {
        "id": "6234fdd7-71bd-485f-91a2-efea36a46903"
      },
      "source": [
        "Bayes theorem gives the probability of an “event” with the given information on “tests”. There is a difference between “events” and “tests”. For example there is a test for liver disease, which is different from actually having the liver disease, i.e. an event. Rare events might be having a higher false positive rate."
      ]
    },
    {
      "cell_type": "markdown",
      "id": "ecac1905-9307-485f-b5e1-6b30585baa85",
      "metadata": {
        "id": "ecac1905-9307-485f-b5e1-6b30585baa85"
      },
      "source": [
        "Q5. Ans"
      ]
    },
    {
      "cell_type": "markdown",
      "id": "04476a46-e929-4f77-be77-3ad3fa0d4d49",
      "metadata": {
        "id": "04476a46-e929-4f77-be77-3ad3fa0d4d49"
      },
      "source": [
        "A confidence interval is the mean of your estimate plus and minus the variation in that estimate. This is the range of values you expect your estimate to fall between if you redo your test, within a certain level of confidence. Confidence, in statistics, is another way to describe probability.\n",
        "\n",
        "For example, if you construct a confidence interval with a 95% confidence level, you are confident that 95 out of 100 times the estimate will fall between the upper and lower values specified by the confidence interval.\n",
        "\n",
        "Once the standard error is calculated, the confidence interval is determined by multiplying the standard error by a constant that reflects the level of significance desired, based on the normal distribution. The constant for 95 percent confidence intervals is 1.96."
      ]
    },
    {
      "cell_type": "markdown",
      "id": "9bc75c26-f8d1-4031-9bfe-8c7df9a81d51",
      "metadata": {
        "id": "9bc75c26-f8d1-4031-9bfe-8c7df9a81d51"
      },
      "source": [
        "Q6. Ans"
      ]
    },
    {
      "cell_type": "markdown",
      "source": [
        "Bayes' Theorem is a fundamental concept in probability theory that allows us to update the probability of an event occurring based on new evidence or information. It is expressed as:\n",
        "\n",
        "P(A|B) = (P(B|A) * P(A)) / P(B)\n",
        "\n",
        "where:\n",
        "\n",
        "P(A|B) is the probability of event A occurring given the new evidence B.\n",
        "P(B|A) is the probability of the evidence B occurring given that event A has occurred.\n",
        "P(A) is the prior probability of event A occurring.\n",
        "P(B) is the prior probability of the evidence B occurring.\n",
        "To illustrate Bayes' Theorem, let's consider a sample problem:\n",
        "\n",
        "Problem:\n",
        "A factory produces two types of products, Type A and Type B. Based on historical data, it is known that 80% of the products are Type A and 20% are Type B. It is also known that the defective rate for Type A products is 5% and for Type B products is 10%. If a randomly selected product is found to be defective, what is the probability that it is a Type A product?\n",
        "\n",
        "Solution:\n",
        "Let's calculate the probability of a product being Type A given that it is defective, using Bayes' Theorem.\n",
        "\n",
        "Given information:\n",
        "P(Type A) = 0.80 (prior probability of Type A product)\n",
        "P(Type B) = 0.20 (prior probability of Type B product)\n",
        "P(Defective | Type A) = 0.05 (probability of a defective product given that it is Type A)\n",
        "P(Defective | Type B) = 0.10 (probability of a defective product given that it is Type B)\n",
        "\n",
        "We want to find:\n",
        "P(Type A | Defective) (probability of Type A given that the product is defective)\n",
        "\n",
        "Using Bayes' Theorem:\n",
        "P(Type A | Defective) = (P(Defective | Type A) * P(Type A)) / P(Defective)\n",
        "\n",
        "First, let's calculate P(Defective):\n",
        "P(Defective) = P(Defective | Type A) * P(Type A) + P(Defective | Type B) * P(Type B)\n",
        "P(Defective) = 0.05 * 0.80 + 0.10 * 0.20\n",
        "P(Defective) = 0.04 + 0.02\n",
        "P(Defective) = 0.06\n",
        "\n",
        "Now, substitute the values into Bayes' Theorem:\n",
        "P(Type A | Defective) = (0.05 * 0.80) / 0.06\n",
        "P(Type A | Defective) = 0.04 / 0.06\n",
        "P(Type A | Defective) ≈ 0.67\n",
        "\n",
        "Therefore, the probability that a defective product is of Type A is approximately 0.67 or 67%."
      ],
      "metadata": {
        "id": "pF0P2iX96btO"
      },
      "id": "pF0P2iX96btO"
    },
    {
      "cell_type": "markdown",
      "id": "f3210adf-d813-4cb1-b8d0-3add241d0c01",
      "metadata": {
        "id": "f3210adf-d813-4cb1-b8d0-3add241d0c01"
      },
      "source": [
        "Q7. Ans"
      ]
    },
    {
      "cell_type": "code",
      "execution_count": 1,
      "id": "95e842e5-3d98-4a0e-855c-f715b2017007",
      "metadata": {
        "colab": {
          "base_uri": "https://localhost:8080/"
        },
        "id": "95e842e5-3d98-4a0e-855c-f715b2017007",
        "outputId": "4ed92b33-91dc-45c3-b41c-467711ae4955"
      },
      "outputs": [
        {
          "output_type": "stream",
          "name": "stdout",
          "text": [
            "95% Confidence Interval: [40.20, 59.80]\n"
          ]
        }
      ],
      "source": [
        "import math\n",
        "\n",
        "sample_mean = 50  # Sample mean\n",
        "standard_deviation = 5  # Standard deviation\n",
        "sample_size = 1  # Sample size\n",
        "\n",
        "# Calculate the critical value\n",
        "critical_value = 1.96  # for a 95% confidence level\n",
        "\n",
        "# Calculate the margin of error\n",
        "margin_of_error = critical_value * (standard_deviation / math.sqrt(sample_size))\n",
        "\n",
        "# Calculate the confidence interval\n",
        "lower_bound = sample_mean - margin_of_error\n",
        "upper_bound = sample_mean + margin_of_error\n",
        "\n",
        "# Print the confidence interval\n",
        "print(\"95% Confidence Interval: [{:.2f}, {:.2f}]\".format(lower_bound, upper_bound))\n"
      ]
    },
    {
      "cell_type": "markdown",
      "id": "fd276048-b439-4736-8905-e61d492ea22c",
      "metadata": {
        "id": "fd276048-b439-4736-8905-e61d492ea22c"
      },
      "source": [
        "Q8.Ans"
      ]
    },
    {
      "cell_type": "markdown",
      "id": "fd2b2c27-d5ee-4550-a750-7988b67a9c3f",
      "metadata": {
        "id": "fd2b2c27-d5ee-4550-a750-7988b67a9c3f"
      },
      "source": [
        "A margin of error tells you how many percentage points your results will differ from the real population value. For example, a 95% confidence interval with a 4 percent margin of error means that your statistic will be within 4 percentage points of the real population value 95% of the time.\n",
        "\n",
        "It is intuitive that a greater sample size will be a closer representative of the population than a smaller sample size. Hence, the larger the sample size, the smaller the sample standard error and therefore the smaller the margin of error."
      ]
    },
    {
      "cell_type": "markdown",
      "source": [
        "Q9. Ans"
      ],
      "metadata": {
        "id": "A1cJK4rk7Ksh"
      },
      "id": "A1cJK4rk7Ksh"
    },
    {
      "cell_type": "code",
      "execution_count": 2,
      "id": "a6b145b0-0c75-4dc4-83ea-31652007df3b",
      "metadata": {
        "colab": {
          "base_uri": "https://localhost:8080/"
        },
        "id": "a6b145b0-0c75-4dc4-83ea-31652007df3b",
        "outputId": "493d6fb0-5aab-435f-f768-7cf2169444a3"
      },
      "outputs": [
        {
          "output_type": "stream",
          "name": "stdout",
          "text": [
            "Z-score: 1.0\n"
          ]
        }
      ],
      "source": [
        "data_point = 75\n",
        "population_mean = 70\n",
        "population_std_dev = 5\n",
        "\n",
        "z_score = (data_point - population_mean) / population_std_dev\n",
        "\n",
        "print(\"Z-score:\", z_score)\n"
      ]
    },
    {
      "cell_type": "markdown",
      "source": [
        "Q10. Ans"
      ],
      "metadata": {
        "id": "XoLnaCX47Pyk"
      },
      "id": "XoLnaCX47Pyk"
    },
    {
      "cell_type": "code",
      "execution_count": 3,
      "id": "c33b67ef-8c91-48a5-85c0-c0789d43e358",
      "metadata": {
        "colab": {
          "base_uri": "https://localhost:8080/"
        },
        "id": "c33b67ef-8c91-48a5-85c0-c0789d43e358",
        "outputId": "f6be5936-8559-46de-871e-9bfdfd9cdaa0"
      },
      "outputs": [
        {
          "output_type": "stream",
          "name": "stdout",
          "text": [
            "Reject the null hypothesis. The weight loss drug is significantly effective.\n",
            "T-statistic: 16.970562748477143\n",
            "Critical value: 1.6765508919142629\n",
            "P-value: 0.0\n"
          ]
        }
      ],
      "source": [
        "import scipy.stats as stats\n",
        "\n",
        "sample_mean = 6  # Sample mean weight loss\n",
        "sample_std_dev = 2.5  # Sample standard deviation\n",
        "sample_size = 50  # Sample size\n",
        "confidence_level = 0.95  # Confidence level\n",
        "\n",
        "# Calculate the degrees of freedom\n",
        "degrees_of_freedom = sample_size - 1\n",
        "\n",
        "# Calculate the critical value\n",
        "critical_value = stats.t.ppf(confidence_level, df=degrees_of_freedom)\n",
        "\n",
        "# Calculate the t-statistic\n",
        "t_statistic = (sample_mean - 0) / (sample_std_dev / (sample_size ** 0.5))\n",
        "\n",
        "# Calculate the p-value\n",
        "p_value = 1 - stats.t.cdf(t_statistic, df=degrees_of_freedom)\n",
        "\n",
        "# Compare the p-value with the significance level and make a decision\n",
        "if p_value < (1 - confidence_level):\n",
        "    print(\"Reject the null hypothesis. The weight loss drug is significantly effective.\")\n",
        "else:\n",
        "    print(\"Fail to reject the null hypothesis. The weight loss drug is not significantly effective.\")\n",
        "\n",
        "# Print the t-statistic, critical value, and p-value\n",
        "print(\"T-statistic:\", t_statistic)\n",
        "print(\"Critical value:\", critical_value)\n",
        "print(\"P-value:\", p_value)\n"
      ]
    },
    {
      "cell_type": "markdown",
      "source": [
        "Q11. Ans"
      ],
      "metadata": {
        "id": "L4x2Q2mL7lFR"
      },
      "id": "L4x2Q2mL7lFR"
    },
    {
      "cell_type": "code",
      "source": [
        "import math\n",
        "\n",
        "sample_size = 500  # Sample size\n",
        "sample_proportion = 0.65  # Sample proportion of satisfaction\n",
        "confidence_level = 0.95  # Confidence level\n",
        "\n",
        "# Calculate the critical value\n",
        "critical_value = 1.96  # for a 95% confidence level\n",
        "\n",
        "# Calculate the standard error\n",
        "standard_error = math.sqrt((sample_proportion * (1 - sample_proportion)) / sample_size)\n",
        "\n",
        "# Calculate the confidence interval\n",
        "lower_bound = sample_proportion - critical_value * standard_error\n",
        "upper_bound = sample_proportion + critical_value * standard_error\n",
        "\n",
        "# Print the confidence interval\n",
        "print(\"95% Confidence Interval: [{:.4f}, {:.4f}]\".format(lower_bound, upper_bound))\n"
      ],
      "metadata": {
        "colab": {
          "base_uri": "https://localhost:8080/"
        },
        "id": "6g8IH1XV7q9E",
        "outputId": "7b6bcb86-8b92-42b5-e35e-b5d3fe7aa92e"
      },
      "id": "6g8IH1XV7q9E",
      "execution_count": 4,
      "outputs": [
        {
          "output_type": "stream",
          "name": "stdout",
          "text": [
            "95% Confidence Interval: [0.6082, 0.6918]\n"
          ]
        }
      ]
    },
    {
      "cell_type": "markdown",
      "source": [
        "Q12. Ans"
      ],
      "metadata": {
        "id": "2rTMzFd67lPW"
      },
      "id": "2rTMzFd67lPW"
    },
    {
      "cell_type": "code",
      "source": [
        "import scipy.stats as stats\n",
        "\n",
        "sample_mean_A = 85  # Sample mean score of sample A\n",
        "sample_std_dev_A = 6  # Sample standard deviation of sample A\n",
        "sample_size_A = 1  # Sample size of sample A\n",
        "\n",
        "sample_mean_B = 82  # Sample mean score of sample B\n",
        "sample_std_dev_B = 5  # Sample standard deviation of sample B\n",
        "sample_size_B = 1  # Sample size of sample B\n",
        "\n",
        "significance_level = 0.01  # Significance level\n",
        "\n",
        "# Calculate the degrees of freedom\n",
        "degrees_of_freedom = sample_size_A + sample_size_B - 2\n",
        "\n",
        "# Calculate the critical value (two-tailed test)\n",
        "critical_value = stats.t.ppf(1 - significance_level/2, df=degrees_of_freedom)\n",
        "\n",
        "# Calculate the standard error\n",
        "standard_error = ((sample_std_dev_A ** 2) / sample_size_A + (sample_std_dev_B ** 2) / sample_size_B) ** 0.5\n",
        "\n",
        "# Calculate the t-statistic\n",
        "t_statistic = (sample_mean_A - sample_mean_B) / standard_error\n",
        "\n",
        "# Calculate the p-value\n",
        "p_value = 2 * (1 - stats.t.cdf(abs(t_statistic), df=degrees_of_freedom))\n",
        "\n",
        "# Compare the p-value with the significance level and make a decision\n",
        "if p_value < significance_level:\n",
        "    print(\"Reject the null hypothesis. The two teaching methods have a significant difference in student performance.\")\n",
        "else:\n",
        "    print(\"Fail to reject the null hypothesis. The two teaching methods do not have a significant difference in student performance.\")\n",
        "\n",
        "# Print the t-statistic, critical value, and p-value\n",
        "print(\"T-statistic:\", t_statistic)\n",
        "print(\"Critical value:\", critical_value)\n",
        "print(\"P-value:\", p_value)\n"
      ],
      "metadata": {
        "colab": {
          "base_uri": "https://localhost:8080/"
        },
        "id": "_TNefyEV7jNj",
        "outputId": "92074b78-49da-44aa-fe2c-4e7d480d603b"
      },
      "id": "_TNefyEV7jNj",
      "execution_count": 5,
      "outputs": [
        {
          "output_type": "stream",
          "name": "stdout",
          "text": [
            "Fail to reject the null hypothesis. The two teaching methods do not have a significant difference in student performance.\n",
            "T-statistic: 0.3841106397986879\n",
            "Critical value: nan\n",
            "P-value: nan\n"
          ]
        }
      ]
    },
    {
      "cell_type": "markdown",
      "source": [
        "Q13. Ans"
      ],
      "metadata": {
        "id": "4XEXle358MLg"
      },
      "id": "4XEXle358MLg"
    },
    {
      "cell_type": "code",
      "source": [
        "import math\n",
        "\n",
        "sample_mean = 65  # Sample mean\n",
        "population_mean = 60  # Population mean\n",
        "population_std_dev = 8  # Population standard deviation\n",
        "sample_size = 50  # Sample size\n",
        "confidence_level = 0.90  # Confidence level\n",
        "\n",
        "# Calculate the critical value\n",
        "critical_value = 1.645  # for a 90% confidence level\n",
        "\n",
        "# Calculate the standard error\n",
        "standard_error = population_std_dev / math.sqrt(sample_size)\n",
        "\n",
        "# Calculate the confidence interval\n",
        "lower_bound = sample_mean - critical_value * standard_error\n",
        "upper_bound = sample_mean + critical_value * standard_error\n",
        "\n",
        "# Print the confidence interval\n",
        "print(\"90% Confidence Interval: [{:.2f}, {:.2f}]\".format(lower_bound, upper_bound))\n"
      ],
      "metadata": {
        "colab": {
          "base_uri": "https://localhost:8080/"
        },
        "id": "yxssw7i78Ksa",
        "outputId": "85c30e41-ed85-4b92-fbf6-e0589771a9d6"
      },
      "id": "yxssw7i78Ksa",
      "execution_count": 6,
      "outputs": [
        {
          "output_type": "stream",
          "name": "stdout",
          "text": [
            "90% Confidence Interval: [63.14, 66.86]\n"
          ]
        }
      ]
    },
    {
      "cell_type": "markdown",
      "source": [
        "Q14. Ans"
      ],
      "metadata": {
        "id": "cvvwhjWt8Zl3"
      },
      "id": "cvvwhjWt8Zl3"
    },
    {
      "cell_type": "code",
      "source": [
        "import scipy.stats as stats\n",
        "\n",
        "sample_mean = 0.25  # Sample mean reaction time\n",
        "sample_std_dev = 0.05  # Sample standard deviation\n",
        "sample_size = 30  # Sample size\n",
        "confidence_level = 0.90  # Confidence level\n",
        "\n",
        "# Calculate the degrees of freedom\n",
        "degrees_of_freedom = sample_size - 1\n",
        "\n",
        "# Calculate the critical value (one-tailed test)\n",
        "critical_value = stats.t.ppf(confidence_level, df=degrees_of_freedom)\n",
        "\n",
        "# Calculate the standard error\n",
        "standard_error = sample_std_dev / (sample_size ** 0.5)\n",
        "\n",
        "# Calculate the t-statistic\n",
        "t_statistic = (sample_mean - 0) / standard_error\n",
        "\n",
        "# Calculate the p-value\n",
        "p_value = 1 - stats.t.cdf(t_statistic, df=degrees_of_freedom)\n",
        "\n",
        "# Compare the p-value with the significance level and make a decision\n",
        "if p_value < (1 - confidence_level):\n",
        "    print(\"Reject the null hypothesis. Caffeine has a significant effect on reaction time.\")\n",
        "else:\n",
        "    print(\"Fail to reject the null hypothesis. Caffeine does not have a significant effect on reaction time.\")\n",
        "\n",
        "# Print the t-statistic, critical value, and p-value\n",
        "print(\"T-statistic:\", t_statistic)\n",
        "print(\"Critical value:\", critical_value)\n",
        "print(\"P-value:\", p_value)\n"
      ],
      "metadata": {
        "colab": {
          "base_uri": "https://localhost:8080/"
        },
        "id": "yd8R9YXD8X7J",
        "outputId": "e16801d4-1a01-4500-bc07-9900c9ef5c47"
      },
      "id": "yd8R9YXD8X7J",
      "execution_count": 7,
      "outputs": [
        {
          "output_type": "stream",
          "name": "stdout",
          "text": [
            "Reject the null hypothesis. Caffeine has a significant effect on reaction time.\n",
            "T-statistic: 27.386127875258307\n",
            "Critical value: 1.311433643950529\n",
            "P-value: 0.0\n"
          ]
        }
      ]
    },
    {
      "cell_type": "code",
      "source": [],
      "metadata": {
        "id": "WKgC9XUO8phc"
      },
      "id": "WKgC9XUO8phc",
      "execution_count": null,
      "outputs": []
    }
  ],
  "metadata": {
    "kernelspec": {
      "display_name": "Python 3 (ipykernel)",
      "language": "python",
      "name": "python3"
    },
    "language_info": {
      "codemirror_mode": {
        "name": "ipython",
        "version": 3
      },
      "file_extension": ".py",
      "mimetype": "text/x-python",
      "name": "python",
      "nbconvert_exporter": "python",
      "pygments_lexer": "ipython3",
      "version": "3.10.8"
    },
    "colab": {
      "provenance": []
    }
  },
  "nbformat": 4,
  "nbformat_minor": 5
}