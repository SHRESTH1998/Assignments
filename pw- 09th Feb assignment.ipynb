{
 "cells": [
  {
   "cell_type": "markdown",
   "id": "3c7e7026",
   "metadata": {},
   "source": [
    "# Q1. Ans"
   ]
  },
  {
   "cell_type": "code",
   "execution_count": 14,
   "id": "32dc52ad",
   "metadata": {},
   "outputs": [
    {
     "name": "stdout",
     "output_type": "stream",
     "text": [
      "Car\n",
      "200\n",
      "100\n",
      "Bike\n",
      "80\n",
      "50\n"
     ]
    }
   ],
   "source": [
    "class Vehicle:\n",
    "    def __init__(self, name_of_vehicle, max_speed, average_speed):\n",
    "        self.name_of_vehicle = name_of_vehicle\n",
    "        self.max_speed = max_speed\n",
    "        self.average_speed = average_speed\n",
    "\n",
    "    \n",
    "car = Vehicle(\"Car\", 200, 100)\n",
    "print(car.name_of_vehicle)     \n",
    "print(car.max_speed)           \n",
    "print(car.average_speed)       \n",
    "\n",
    "bike = Vehicle(\"Bike\", 80, 50)\n",
    "print(bike.name_of_vehicle)    \n",
    "print(bike.max_speed)          \n",
    "print(bike.average_speed)      \n"
   ]
  },
  {
   "cell_type": "markdown",
   "id": "22d92f2d",
   "metadata": {},
   "source": [
    "# Q2. Ans"
   ]
  },
  {
   "cell_type": "code",
   "execution_count": 15,
   "id": "c38d5ce0",
   "metadata": {},
   "outputs": [
    {
     "name": "stdout",
     "output_type": "stream",
     "text": [
      "The Car has a seating capacity of 5 passengers.\n"
     ]
    }
   ],
   "source": [
    "class Vehicle:\n",
    "    def __init__(self, name_of_vehicle, max_speed, average_speed):\n",
    "        self.name_of_vehicle = name_of_vehicle\n",
    "        self.max_speed = max_speed\n",
    "        self.average_speed = average_speed\n",
    "\n",
    "\n",
    "class Car(Vehicle):\n",
    "    def __init__(self, name_of_vehicle, max_speed, average_speed):\n",
    "        super().__init__(name_of_vehicle, max_speed, average_speed)\n",
    "\n",
    "    def seating_capacity(self, capacity):\n",
    "        return f\"The {self.name_of_vehicle} has a seating capacity of {capacity} passengers.\"\n",
    "\n",
    "\n",
    "# Creating instances and using the methods\n",
    "car = Car(\"Car\", 200, 100)\n",
    "print(car.seating_capacity(5))\n"
   ]
  },
  {
   "cell_type": "markdown",
   "id": "bddbb655",
   "metadata": {},
   "source": [
    "# Q3. Ans"
   ]
  },
  {
   "cell_type": "markdown",
   "id": "9485a042",
   "metadata": {},
   "source": [
    "Multiple inheritance is a feature in object-oriented programming languages where a class can inherit attributes and methods from more than one parent class. It allows a derived class to inherit characteristics from multiple base classes, forming a hierarchy of classes."
   ]
  },
  {
   "cell_type": "code",
   "execution_count": 16,
   "id": "7c2421d8",
   "metadata": {},
   "outputs": [
    {
     "name": "stdout",
     "output_type": "stream",
     "text": [
      "Hello from Parent 1!\n"
     ]
    }
   ],
   "source": [
    "class Parent1:\n",
    "    def greet(self):\n",
    "        print(\"Hello from Parent 1!\")\n",
    "\n",
    "\n",
    "class Parent2:\n",
    "    def greet(self):\n",
    "        print(\"Hello from Parent 2!\")\n",
    "\n",
    "\n",
    "class Child(Parent1, Parent2):\n",
    "    pass\n",
    "\n",
    "\n",
    "# Creating an instance of the Child class\n",
    "child = Child()\n",
    "\n",
    "# Accessing the greet() method\n",
    "child.greet()\n"
   ]
  },
  {
   "cell_type": "markdown",
   "id": "74482755",
   "metadata": {},
   "source": [
    "# Q4. Ans"
   ]
  },
  {
   "cell_type": "markdown",
   "id": "768272f0",
   "metadata": {},
   "source": [
    "In Python, getters and setters are methods used to access and modify the values of private or protected instance variables in a class. They provide a way to control the access and modification of the class attributes.\n",
    "\n",
    "A getter method, also known as an accessor method, is used to retrieve the value of an attribute. It allows you to access the value of a private or protected attribute from outside the class.\n",
    "\n",
    "A setter method, also known as a mutator method, is used to set or modify the value of an attribute. It allows you to modify the value of a private or protected attribute from outside the class while enforcing any desired constraints or validations."
   ]
  },
  {
   "cell_type": "code",
   "execution_count": 17,
   "id": "2354da5d",
   "metadata": {},
   "outputs": [
    {
     "name": "stdout",
     "output_type": "stream",
     "text": [
      "John\n",
      "Jane\n"
     ]
    }
   ],
   "source": [
    "class Person:\n",
    "    def __init__(self, name):\n",
    "        self._name = name  # Private attribute with a single underscore\n",
    "    \n",
    "    # Getter method\n",
    "    def get_name(self):\n",
    "        return self._name\n",
    "    \n",
    "    # Setter method\n",
    "    def set_name(self, new_name):\n",
    "        self._name = new_name\n",
    "\n",
    "# Creating an instance of the Person class\n",
    "person = Person(\"John\")\n",
    "\n",
    "# Using the getter method to retrieve the value\n",
    "print(person.get_name())  \n",
    "\n",
    "# Using the setter method to modify the value\n",
    "person.set_name(\"Jane\")\n",
    "print(person.get_name())  \n"
   ]
  },
  {
   "cell_type": "markdown",
   "id": "ccb4dec5",
   "metadata": {},
   "source": [
    "# Q5. Ans"
   ]
  },
  {
   "cell_type": "markdown",
   "id": "a764d20b",
   "metadata": {},
   "source": [
    "Method overriding is a feature in object-oriented programming that allows a subclass to provide a different implementation of a method that is already defined in its superclass. It involves redefining a method in the subclass with the same name and signature as the method in the superclass. When the overridden method is called on an instance of the subclass, the subclass's implementation of the method is executed instead of the superclass's implementation."
   ]
  },
  {
   "cell_type": "code",
   "execution_count": 19,
   "id": "f6b0d796",
   "metadata": {},
   "outputs": [
    {
     "name": "stdout",
     "output_type": "stream",
     "text": [
      "Drawing a shape...\n",
      "Drawing a circle...\n"
     ]
    }
   ],
   "source": [
    "class Shape:\n",
    "    def draw(self):\n",
    "        print(\"Drawing a shape...\")\n",
    "\n",
    "\n",
    "class Circle(Shape):\n",
    "    def draw(self):\n",
    "        print(\"Drawing a circle...\")\n",
    "\n",
    "\n",
    "# Creating instances and calling the draw() method\n",
    "shape = Shape()\n",
    "shape.draw()  \n",
    "\n",
    "circle = Circle()\n",
    "circle.draw()  \n"
   ]
  },
  {
   "cell_type": "code",
   "execution_count": null,
   "id": "e169c0fc",
   "metadata": {},
   "outputs": [],
   "source": []
  }
 ],
 "metadata": {
  "kernelspec": {
   "display_name": "Python 3 (ipykernel)",
   "language": "python",
   "name": "python3"
  },
  "language_info": {
   "codemirror_mode": {
    "name": "ipython",
    "version": 3
   },
   "file_extension": ".py",
   "mimetype": "text/x-python",
   "name": "python",
   "nbconvert_exporter": "python",
   "pygments_lexer": "ipython3",
   "version": "3.9.12"
  }
 },
 "nbformat": 4,
 "nbformat_minor": 5
}
