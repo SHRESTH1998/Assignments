{
  "cells": [
    {
      "cell_type": "markdown",
      "id": "8a2578c6-b81a-48e4-8335-08af8d8ca5ed",
      "metadata": {
        "id": "8a2578c6-b81a-48e4-8335-08af8d8ca5ed"
      },
      "source": [
        "Q1. Ans"
      ]
    },
    {
      "cell_type": "code",
      "execution_count": null,
      "id": "c2594e0b-0ed0-4292-a9c0-a4999bf44bf6",
      "metadata": {
        "id": "c2594e0b-0ed0-4292-a9c0-a4999bf44bf6"
      },
      "outputs": [],
      "source": [
        "Three measures of central tendancy are:\n",
        "1. Mean\n",
        "2. Median\n",
        "3. Mode"
      ]
    },
    {
      "cell_type": "markdown",
      "id": "72f0bd36-ce7c-4a13-b00c-f47e6d16b178",
      "metadata": {
        "id": "72f0bd36-ce7c-4a13-b00c-f47e6d16b178"
      },
      "source": [
        "Q2. Ans"
      ]
    },
    {
      "cell_type": "markdown",
      "id": "1c680a23-f1b6-481e-81c0-2eea7eeaa1b3",
      "metadata": {
        "id": "1c680a23-f1b6-481e-81c0-2eea7eeaa1b3"
      },
      "source": [
        "The central tendency can be found using the formulas of mean, median or mode in most of the cases. As we know, mean is the average of a given data set, median is the middlemost data value and the mode represents the most frequently occurring data value in the set.\n",
        "\n",
        "Mode\n",
        "The mode is the category with the greatest frequency (or percentage). It is not the frequency itself. It is possible to have more than one mode in a distribution.\n",
        "\n",
        "Median\n",
        " In other words, it's the number that divides the distribution exactly in half such that half the cases are above the median, and half are below. It can be calculated for ordinal and interval/ratio variables.\n",
        "\n",
        "Mean\n",
        "The mean is what people typically refer to as \"the average\". The mean takes into account the value of every observation and thus provides the most information of any measure of central tendency."
      ]
    },
    {
      "cell_type": "markdown",
      "id": "c5ec78a3-7730-411f-950c-07a7eb67da40",
      "metadata": {
        "id": "c5ec78a3-7730-411f-950c-07a7eb67da40"
      },
      "source": [
        "Q3. Ans"
      ]
    },
    {
      "cell_type": "code",
      "execution_count": 1,
      "id": "dc4f917a-a60c-447a-9695-e2ae2ed9b9c8",
      "metadata": {
        "colab": {
          "base_uri": "https://localhost:8080/"
        },
        "id": "dc4f917a-a60c-447a-9695-e2ae2ed9b9c8",
        "outputId": "b1f52d5e-f227-498a-8b35-6d94c04a957e"
      },
      "outputs": [
        {
          "output_type": "stream",
          "name": "stdout",
          "text": [
            "Mean: 177.01875\n",
            "Median: 177.0\n",
            "Mode: 178\n"
          ]
        }
      ],
      "source": [
        "import statistics\n",
        "\n",
        "height_data = [178, 177, 176, 177, 178.2, 178, 175, 179, 180, 175, 178.9, 176.2, 177, 172.5, 178, 176.5]\n",
        "\n",
        "# Calculate the mean\n",
        "mean = statistics.mean(height_data)\n",
        "\n",
        "# Calculate the median\n",
        "median = statistics.median(height_data)\n",
        "\n",
        "# Calculate the mode\n",
        "mode = statistics.mode(height_data)\n",
        "\n",
        "print(\"Mean:\", mean)\n",
        "print(\"Median:\", median)\n",
        "print(\"Mode:\", mode)\n"
      ]
    },
    {
      "cell_type": "markdown",
      "id": "778ac290-9cbc-4c29-a1c4-4766a201d274",
      "metadata": {
        "id": "778ac290-9cbc-4c29-a1c4-4766a201d274"
      },
      "source": [
        "Q4. Ans"
      ]
    },
    {
      "cell_type": "code",
      "execution_count": 2,
      "id": "7c1dd102-5178-4cc4-8ea8-5f2d4d3568e6",
      "metadata": {
        "colab": {
          "base_uri": "https://localhost:8080/"
        },
        "id": "7c1dd102-5178-4cc4-8ea8-5f2d4d3568e6",
        "outputId": "cae46d7b-fce3-48f1-c764-9a24ee2e05b0"
      },
      "outputs": [
        {
          "output_type": "stream",
          "name": "stdout",
          "text": [
            "Standard Deviation: 1.8472389305844188\n"
          ]
        }
      ],
      "source": [
        "import statistics\n",
        "\n",
        "data = [178, 177, 176, 177, 178.2, 178, 175, 179, 180, 175, 178.9, 176.2, 177, 172.5, 178, 176.5]\n",
        "\n",
        "# Calculate the standard deviation\n",
        "std_dev = statistics.stdev(data)\n",
        "\n",
        "print(\"Standard Deviation:\", std_dev)\n"
      ]
    },
    {
      "cell_type": "markdown",
      "id": "d377c18e-d2df-4c5a-9227-af71746a9c48",
      "metadata": {
        "id": "d377c18e-d2df-4c5a-9227-af71746a9c48"
      },
      "source": [
        "Q5. Ans"
      ]
    },
    {
      "cell_type": "markdown",
      "id": "daa0d3db-73ff-4da1-aab3-32127d61e489",
      "metadata": {
        "id": "daa0d3db-73ff-4da1-aab3-32127d61e489"
      },
      "source": [
        "Range\n",
        "The range is the easiest dispersion of data or measure of variability. The range can measure by subtracting the lowest value from the massive Number. The wide range indicates high variability, and the small range specifies low variability in the distribution. To calculate a range, prepare all the values in ascending order, then subtract the lowest value from the highest value.\n",
        "Range = Highest_value  – Lowest_value\n",
        "\n",
        "Variance\n",
        "Variance is a simple measure of dispersion. Variance measures how far each number in the dataset from the mean. To compute variance first, calculate the mean and squared deviations from a mean.\n",
        "\n",
        "Standard Deviation\n",
        "Standard deviation is a squared root of the variance to get original values. Low standard deviation indicates data points close to mean.\n"
      ]
    },
    {
      "cell_type": "markdown",
      "id": "d450b327-c308-4be6-97ef-80c757375cb5",
      "metadata": {
        "id": "d450b327-c308-4be6-97ef-80c757375cb5"
      },
      "source": [
        "Q6. Ans"
      ]
    },
    {
      "cell_type": "markdown",
      "id": "fd0ec91d-72a4-4a99-94ae-c710437a0135",
      "metadata": {
        "id": "fd0ec91d-72a4-4a99-94ae-c710437a0135"
      },
      "source": [
        "A Venn diagram uses circles that overlap or don't overlap to show the commonalities and differences among things or groups of things.\n",
        "Things that have commonalities are shown as overlapping circles while things that are distinct stand alone.\n",
        "Venn diagrams are now used as illustrations in business and in many academic fields."
      ]
    },
    {
      "cell_type": "markdown",
      "id": "946226bd-1da3-4357-8166-a4ca19b34b9a",
      "metadata": {
        "id": "946226bd-1da3-4357-8166-a4ca19b34b9a"
      },
      "source": [
        "Q7. Ans"
      ]
    },
    {
      "cell_type": "code",
      "execution_count": 3,
      "id": "27ed6efe-b915-4013-8f03-a37c80720a63",
      "metadata": {
        "colab": {
          "base_uri": "https://localhost:8080/"
        },
        "id": "27ed6efe-b915-4013-8f03-a37c80720a63",
        "outputId": "3eb0ae7d-2093-4320-be16-f89f2a298ff3"
      },
      "outputs": [
        {
          "output_type": "stream",
          "name": "stdout",
          "text": [
            "Intersection (A ∩ B): {2, 6}\n",
            "Union (A ⋃ B): {0, 2, 3, 4, 5, 6, 7, 8, 10}\n"
          ]
        }
      ],
      "source": [
        "A = {2, 3, 4, 5, 6, 7}\n",
        "B = {0, 2, 6, 8, 10}\n",
        "\n",
        "# Find the intersection of A and B\n",
        "intersection = A.intersection(B)\n",
        "\n",
        "# Find the union of A and B\n",
        "union = A.union(B)\n",
        "\n",
        "print(\"Intersection (A ∩ B):\", intersection)\n",
        "print(\"Union (A ⋃ B):\", union)\n"
      ]
    },
    {
      "cell_type": "markdown",
      "id": "af8a36c6-3575-445b-979e-9828b90364e1",
      "metadata": {
        "id": "af8a36c6-3575-445b-979e-9828b90364e1"
      },
      "source": [
        "Q8. Ans"
      ]
    },
    {
      "cell_type": "markdown",
      "id": "934bf768-8e70-4841-8f0d-b40a4ef3943a",
      "metadata": {
        "id": "934bf768-8e70-4841-8f0d-b40a4ef3943a"
      },
      "source": [
        "Skewness is a measure of the asymmetry of a distribution. A distribution is asymmetrical when its left and right side are not mirror images. You might want to calculate the skewness of a distribution to: Describe the distribution of a variable alongside other descriptive statistics."
      ]
    },
    {
      "cell_type": "markdown",
      "id": "a6f29d43-de39-4a25-b224-a2f9fd4a34cd",
      "metadata": {
        "id": "a6f29d43-de39-4a25-b224-a2f9fd4a34cd"
      },
      "source": [
        "Q9. Ans"
      ]
    },
    {
      "cell_type": "markdown",
      "id": "5c217b3c-df64-4726-85c2-17adec1e1130",
      "metadata": {
        "id": "5c217b3c-df64-4726-85c2-17adec1e1130"
      },
      "source": [
        "Generally, if the distribution of data is skewed to the left, the mean is less than the median, which is often less than the mode. If the distribution of data is skewed to the right, the mode is often less than the median, which is less than the mean."
      ]
    },
    {
      "cell_type": "markdown",
      "id": "f46fefc2-6e7c-4798-92e8-ba0cfff5f9dc",
      "metadata": {
        "id": "f46fefc2-6e7c-4798-92e8-ba0cfff5f9dc"
      },
      "source": [
        "Q10. Ans"
      ]
    },
    {
      "cell_type": "markdown",
      "id": "8188dcd0-0f83-44cf-9aef-1099c523d549",
      "metadata": {
        "id": "8188dcd0-0f83-44cf-9aef-1099c523d549"
      },
      "source": [
        "Covariance indicates the direction of the linear relationship between variables while correlation measures both the strength and direction of the linear relationship between two variables.\n",
        "\n",
        "Covariance is a statistical term that refers to a systematic relationship between two random variables in which a change in the other reflects a change in one variable. The covariance value can range from -∞ to +∞, with a negative value indicating a negative relationship and a positive value indicating a positive relationship.\n",
        "\n",
        "In statistics, correlation is a measure that determines the degree to which two or more random variables move in sequence. When an equivalent movement of another variable reciprocates the movement of one variable in some way or another during the study of two variables, the variables are said to be correlated."
      ]
    },
    {
      "cell_type": "markdown",
      "id": "8e719f6f-29f9-493d-84e0-53c4e55e8623",
      "metadata": {
        "id": "8e719f6f-29f9-493d-84e0-53c4e55e8623"
      },
      "source": [
        "Q11. Ans"
      ]
    },
    {
      "cell_type": "markdown",
      "id": "80bb2cc7-8c37-4dc5-a2c1-abe2b8f1fca5",
      "metadata": {
        "id": "80bb2cc7-8c37-4dc5-a2c1-abe2b8f1fca5"
      },
      "source": [
        "The general formula for calculating the sample mean is given by x̄ = ( Σ xi ) / n. Here, x̄ represents the sample mean, xi refers all X sample values and n stands for the number of sample terms in the data set.\n",
        "\n",
        "Example 1: Find the sample mean of 60, 57, 109, 50.\n",
        "\n",
        "Solution:\n",
        "\n",
        "To find: Sample mean\n",
        "Sum of terms = 60 + 57 + 109 + 50 = 276\n",
        "Number of terms = 4\n",
        "Using sample mean formula,\n",
        "mean = (sum of terms)/(number of terms)\n",
        "mean = 276/4 = 69"
      ]
    },
    {
      "cell_type": "markdown",
      "id": "4131d12b-41cc-4764-9555-9b2a35917ea7",
      "metadata": {
        "id": "4131d12b-41cc-4764-9555-9b2a35917ea7"
      },
      "source": [
        "Q12. Ans"
      ]
    },
    {
      "cell_type": "markdown",
      "id": "07570c1e-9c3f-4655-a767-76c17a6f00b0",
      "metadata": {
        "id": "07570c1e-9c3f-4655-a767-76c17a6f00b0"
      },
      "source": [
        "Any normal distribution has a graph that is perfectly symmetric about a vertical line through its peak. Therefore, all measures of central tendency (most commonly, the mean, median, and mode) give the same answer: the x -value of the peak."
      ]
    },
    {
      "cell_type": "markdown",
      "id": "d4f1f629-bbdd-4659-b489-6c07af153b50",
      "metadata": {
        "id": "d4f1f629-bbdd-4659-b489-6c07af153b50"
      },
      "source": [
        "Q13. Ans"
      ]
    },
    {
      "cell_type": "markdown",
      "id": "658fc056-496b-4852-88c7-67b762f34ab8",
      "metadata": {
        "id": "658fc056-496b-4852-88c7-67b762f34ab8"
      },
      "source": [
        "Covariance indicates the direction of the linear relationship between variables while correlation measures both the strength and direction of the linear relationship between two variables."
      ]
    },
    {
      "cell_type": "markdown",
      "id": "105108f5-174b-4c43-b188-85ed933f87d0",
      "metadata": {
        "id": "105108f5-174b-4c43-b188-85ed933f87d0"
      },
      "source": [
        "Q14. Ans"
      ]
    },
    {
      "cell_type": "markdown",
      "id": "91bb9771-a712-4ea3-964d-faf3c60d959a",
      "metadata": {
        "id": "91bb9771-a712-4ea3-964d-faf3c60d959a"
      },
      "source": [
        "Outliers are numbers in a data set that are vastly larger or smaller than the other values in the set. Mean, median and mode are measures of central tendency. Mean is the only measure of central tendency that is always affected by an outlier.\n",
        "\n",
        "In the previous example, Bill Gates had an unusually large income, which caused the mean to be misleading. The mean score is 84.6. However, if we remove the “0” score from the dataset, then the mean score becomes 94."
      ]
    }
  ],
  "metadata": {
    "kernelspec": {
      "display_name": "Python 3 (ipykernel)",
      "language": "python",
      "name": "python3"
    },
    "language_info": {
      "codemirror_mode": {
        "name": "ipython",
        "version": 3
      },
      "file_extension": ".py",
      "mimetype": "text/x-python",
      "name": "python",
      "nbconvert_exporter": "python",
      "pygments_lexer": "ipython3",
      "version": "3.10.8"
    },
    "colab": {
      "provenance": []
    }
  },
  "nbformat": 4,
  "nbformat_minor": 5
}