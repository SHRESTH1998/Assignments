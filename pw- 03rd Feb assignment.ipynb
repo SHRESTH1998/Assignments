{
 "cells": [
  {
   "cell_type": "markdown",
   "id": "1645c4b8",
   "metadata": {},
   "source": [
    "# Q1 Ans."
   ]
  },
  {
   "cell_type": "code",
   "execution_count": null,
   "id": "5be9d733",
   "metadata": {},
   "outputs": [],
   "source": [
    "The def keyword is used to create, (or define) a function."
   ]
  },
  {
   "cell_type": "code",
   "execution_count": 1,
   "id": "53652dfd",
   "metadata": {},
   "outputs": [
    {
     "name": "stdout",
     "output_type": "stream",
     "text": [
      "ODD Number:  [1, 3, 5, 7, 9, 11, 13, 15, 17, 19, 21, 23]\n"
     ]
    }
   ],
   "source": [
    "def ODD_NUMBERS(num):\n",
    "    ODD = []\n",
    "    for i in range(num):\n",
    "        if i % 2 == 1:\n",
    "            ODD.append(i)\n",
    "    return ODD\n",
    "\n",
    "num = 25\n",
    "\n",
    "print(\"ODD Number: \",ODD_NUMBERS(num))"
   ]
  },
  {
   "cell_type": "markdown",
   "id": "08626803",
   "metadata": {},
   "source": [
    "# Q2 Ans."
   ]
  },
  {
   "cell_type": "code",
   "execution_count": null,
   "id": "88637532",
   "metadata": {},
   "outputs": [],
   "source": [
    "*args and **kwargs allow you to pass multiple arguments or keyword arguments to a function.\n",
    "Consider the following example. This is a simple function that takes two arguments and returns their sum: \n",
    "This function works fine, but it’s limited to only two arguments."
   ]
  },
  {
   "cell_type": "code",
   "execution_count": 7,
   "id": "3bb66180",
   "metadata": {},
   "outputs": [
    {
     "name": "stdout",
     "output_type": "stream",
     "text": [
      "Sum: 8\n",
      "Sum: 22\n",
      "Sum: 17\n"
     ]
    }
   ],
   "source": [
    "def adder(*num):\n",
    "    sum = 0\n",
    "    \n",
    "    for n in num:\n",
    "        sum = sum + n\n",
    "\n",
    "    print(\"Sum:\",sum)\n",
    "\n",
    "adder(3,5)\n",
    "adder(4,5,6,7)\n",
    "adder(1,2,3,5,6)"
   ]
  },
  {
   "cell_type": "code",
   "execution_count": 10,
   "id": "8f0b774f",
   "metadata": {},
   "outputs": [
    {
     "name": "stdout",
     "output_type": "stream",
     "text": [
      "Firstname is Sita\n",
      "Lastname is Sharma\n",
      "Age is 22\n",
      "Phone is 1234567890\n"
     ]
    }
   ],
   "source": [
    "def intro(**data):\n",
    "\n",
    "    for key, value in data.items():\n",
    "        print(\"{} is {}\".format(key,value))\n",
    "\n",
    "intro(Firstname=\"Sita\", Lastname=\"Sharma\", Age=22, Phone=1234567890)"
   ]
  },
  {
   "cell_type": "markdown",
   "id": "45636d1f",
   "metadata": {},
   "source": [
    "# Q3 Ans."
   ]
  },
  {
   "cell_type": "code",
   "execution_count": null,
   "id": "0cdde36b",
   "metadata": {},
   "outputs": [],
   "source": [
    "Iterator in python is an object that is used to iterate over iterable objects \n",
    "like lists, tuples, dicts, and sets. The iterator object is initialized using \n",
    "the iter () method. It uses the next () method for iteration. __iter (iterable)__ method \n",
    "that is called for the initialization of an iterator. This returns an iterator object"
   ]
  },
  {
   "cell_type": "code",
   "execution_count": 11,
   "id": "c4ab1ac6",
   "metadata": {},
   "outputs": [
    {
     "name": "stdout",
     "output_type": "stream",
     "text": [
      "Values at 1st iteration : \n",
      "2\n",
      "4\n",
      "6\n",
      "8\n",
      "10\n"
     ]
    }
   ],
   "source": [
    "lis1 = [2, 4, 6, 8, 10, 12, 14,16, 18, 20]\n",
    "lis1 = iter(lis1) \n",
    "print(\"Values at 1st iteration : \")\n",
    "for i in range(0, 5):\n",
    "    print(next(lis1))"
   ]
  },
  {
   "cell_type": "markdown",
   "id": "5c6c7952",
   "metadata": {},
   "source": [
    "# Q4. Ans"
   ]
  },
  {
   "cell_type": "code",
   "execution_count": null,
   "id": "d91e5aed",
   "metadata": {},
   "outputs": [],
   "source": [
    "Generator-Function : A generator-function is defined like a normal function,\n",
    "but whenever it needs to generate a value, it does so with the yield keyword\n",
    "rather than return. If the body of a def contains yield, the function automatically becomes a generator function."
   ]
  },
  {
   "cell_type": "code",
   "execution_count": null,
   "id": "b195f141",
   "metadata": {},
   "outputs": [],
   "source": [
    "yield keyword is used to create a generator function.\n",
    "A type of function that is memory efficient and can be used like an iterator object."
   ]
  },
  {
   "cell_type": "code",
   "execution_count": 12,
   "id": "12e3ec14",
   "metadata": {},
   "outputs": [],
   "source": [
    "def count_test(n):\n",
    "    count=1\n",
    "    while count<=n:\n",
    "        yield count\n",
    "        count=count+1"
   ]
  },
  {
   "cell_type": "code",
   "execution_count": 13,
   "id": "e8724cbf",
   "metadata": {},
   "outputs": [],
   "source": [
    "c=count_test(5)"
   ]
  },
  {
   "cell_type": "code",
   "execution_count": 14,
   "id": "f323a3c3",
   "metadata": {},
   "outputs": [
    {
     "name": "stdout",
     "output_type": "stream",
     "text": [
      "1\n",
      "2\n",
      "3\n",
      "4\n",
      "5\n"
     ]
    }
   ],
   "source": [
    "for i in c:\n",
    "    print(i)"
   ]
  },
  {
   "cell_type": "markdown",
   "id": "ce7e90f1",
   "metadata": {},
   "source": [
    "# Q6 Ans."
   ]
  },
  {
   "cell_type": "code",
   "execution_count": 17,
   "id": "ccd74120",
   "metadata": {},
   "outputs": [
    {
     "name": "stdout",
     "output_type": "stream",
     "text": [
      "enter the number of element you are looking for 10\n",
      "0\n",
      "1\n",
      "1\n",
      "2\n",
      "3\n",
      "5\n",
      "8\n",
      "13\n",
      "21\n",
      "34\n"
     ]
    }
   ],
   "source": [
    "\n",
    "number=int(input(\"enter the number of element you are looking for \"))\n",
    "a,b=0,1\n",
    "counter=0\n",
    "while counter<number:\n",
    "    print(a)\n",
    "    c=a+b\n",
    "    a=b\n",
    "    b=c\n",
    "    counter=counter+1"
   ]
  },
  {
   "cell_type": "markdown",
   "id": "da836c36",
   "metadata": {},
   "source": [
    "# Q7 Ans. "
   ]
  },
  {
   "cell_type": "code",
   "execution_count": 20,
   "id": "3775c494",
   "metadata": {},
   "outputs": [
    {
     "data": {
      "text/plain": [
       "['p', 'w', 's', 'k', 'i', 'l', 'l', 's']"
      ]
     },
     "execution_count": 20,
     "metadata": {},
     "output_type": "execute_result"
    }
   ],
   "source": [
    "s=\"pwskills\"\n",
    "list(map(lambda s:s.lower(),s))"
   ]
  },
  {
   "cell_type": "markdown",
   "id": "d853384c",
   "metadata": {},
   "source": [
    "# Q8 Ans."
   ]
  },
  {
   "cell_type": "code",
   "execution_count": 22,
   "id": "25eff318",
   "metadata": {},
   "outputs": [
    {
     "name": "stdout",
     "output_type": "stream",
     "text": [
      "Enter number:101\n",
      "The number is a palindrome!\n"
     ]
    }
   ],
   "source": [
    "n=int(input(\"Enter number:\"))\n",
    "temp=n\n",
    "rev=0\n",
    "while(n>0):\n",
    "    dig=n%10\n",
    "    rev=rev*10+dig\n",
    "    n=n//10\n",
    "if(temp==rev):\n",
    "    print(\"The number is a palindrome!\")\n",
    "else:\n",
    "    print(\"The number isn't a palindrome!\")"
   ]
  },
  {
   "cell_type": "markdown",
   "id": "4528f00c",
   "metadata": {},
   "source": [
    "# Q9 Ans."
   ]
  },
  {
   "cell_type": "code",
   "execution_count": 7,
   "id": "6d576fb2",
   "metadata": {},
   "outputs": [
    {
     "name": "stdout",
     "output_type": "stream",
     "text": [
      "1 3 5 7 9 11 13 15 17 19 21 23 25 27 29 31 33 35 37 39 41 43 45 47 49 51 53 55 57 59 61 63 65 67 69 71 73 75 77 79 81 83 85 87 89 91 93 95 97 99\n"
     ]
    }
   ],
   "source": [
    "a=1;\n",
    "b=100;\n",
    "l= filter(lambda a : a%2 , range(a, b+1))\n",
    "print(*l)"
   ]
  },
  {
   "cell_type": "code",
   "execution_count": 3,
   "id": "4ddd291d",
   "metadata": {},
   "outputs": [
    {
     "name": "stdout",
     "output_type": "stream",
     "text": [
      "1 3 5 7 9 11 13 15 17 19 21 23 25 27 29 31 33 35 37 39 41 43 45 47 49 51 53 55 57 59 61 63 65 67 69 71 73 75 77 79 81 83 85 87 89 91 93 95 97 99\n"
     ]
    }
   ],
   "source": [
    "x = [i for i in range(1,100+1) if i%2!=0]\n",
    "print(*x)"
   ]
  },
  {
   "cell_type": "markdown",
   "id": "76c615ab",
   "metadata": {},
   "source": [
    "# Q5. Ans"
   ]
  },
  {
   "cell_type": "code",
   "execution_count": 13,
   "id": "77d63e89",
   "metadata": {},
   "outputs": [
    {
     "ename": "TypeError",
     "evalue": "'function' object is not iterable",
     "output_type": "error",
     "traceback": [
      "\u001b[1;31m---------------------------------------------------------------------------\u001b[0m",
      "\u001b[1;31mTypeError\u001b[0m                                 Traceback (most recent call last)",
      "Input \u001b[1;32mIn [13]\u001b[0m, in \u001b[0;36m<cell line: 8>\u001b[1;34m()\u001b[0m\n\u001b[0;32m      6\u001b[0m         \u001b[38;5;28;01melse\u001b[39;00m:                   \n\u001b[0;32m      7\u001b[0m             \u001b[38;5;28;01myield\u001b[39;00m n             \n\u001b[1;32m----> 8\u001b[0m \u001b[38;5;28mprint\u001b[39m(\u001b[38;5;28;43mlist\u001b[39;49m\u001b[43m(\u001b[49m\u001b[43mprime_generator\u001b[49m\u001b[43m)\u001b[49m)\n",
      "\u001b[1;31mTypeError\u001b[0m: 'function' object is not iterable"
     ]
    }
   ],
   "source": [
    "def prime_generator(end):\n",
    "    for n in range(2, end):     \n",
    "        for x in range(2, n):   \n",
    "            if n % x == 0:      \n",
    "                break\n",
    "        else:                   \n",
    "            yield n             \n",
    "print(list(prime_generator)) "
   ]
  },
  {
   "cell_type": "code",
   "execution_count": null,
   "id": "4cb64910",
   "metadata": {},
   "outputs": [],
   "source": []
  }
 ],
 "metadata": {
  "kernelspec": {
   "display_name": "Python 3 (ipykernel)",
   "language": "python",
   "name": "python3"
  },
  "language_info": {
   "codemirror_mode": {
    "name": "ipython",
    "version": 3
   },
   "file_extension": ".py",
   "mimetype": "text/x-python",
   "name": "python",
   "nbconvert_exporter": "python",
   "pygments_lexer": "ipython3",
   "version": "3.9.12"
  }
 },
 "nbformat": 4,
 "nbformat_minor": 5
}
