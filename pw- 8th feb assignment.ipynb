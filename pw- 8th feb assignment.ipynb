{
 "cells": [
  {
   "cell_type": "markdown",
   "id": "eb6e799f",
   "metadata": {},
   "source": [
    "# Q1. Ans"
   ]
  },
  {
   "cell_type": "markdown",
   "id": "8538b302",
   "metadata": {},
   "source": [
    "Abstraction is a mechanism to’ hide irrelevant details and represent only the essential features\n",
    "so that one can focus on important things at a time; It allows managing complex systems by \n",
    "concentrating on the essential features only. \n",
    "\n",
    "For example, while driving a car, a driver only knows the essential features to drive a car\n",
    "such as how to use clutch, brake, accelerator, gears, steering, etc., and least bothers about \n",
    "the internal details of the car like motor, engine, wiring, etc"
   ]
  },
  {
   "cell_type": "markdown",
   "id": "122414ce",
   "metadata": {},
   "source": [
    "# Q2. Ans"
   ]
  },
  {
   "cell_type": "markdown",
   "id": "55432cdd",
   "metadata": {},
   "source": [
    "Abstraction is a method of removing the unnecessary details in the code and focusing on the relevant parts. \n",
    "\n",
    "For example, instead of writing a function that multiplies two numbers, we can write a function “multiply” and use it to multiply any number with any number. \n",
    "\n",
    "Encapsulation is a way of hiding the complexity of something and exposing only the parts you wish to expose. \n",
    "\n",
    "For example, if you have a class that has one or more private fields that you use to store the data, then you are in encapsulation. "
   ]
  },
  {
   "cell_type": "markdown",
   "id": "39414989",
   "metadata": {},
   "source": [
    "# Q3. Ans"
   ]
  },
  {
   "cell_type": "markdown",
   "id": "f265bd7c",
   "metadata": {},
   "source": [
    "An Abstract base class is one of important concept in object oriented programming(oops). It is like blueprint for other classes.\n",
    "\n",
    "The 'abc' module in Python library provides the infrastructure for defining custom abstract base classes. 'abc' works by marking methods of the base class as abstract. This is done by @absttractmethod decorator."
   ]
  },
  {
   "cell_type": "markdown",
   "id": "4121b96c",
   "metadata": {},
   "source": [
    "# Q4. Ans"
   ]
  },
  {
   "cell_type": "markdown",
   "id": "d0ec9a72",
   "metadata": {},
   "source": [
    "In Python, abstraction can be achieved by having/using abstract classes and methods in our programs. Understanding Abstract Methods and Classes: An abstract method is a method that is declared, but does not contain implementation."
   ]
  },
  {
   "cell_type": "markdown",
   "id": "da94f9b6",
   "metadata": {},
   "source": [
    "# Q5. Ans"
   ]
  },
  {
   "cell_type": "markdown",
   "id": "cb91d0ea",
   "metadata": {},
   "source": [
    "Abstract classes cannot be instantiated, but they can be subclassed. When an abstract class is subclassed, the subclass usually provides implementations for all of the abstract methods in its parent class. However, if it does not, then the subclass must also be declared abstract ."
   ]
  }
 ],
 "metadata": {
  "kernelspec": {
   "display_name": "Python 3 (ipykernel)",
   "language": "python",
   "name": "python3"
  },
  "language_info": {
   "codemirror_mode": {
    "name": "ipython",
    "version": 3
   },
   "file_extension": ".py",
   "mimetype": "text/x-python",
   "name": "python",
   "nbconvert_exporter": "python",
   "pygments_lexer": "ipython3",
   "version": "3.9.12"
  }
 },
 "nbformat": 4,
 "nbformat_minor": 5
}
