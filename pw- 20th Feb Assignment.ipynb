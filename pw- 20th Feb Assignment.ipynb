{
 "cells": [
  {
   "cell_type": "markdown",
   "id": "c6f1762a",
   "metadata": {},
   "source": [
    "# Q1. Ans"
   ]
  },
  {
   "cell_type": "markdown",
   "id": "1f896d48",
   "metadata": {},
   "source": [
    "POST\n",
    "\n",
    "POST is the HTTP method that is designed to send loads of data to a server from a specified resource. \n",
    "Most common HTML forms on the web operate using this request method. It usually transmits relatively small \n",
    "loads of data to a receiver. This method allows data to be sent as a package in a separate communication with\n",
    "the processing script. This means that data sent through the POST method will not be visible in the URL, as\n",
    "parameters are not sent along with the URI.\n",
    "\n",
    "GET\n",
    "\n",
    "The GET method is the method used by the browser to ask the server to send back a given resource: \"Hey server, I want to get this resource.\" In this case, the browser sends an empty body. Because the body is empty, if a form is sent using this method the data sent to the server is appended to the URL."
   ]
  },
  {
   "cell_type": "markdown",
   "id": "27282c25",
   "metadata": {},
   "source": [
    "# Q2. Ans"
   ]
  },
  {
   "cell_type": "markdown",
   "id": "53313203",
   "metadata": {},
   "source": [
    "When the Flask application handles a request, it creates a Request object based on the environment \n",
    "it received from the WSGI server. Because a worker (thread, process, or coroutine depending on the server) \n",
    "handles only one request at a time, the request data can be considered global to that worker during that request."
   ]
  },
  {
   "cell_type": "markdown",
   "id": "0b3e6549",
   "metadata": {},
   "source": [
    "# Q3. Ans"
   ]
  },
  {
   "cell_type": "markdown",
   "id": "e7d2fb7a",
   "metadata": {},
   "source": [
    "Flask class has a redirect() function. When called, it returns a response object and redirects the user to another target location with specified status code. location parameter is the URL where response should be redirected."
   ]
  },
  {
   "cell_type": "markdown",
   "id": "9d834697",
   "metadata": {},
   "source": [
    "# Q4. Ans"
   ]
  },
  {
   "cell_type": "markdown",
   "id": "9a4b7eb3",
   "metadata": {},
   "source": [
    "Templates are files that contain static data as well as placeholders for dynamic data. A template is rendered with specific data to produce a final document. Flask uses the Jinja template library to render templates. In your application, you will use templates to render HTML which will display in the user's browser.\n",
    "\n",
    "render_template is a Flask function from the flask. templating package. render_template is used to generate output from a template file based on the Jinja2 engine that is found in the application's templates folder. Note that render_template is typically imported directly from the flask package instead of from flask."
   ]
  },
  {
   "cell_type": "markdown",
   "id": "a478f330",
   "metadata": {},
   "source": [
    "# Q5. Ans"
   ]
  },
  {
   "cell_type": "code",
   "execution_count": null,
   "id": "483c82c5",
   "metadata": {},
   "outputs": [
    {
     "name": "stdout",
     "output_type": "stream",
     "text": [
      " * Serving Flask app \"__main__\" (lazy loading)\n",
      " * Environment: production\n",
      "\u001b[31m   WARNING: This is a development server. Do not use it in a production deployment.\u001b[0m\n",
      "\u001b[2m   Use a production WSGI server instead.\u001b[0m\n",
      " * Debug mode: off\n"
     ]
    },
    {
     "name": "stderr",
     "output_type": "stream",
     "text": [
      " * Running on http://127.0.0.1:5000/ (Press CTRL+C to quit)\n"
     ]
    }
   ],
   "source": [
    "from flask import Flask, jsonify, request\n",
    "\n",
    "app = Flask(__name__)\n",
    "\n",
    "# Define a sample data list\n",
    "data = [\n",
    "    {\"id\": 1, \"name\": \"John\"},\n",
    "    {\"id\": 2, \"name\": \"Alice\"},\n",
    "    {\"id\": 3, \"name\": \"Bob\"}\n",
    "]\n",
    "\n",
    "# Define a GET endpoint to retrieve all data\n",
    "@app.route('/api/data', methods=['GET'])\n",
    "def get_data():\n",
    "    return jsonify(data)\n",
    "\n",
    "# Define a POST endpoint to add new data\n",
    "@app.route('/api/data', methods=['POST'])\n",
    "def add_data():\n",
    "    new_data = request.get_json()\n",
    "    data.append(new_data)\n",
    "    return jsonify({\"message\": \"Data added successfully\"})\n",
    "\n",
    "if __name__ == '__main__':\n",
    "    app.run()\n"
   ]
  },
  {
   "cell_type": "code",
   "execution_count": null,
   "id": "13557447",
   "metadata": {},
   "outputs": [],
   "source": []
  }
 ],
 "metadata": {
  "kernelspec": {
   "display_name": "Python 3 (ipykernel)",
   "language": "python",
   "name": "python3"
  },
  "language_info": {
   "codemirror_mode": {
    "name": "ipython",
    "version": 3
   },
   "file_extension": ".py",
   "mimetype": "text/x-python",
   "name": "python",
   "nbconvert_exporter": "python",
   "pygments_lexer": "ipython3",
   "version": "3.9.12"
  }
 },
 "nbformat": 4,
 "nbformat_minor": 5
}
