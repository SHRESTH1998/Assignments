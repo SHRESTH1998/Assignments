{
  "cells": [
    {
      "cell_type": "markdown",
      "id": "5e8f0ddf-2740-47bc-97b1-ec220381c51d",
      "metadata": {
        "id": "5e8f0ddf-2740-47bc-97b1-ec220381c51d"
      },
      "source": [
        "Q1. Ans"
      ]
    },
    {
      "cell_type": "markdown",
      "id": "6b1c6fad-cd07-4449-8468-49025322a181",
      "metadata": {
        "id": "6b1c6fad-cd07-4449-8468-49025322a181"
      },
      "source": [
        "Ridge regression is a term used to refer to a linear regression model whose coefficients are estimated not by ordinary least squares (OLS), but by an estimator, called ridge estimator, that, albeit biased, has lower variance than the OLS estimator."
      ]
    },
    {
      "cell_type": "markdown",
      "id": "bdbe48f3-a675-41ff-804a-7df966532754",
      "metadata": {
        "id": "bdbe48f3-a675-41ff-804a-7df966532754"
      },
      "source": [
        "Q2. Ans"
      ]
    },
    {
      "cell_type": "markdown",
      "id": "839ea533-8d53-4241-afd7-a666221ec247",
      "metadata": {
        "id": "839ea533-8d53-4241-afd7-a666221ec247"
      },
      "source": [
        "The assumptions of ridge regression are the same as that of linear regression: linearity, constant variance, and independence. However, as ridge regression does not provide confidence limits, the distribution of errors to be normal need not be assumed."
      ]
    },
    {
      "cell_type": "markdown",
      "id": "f494ba5e-5fbd-4736-8bc2-1c873233e28f",
      "metadata": {
        "id": "f494ba5e-5fbd-4736-8bc2-1c873233e28f"
      },
      "source": [
        "Q3. Ans"
      ]
    },
    {
      "cell_type": "markdown",
      "id": "b5b05135-e8f4-4f44-a7c9-d6309a0c106a",
      "metadata": {
        "id": "b5b05135-e8f4-4f44-a7c9-d6309a0c106a"
      },
      "source": [
        "The value of lambda will be chosen by cross-validation. The plot shows cross-validated mean squared error. As lambda decreases, the mean squared error decreases. Ridge includes all the variables in the model and the value of lambda selected is indicated by the vertical lines."
      ]
    },
    {
      "cell_type": "markdown",
      "id": "d9ee4359-763b-43a4-bd30-3343ff590edd",
      "metadata": {
        "id": "d9ee4359-763b-43a4-bd30-3343ff590edd"
      },
      "source": [
        "Q4. Ans"
      ]
    },
    {
      "cell_type": "markdown",
      "id": "3634f672-7fa1-4c31-b705-b0018169b869",
      "metadata": {
        "id": "3634f672-7fa1-4c31-b705-b0018169b869"
      },
      "source": [
        "We can use ridge regression for feature selection while fitting the model. In this article, we are going to use logistic regression for model fitting and push the parameter penalty as L2 which basically means the penalty we use in ridge regression."
      ]
    },
    {
      "cell_type": "markdown",
      "id": "00b75e88-646a-4c27-90ac-b2808d046757",
      "metadata": {
        "id": "00b75e88-646a-4c27-90ac-b2808d046757"
      },
      "source": [
        "Q5. Ans"
      ]
    },
    {
      "cell_type": "markdown",
      "id": "6b957ddd-1eb5-48a3-aa0c-a1a2d827d791",
      "metadata": {
        "id": "6b957ddd-1eb5-48a3-aa0c-a1a2d827d791"
      },
      "source": [
        "Multicollinearity happens when predictor variables exhibit a correlation among themselves. Ridge regression aims at reducing the standard error by adding some bias in the estimates of the regression. The reduction of the standard error in regression estimates significantly increases the reliability of the estimates."
      ]
    },
    {
      "cell_type": "markdown",
      "id": "91feacf6-a054-477c-8c07-7a5c07869e4c",
      "metadata": {
        "id": "91feacf6-a054-477c-8c07-7a5c07869e4c"
      },
      "source": [
        "Q6. Ans"
      ]
    },
    {
      "cell_type": "markdown",
      "id": "88dadeae-d42a-42b1-b633-5408da1cc953",
      "metadata": {
        "id": "88dadeae-d42a-42b1-b633-5408da1cc953"
      },
      "source": [
        "Categorical variables require special attention in regression analysis because, unlike dichotomous or continuous variables, they cannot by entered into the regression equation just as they are. Instead, they need to be recoded into a series of variables which can then be entered into the regression model."
      ]
    },
    {
      "cell_type": "markdown",
      "id": "b0be7113-f4a9-46ab-90fc-942f64b36149",
      "metadata": {
        "id": "b0be7113-f4a9-46ab-90fc-942f64b36149"
      },
      "source": [
        "Q7. Ans"
      ]
    },
    {
      "cell_type": "markdown",
      "id": "67178250-41da-4a5f-957a-86b0f8c38720",
      "metadata": {
        "id": "67178250-41da-4a5f-957a-86b0f8c38720"
      },
      "source": [
        "The ridge coefficients are a reduced factor of the simple linear regression coefficients and thus never attain zero values but very small values. The lasso coefficients become zero in a certain range and are reduced by a constant factor, which explains their low magnitude in comparison to the ridge."
      ]
    },
    {
      "cell_type": "markdown",
      "id": "5928b0e0-76b7-4be9-8ed7-12553cecd9dd",
      "metadata": {
        "id": "5928b0e0-76b7-4be9-8ed7-12553cecd9dd"
      },
      "source": [
        "Q8. Ans"
      ]
    },
    {
      "cell_type": "markdown",
      "id": "e89b7ae2-13d6-494d-9042-a82aa2467f3a",
      "metadata": {
        "id": "e89b7ae2-13d6-494d-9042-a82aa2467f3a"
      },
      "source": [
        "The ridge regression technique can be used to predict time-series. Ridge regression (RR) can also solve the multicollinearity problem that exists in linear regression."
      ]
    }
  ],
  "metadata": {
    "kernelspec": {
      "display_name": "Python 3 (ipykernel)",
      "language": "python",
      "name": "python3"
    },
    "language_info": {
      "codemirror_mode": {
        "name": "ipython",
        "version": 3
      },
      "file_extension": ".py",
      "mimetype": "text/x-python",
      "name": "python",
      "nbconvert_exporter": "python",
      "pygments_lexer": "ipython3",
      "version": "3.10.8"
    },
    "colab": {
      "provenance": []
    }
  },
  "nbformat": 4,
  "nbformat_minor": 5
}