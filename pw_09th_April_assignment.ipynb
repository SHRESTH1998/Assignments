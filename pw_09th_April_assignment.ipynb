{
 "cells": [
  {
   "cell_type": "markdown",
   "id": "48fdda81",
   "metadata": {},
   "source": [
    "# Q1. Ans"
   ]
  },
  {
   "cell_type": "markdown",
   "id": "64fa7391",
   "metadata": {},
   "source": [
    "Bayes' Theorem states that the conditional probability of an event, based on the occurrence of another event, is equal to the likelihood of the second event given the first event multiplied by the probability of the first event."
   ]
  },
  {
   "cell_type": "markdown",
   "id": "7677a30a",
   "metadata": {},
   "source": [
    "# Q2. Ans"
   ]
  },
  {
   "cell_type": "markdown",
   "id": "efdeff80",
   "metadata": {},
   "source": [
    "Bayes' theorem is a fundamental concept in probability theory and statistics. It provides a way to update the probability of an event based on new information or evidence. The formula for Bayes' theorem is as follows:\n",
    "\n",
    "P(A|B) = (P(B|A) * P(A)) / P(B)\n",
    "\n",
    "Where:\n",
    "\n",
    "P(A|B) represents the conditional probability of event A occurring given that event B has occurred.\n",
    "P(B|A) represents the conditional probability of event B occurring given that event A has occurred.\n",
    "P(A) represents the prior probability of event A occurring.\n",
    "P(B) represents the prior probability of event B occurring."
   ]
  },
  {
   "cell_type": "markdown",
   "id": "c65afad9",
   "metadata": {},
   "source": [
    "# Q3. Ans"
   ]
  },
  {
   "cell_type": "markdown",
   "id": "996bf62e",
   "metadata": {},
   "source": [
    "Bayes' theorem does not only apply in mathematics, but it also has many real life applications such as in Internet Marketing to profile visitors to a website, in Decision Analysis and Decision Trees, the Two Child Problem"
   ]
  },
  {
   "cell_type": "markdown",
   "id": "319460f3",
   "metadata": {},
   "source": [
    "# Q4. Ans"
   ]
  },
  {
   "cell_type": "markdown",
   "id": "b2b70600",
   "metadata": {},
   "source": [
    "Probability looks at the likelihood of one event occurring. Conditional probability looks at two events occurring in relation to one another. It looks at the probability of a second event occurring based on the probability of the first event occurring."
   ]
  },
  {
   "cell_type": "markdown",
   "id": "345ffabd",
   "metadata": {},
   "source": [
    "# Q5. Ans"
   ]
  },
  {
   "cell_type": "markdown",
   "id": "788cfcd5",
   "metadata": {},
   "source": [
    "When choosing the type of Naive Bayes classifier to use for a given problem, there are a few factors to consider:\n",
    "\n",
    "1. Independence Assumption:\n",
    "Naive Bayes classifiers make the assumption of feature independence given the class label. This assumption simplifies the calculations and allows for efficient training and prediction. However, in some cases, this assumption may not hold true. Therefore, it's essential to assess the degree of independence among the features in your dataset.\n",
    "\n",
    "2. Type of Features:\n",
    "The choice of Naive Bayes classifier can also depend on the type of features in your dataset:\n",
    "\n",
    "A.  Bernoulli Naive Bayes: Suitable for binary features, where each feature represents a binary variable (e.g., presence or absence of a feature).\n",
    "\n",
    "B.Multinomial Naive Bayes: Suitable for discrete features, such as word frequencies or counts, where each feature represents the count of occurrences.\n",
    "\n",
    "C.Gaussian Naive Bayes: Suitable for continuous features, assuming a Gaussian (normal) distribution of the features within each class.\n",
    "\n",
    "3. Dataset Size and Sparsity:\n",
    "The size of your dataset and the sparsity of the feature space can influence the choice of classifier:\n",
    "\n",
    "Bernoulli Naive Bayes and Multinomial Naive Bayes typically perform well on sparse datasets with discrete or binary features.\n",
    "Gaussian Naive Bayes is more suitable for datasets with continuous features and larger sample sizes.\n",
    "\n",
    "4. Performance Evaluation:\n",
    "It's important to evaluate the performance of different Naive Bayes classifiers on your specific problem. Consider using cross-validation or other evaluation techniques to assess their performance in terms of accuracy, precision, recall, or other relevant metrics."
   ]
  },
  {
   "cell_type": "markdown",
   "id": "a4c015bc",
   "metadata": {},
   "source": [
    "# Q6. Ans"
   ]
  },
  {
   "cell_type": "markdown",
   "id": "ad7025f7",
   "metadata": {},
   "source": [
    "To predict the class of a new instance using Naive Bayes, we need to calculate the conditional probability of each class given the feature values.\n",
    "\n",
    "Given the table of frequencies, we can calculate the conditional probabilities for each class:\n",
    "\n",
    "P(A | X1 = 3, X2 = 4) = P(X1 = 3 | A) * P(X2 = 4 | A) * P(A)\n",
    "P(B | X1 = 3, X2 = 4) = P(X1 = 3 | B) * P(X2 = 4 | B) * P(B)\n",
    "\n",
    "Assuming equal prior probabilities for each class (P(A) = P(B) = 0.5), we can calculate the conditional probabilities as follows:\n",
    "\n",
    "P(X1 = 3 | A) = 4 / (3 + 4 + 3) = 0.4\n",
    "P(X2 = 4 | A) = 3 / (4 + 3 + 3) = 0.3\n",
    "P(X1 = 3 | B) = 1 / (2 + 2 + 1) = 0.2\n",
    "P(X2 = 4 | B) = 3 / (2 + 2 + 3) = 0.3\n",
    "\n",
    "Substituting these values into the conditional probability formula:\n",
    "\n",
    "P(A | X1 = 3, X2 = 4) = 0.4 * 0.3 * 0.5 = 0.06\n",
    "P(B | X1 = 3, X2 = 4) = 0.2 * 0.3 * 0.5 = 0.03\n",
    "\n",
    "Since P(A | X1 = 3, X2 = 4) > P(B | X1 = 3, X2 = 4), Naive Bayes would predict the new instance to belong to class A.\n",
    "\n",
    "Therefore, Naive Bayes would predict that the new instance with X1 = 3 and X2 = 4 belongs to class A."
   ]
  },
  {
   "cell_type": "code",
   "execution_count": null,
   "id": "86c5796b",
   "metadata": {},
   "outputs": [],
   "source": []
  }
 ],
 "metadata": {
  "kernelspec": {
   "display_name": "Python 3 (ipykernel)",
   "language": "python",
   "name": "python3"
  },
  "language_info": {
   "codemirror_mode": {
    "name": "ipython",
    "version": 3
   },
   "file_extension": ".py",
   "mimetype": "text/x-python",
   "name": "python",
   "nbconvert_exporter": "python",
   "pygments_lexer": "ipython3",
   "version": "3.9.12"
  }
 },
 "nbformat": 4,
 "nbformat_minor": 5
}
