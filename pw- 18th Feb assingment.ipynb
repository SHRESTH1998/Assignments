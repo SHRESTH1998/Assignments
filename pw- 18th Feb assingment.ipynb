{
 "cells": [
  {
   "cell_type": "markdown",
   "id": "6bf4001c",
   "metadata": {},
   "source": [
    "# Q1. Ans"
   ]
  },
  {
   "cell_type": "markdown",
   "id": "cf3fa2fb",
   "metadata": {},
   "source": [
    "APIs are mechanisms that enable two software components to communicate with each other\n",
    "using a set of definitions and protocols.\n",
    "\n",
    "For example, the weather bureau's software \n",
    "system contains daily weather data. The weather app on your phone “talks” to this system \n",
    "via APIs and shows you daily weather updates on your phone."
   ]
  },
  {
   "cell_type": "markdown",
   "id": "e3c8fcfc",
   "metadata": {},
   "source": [
    "# Q2. Ans"
   ]
  },
  {
   "cell_type": "markdown",
   "id": "431ed675",
   "metadata": {},
   "source": [
    "Advantages of API\n",
    "\n",
    "1. Automation\n",
    "When using an API managed by computers, less human effort is required and workflows \n",
    "can be easily updated to become faster and more productive.\n",
    "\n",
    "2. Developer efficiency and innovation\n",
    "APIs empower developers to be more productive by reusing code in complex but \n",
    "repetitive processes. They don’t need to start from scratch as the API specifies \n",
    "how to assemble software components in a program.\n",
    "\n",
    "3. Improved value proposition\n",
    "By using APIs made available by companies such as Amazon, Salesforce, or Twitter, \n",
    "an application can integrate those services into their own systems to make themselves\n",
    "more attractive to customers."
   ]
  },
  {
   "cell_type": "code",
   "execution_count": null,
   "id": "142810d1",
   "metadata": {},
   "outputs": [],
   "source": [
    "Disadvantages\n",
    "\n",
    "1. Implementing and providing API capabilities can be costly in terms of development times, \n",
    "ongoing maintenance requirements, and providing support.\n",
    "\n",
    "2. Scaling API requires extensive programming knowledge and the learning curve can fairly \n",
    "steep when understanding how to extend the capabilities of your API framework.\n",
    "\n",
    "3. Security can be a concern as APIs add another potential attack layer to programs/websites."
   ]
  },
  {
   "cell_type": "markdown",
   "id": "7f6a818c",
   "metadata": {},
   "source": [
    "# Q3. Ans"
   ]
  },
  {
   "cell_type": "markdown",
   "id": "8aee5ecb",
   "metadata": {},
   "source": [
    "Web API as the name suggests, is an API over the web which can be accessed using HTTP protocol.\n",
    "It is a concept and not a technology. We can build Web API using different technologies such as \n",
    "Java, .NET etc. For example, Twitter's REST APIs provide programmatic access to read and write\n",
    "data using which we can integrate twitter's capabilities into our own application."
   ]
  },
  {
   "cell_type": "markdown",
   "id": "79b0edb8",
   "metadata": {},
   "source": [
    "In building applications, an API simplifies programming by abstracting the underlying \n",
    "implementation and only exposing objects or actions the developer needs. \n",
    "\n",
    "Web API is an extensible framework for building HTTP based services that can be accessed in \n",
    "different applications on different platforms such as web, windows, mobile etc. It works more \n",
    "or less the same way as ASP.NET MVC web application except that it sends data as a response instead \n",
    "of html view. It is like a webservice or WCF service but the exception is that it only supports HTTP protocol."
   ]
  },
  {
   "cell_type": "markdown",
   "id": "a8475065",
   "metadata": {},
   "source": [
    "# Q4. Ans"
   ]
  },
  {
   "cell_type": "markdown",
   "id": "07301177",
   "metadata": {},
   "source": [
    "SOAP is a protocol. SOAP was designed with a specification. It includes a WSDL file which has \n",
    "the required information on what the web service does in addition to the location of the web service."
   ]
  },
  {
   "cell_type": "markdown",
   "id": "cd3b4e7b",
   "metadata": {},
   "source": [
    "REST is an Architectural style in which a web service can only be treated as a RESTful service if\n",
    "it follows the constraints of being:\n",
    "\n",
    "1. Client Server\n",
    "2. Stateless\n",
    "3. Cacheable\n",
    "4. Layered System\n",
    "5. Uniform Interface"
   ]
  },
  {
   "cell_type": "markdown",
   "id": "940ac681",
   "metadata": {},
   "source": [
    "1. Highly complex. In comparison to Rest, SOAP is significantly more complex. ...\n",
    "2. No variety of data formats. SOAP is also extremely limited in its support of data formats. ...\n",
    "3. API calls are not cached. ...\n",
    "4. Uses more bandwidth"
   ]
  },
  {
   "cell_type": "markdown",
   "id": "0df7467a",
   "metadata": {},
   "source": [
    "# Q5. Ans"
   ]
  },
  {
   "cell_type": "markdown",
   "id": "a607bef1",
   "metadata": {},
   "source": [
    "SOAP\n",
    "\n",
    "1. SOAP stands for Simple Object Access Protocol\n",
    "2. SOAP cannot make use of REST since SOAP is a protocol and REST is an architectural pattern.\n",
    "3. SOAP uses service interfaces to expose its functionality to client applications. In SOAP, the WSDL\n",
    "file provides the client with the necessary information which can be used to understand what services the web service can offer.\n",
    "4. SOAP requires more bandwidth for its usage. Since SOAP Messages contain a lot of information inside of it, \n",
    "the amount of data transfer using SOAP is generally a lot."
   ]
  },
  {
   "cell_type": "markdown",
   "id": "cfc04a8f",
   "metadata": {},
   "source": [
    "REST\n",
    "\n",
    "1. REST stands for Representational State Transfer\n",
    "2. REST can make use of SOAP as the underlying protocol for web services, because in the end \n",
    "it is just an architectural pattern.\n",
    "3. REST use Uniform Service locators to access to the components on the hardware device. \n",
    "For example, if there is an object which represents the data of an employee hosted on a URL \n",
    "as http://demo.guru99 , the below are some of URI that can exist to access them.\n",
    "4. REST does not need much bandwidth when requests are sent to the server. REST messages mostly\n",
    "just consist of JSON messages. Below is an example of a JSON message passed to a web server. \n",
    "You can see that the size of the message is comparatively smaller to SOAP."
   ]
  }
 ],
 "metadata": {
  "kernelspec": {
   "display_name": "Python 3 (ipykernel)",
   "language": "python",
   "name": "python3"
  },
  "language_info": {
   "codemirror_mode": {
    "name": "ipython",
    "version": 3
   },
   "file_extension": ".py",
   "mimetype": "text/x-python",
   "name": "python",
   "nbconvert_exporter": "python",
   "pygments_lexer": "ipython3",
   "version": "3.9.12"
  }
 },
 "nbformat": 4,
 "nbformat_minor": 5
}
