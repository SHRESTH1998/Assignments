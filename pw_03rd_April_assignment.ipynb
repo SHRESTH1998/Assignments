{
 "cells": [
  {
   "cell_type": "markdown",
   "id": "2600ed5d",
   "metadata": {},
   "source": [
    "# Q1. Ans"
   ]
  },
  {
   "cell_type": "markdown",
   "id": "4f1f8057",
   "metadata": {},
   "source": [
    "Precision: Precision measures the proportion of correctly predicted positive instances out of the total instances predicted as positive. It quantifies how well the model performs in identifying true positives without including false positives.\n",
    "\n",
    "Precision = TP / (TP + FP)\n",
    "\n",
    "True Positives (TP): The number of instances that are correctly predicted as positive.\n",
    "False Positives (FP): The number of instances that are incorrectly predicted as positive.\n",
    "    \n",
    "Recall (or Sensitivity): Recall measures the proportion of correctly predicted positive instances out of the total actual positive instances. It quantifies the ability of the model to identify all positive instances without missing any.\n",
    "\n",
    "Recall = TP / (TP + FN)\n",
    "\n",
    "True Positives (TP): The number of instances that are correctly predicted as positive.\n",
    "False Negatives (FN): The number of instances that are incorrectly predicted as negative."
   ]
  },
  {
   "cell_type": "markdown",
   "id": "482ace33",
   "metadata": {},
   "source": [
    "# Q2. Ans"
   ]
  },
  {
   "cell_type": "markdown",
   "id": "3e4958e1",
   "metadata": {},
   "source": [
    "F1 score is a machine learning evaluation metric that measures a model's accuracy. It combines the precision and recall scores of a model. The accuracy metric computes how many times a model made a correct prediction across the entire dataset.\n",
    "\n",
    "F1 score is a weighted average of precision and recall. As we know in precision and in recall there is false positive and false negative so it also consider both of them. F1 score is usually more useful than accuracy, especially if you have an uneven class distribution."
   ]
  },
  {
   "cell_type": "markdown",
   "id": "7fb2f528",
   "metadata": {},
   "source": [
    "# Q3. Ans"
   ]
  },
  {
   "cell_type": "markdown",
   "id": "de9a8e2b",
   "metadata": {},
   "source": [
    "ROC or Receiver Operating Characteristic plot is used to visualise the performance of a binary classifier. It gives us the trade-off between the True Positive Rate (TPR) and the False Positive Rate (FPR) at different classification thresholds.\n",
    "\n",
    "Area Under the Curve or AUC ROC curve is nothing but the area under the curve calculated in the ROC space. One of the easy ways to calculate the AUC score is using the trapezoidal rule, which is adding up all trapezoids under the curve.\n",
    "\n",
    "AUC measures the ability of a binary classifier to distinguish between classes and is used as a summary of the ROC curve.\n",
    " \n",
    "The ROC curve is used to assess the overall diagnostic performance of a test and to compare the performance of two or more diagnostic tests. It is also used to select an optimal cut-off value for determining the presence or absence of a disease."
   ]
  },
  {
   "cell_type": "markdown",
   "id": "3fe85de6",
   "metadata": {},
   "source": [
    "# Q4. Ans"
   ]
  },
  {
   "cell_type": "markdown",
   "id": "f029bc5b",
   "metadata": {},
   "source": [
    "Choosing the best metric to evaluate the performance of a classification model depends on the specific goals and requirements of your problem. Here are some factors to consider when selecting an appropriate evaluation metric:\n",
    "\n",
    "1. Nature of the problem\n",
    "2. Class distribution\n",
    "3. Business or domain requirements\n",
    "4. Trade-offs between metrics\n",
    "5. Context and application\n",
    "6. Combined metrics\n",
    "7. Cross-validation and validation set"
   ]
  },
  {
   "cell_type": "markdown",
   "id": "8a11082f",
   "metadata": {},
   "source": [
    "# Q5. Ans"
   ]
  },
  {
   "cell_type": "markdown",
   "id": "155ada5e",
   "metadata": {},
   "source": [
    "Multiclass classification is a classification task with more than two classes and makes the assumption that an object can only receive one classification. A common example requiring multiclass classification would be labeling a set of fruit images that includes oranges, apples and pears.\n",
    "\n",
    "Binary classification are those tasks where examples are assigned exactly one of two classes. Multi-class classification is those tasks where examples are assigned exactly one of more than two classes.13-Apr-2020"
   ]
  },
  {
   "cell_type": "markdown",
   "id": "1756aecb",
   "metadata": {},
   "source": [
    "# Q6. Ans"
   ]
  },
  {
   "cell_type": "markdown",
   "id": "e1bb5fe5",
   "metadata": {},
   "source": [
    "Logistic regression is primarily a binary classification algorithm that is used to model the relationship between input features and a binary target variable. However, it can also be extended to handle multiclass classification problems through various techniques. Two common approaches for using logistic regression in multiclass classification are the One-vs-Rest (OvR) and the Multinomial (Softmax) methods.\n",
    "\n",
    "One-vs-Rest (OvR) approach:\n",
    "\n",
    "In the OvR approach, a separate logistic regression model is trained for each class, treating it as the positive class, while considering all other classes as the negative class. The steps involved in the OvR approach are as follows:\n",
    "\n",
    "1. For a problem with K classes, K separate logistic regression models are trained.\n",
    "2. In each model, the positive class is one of the K classes, and all other classes are considered as the negative class.\n",
    "3. During training, the binary logistic regression models are fitted independently, and the probability of belonging to the positive class is calculated for each instance.\n",
    "4. In the prediction phase, the class with the highest predicted probability is assigned as the final predicted class.\n",
    "\n",
    "This approach essentially reduces the multiclass problem into multiple binary classification problems, with each model distinguishing between one class and the rest. OvR is a simple and widely used technique for multiclass classification using logistic regression.\n",
    "\n",
    "Multinomial (Softmax) approach:\n",
    "\n",
    "The Multinomial, or Softmax, approach directly extends logistic regression to handle multiclass classification. Instead of treating each class separately, it models the probabilities of all classes simultaneously. The steps involved in the Multinomial approach are as follows:\n",
    "\n",
    "1. A single logistic regression model is trained using the entire dataset, with the target variable represented using one-hot encoding or categorical labels.\n",
    "2. The model's output is a set of K probabilities, one for each class, representing the likelihood of an instance belonging to each class.\n",
    "3. The probabilities are calculated using the softmax function, which ensures that the predicted probabilities sum to 1.\n",
    "4. During prediction, the class with the highest predicted probability is assigned as the final predicted class.\n",
    "\n",
    "The Multinomial approach provides a more unified and direct approach to multiclass classification using logistic regression. It models the dependencies between classes and allows for more efficient training and inference compared to the OvR approach."
   ]
  },
  {
   "cell_type": "markdown",
   "id": "89ccbfc7",
   "metadata": {},
   "source": [
    "# Q7. Ans"
   ]
  },
  {
   "cell_type": "markdown",
   "id": "77028a94",
   "metadata": {},
   "source": [
    "An end-to-end project for multiclass classification typically involves several key steps to build, evaluate, and deploy a model. Here is a general outline of the major steps involved:\n",
    "\n",
    "1. Define the problem\n",
    "2. Gather and preprocess the data\n",
    "3. Split the data\n",
    "4. Feature engineering and selection\n",
    "5. Model selection and training\n",
    "6. Evaluate model performance\n",
    "7. Fine-tuning and iteration\n",
    "8. Model deployment and prediction"
   ]
  },
  {
   "cell_type": "markdown",
   "id": "659f946f",
   "metadata": {},
   "source": [
    "# Q8. Ans"
   ]
  },
  {
   "cell_type": "markdown",
   "id": "f1562d2f",
   "metadata": {},
   "source": [
    "Model deployment is the process of putting machine learning models into production. This makes the model's predictions available to users, developers or systems, so they can make business decisions based on data, interact with their application (like recognize a face in an image) and so on."
   ]
  },
  {
   "cell_type": "markdown",
   "id": "d6807e3f",
   "metadata": {},
   "source": [
    "# Q9. Ans"
   ]
  },
  {
   "cell_type": "markdown",
   "id": "bab1c0b4",
   "metadata": {},
   "source": [
    "Multi-cloud platforms are used for model deployment to leverage the benefits of multiple cloud service providers (CSPs) and distribute workloads across different cloud environments. Here's an explanation of how multi-cloud platforms are utilized for model deployment\n",
    "\n",
    "1. Flexibility and vendor lock-in avoidance\n",
    "2. High availability and disaster recovery\n",
    "3. Geographic diversity and latency optimization\n",
    "4. Cost optimization and resource scaling\n",
    "5. Redundancy and fault tolerance\n",
    "6. Hybrid cloud and workload distribution\n",
    "7. Data sovereignty and compliance\n",
    "8. Automation and management"
   ]
  },
  {
   "cell_type": "markdown",
   "id": "e332face",
   "metadata": {},
   "source": [
    "# Q10. Ans"
   ]
  },
  {
   "cell_type": "markdown",
   "id": "c8a7e406",
   "metadata": {},
   "source": [
    "Benefits of Multicloud Environment are:\n",
    "    \n",
    "1. Avoiding vendor lock-In: By relying on just one cloud provider, companies might encounter situations in which their data and metadata are shaped by that provider’s proprietary systems and protocols. \n",
    "2. Increased productivity and efficiency: By using the top resources from multiple cloud providers, organizations can significantly improve their productivity and efficiency. \n",
    "3. Improved flexibility: Multi-cloud integration is ideal for the flexibility required to effectively complete different tasks. \n",
    "4. Dynamic pricing: Organizations who use multi-cloud integration have the benefit of switching between cloud applications with different pricing models, thus taking advantage of dynamic prices by simply moving their workloads.\n",
    "5. Better disaster recovery: It’s rarely a good idea to keep all of your cloud resources in a single host. If any issues occur — say an outage or some other form of downtime — productivity stops altogether. \n",
    "\n",
    "Challenges of Multicloud Environment are:\n",
    "    \n",
    "1. Architectural complexity: Migrating solutions to the cloud or multiple cloud environments requires substantial changes to an organization’s existing architecture — especially when they’ve historically only had on-premises infrastructure. \n",
    "2. On-prem integration structure maintenance: When businesses deploy multi-cloud integration, it’s often difficult to preserve the integration structure of on-prem data and supporting systems.\n",
    "3. Agility: Multi-cloud integrations require a degree of agility that’s not as necessary when relying on a single cloud system or on-prem deployments.\n",
    "4. Data protection: Regulations such as GDPR hold organizations responsible for governance policies and practices for personally identifiable information (PII). \n",
    "5. Containers and microservices: Containers and microservices are useful in cloud deployments for developing and running applications."
   ]
  },
  {
   "cell_type": "code",
   "execution_count": null,
   "id": "e8ac2fff",
   "metadata": {},
   "outputs": [],
   "source": []
  },
  {
   "cell_type": "code",
   "execution_count": null,
   "id": "8f29e3b5",
   "metadata": {},
   "outputs": [],
   "source": []
  }
 ],
 "metadata": {
  "kernelspec": {
   "display_name": "Python 3 (ipykernel)",
   "language": "python",
   "name": "python3"
  },
  "language_info": {
   "codemirror_mode": {
    "name": "ipython",
    "version": 3
   },
   "file_extension": ".py",
   "mimetype": "text/x-python",
   "name": "python",
   "nbconvert_exporter": "python",
   "pygments_lexer": "ipython3",
   "version": "3.9.12"
  }
 },
 "nbformat": 4,
 "nbformat_minor": 5
}
