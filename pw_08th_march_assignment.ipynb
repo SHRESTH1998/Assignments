{
  "cells": [
    {
      "cell_type": "markdown",
      "id": "cd7b5378-5c91-4108-9bff-c48958a854cf",
      "metadata": {
        "id": "cd7b5378-5c91-4108-9bff-c48958a854cf"
      },
      "source": [
        "Q1. Ans"
      ]
    },
    {
      "cell_type": "markdown",
      "id": "88dc1b9d-e15b-467c-9f65-3897ba19b038",
      "metadata": {
        "id": "88dc1b9d-e15b-467c-9f65-3897ba19b038"
      },
      "source": [
        "The Probability Density Function(PDF) defines the probability function representing the density of a continuous random variable lying between a specific range of values. In other words, the probability density function produces the likelihood of values of the continuous random variable. Sometimes it is also called a probability distribution function or just a probability function."
      ]
    },
    {
      "cell_type": "markdown",
      "id": "08e53613-145a-4b4d-9d94-760f894c4c70",
      "metadata": {
        "id": "08e53613-145a-4b4d-9d94-760f894c4c70"
      },
      "source": [
        "Q2. Ans"
      ]
    },
    {
      "cell_type": "markdown",
      "id": "ac9795d8-60be-4cb2-b474-83c3611b7328",
      "metadata": {
        "id": "ac9795d8-60be-4cb2-b474-83c3611b7328"
      },
      "source": [
        "There are two types of probability distribution which are used for different purposes and various types of the data generation process.\n",
        "\n",
        "1. Normal or Cumulative Probability Distribution\n",
        "2. Binomial or Discrete Probability Distribution"
      ]
    },
    {
      "cell_type": "markdown",
      "id": "ccc0fcaf-65e7-483b-aa9f-73237bc39c94",
      "metadata": {
        "id": "ccc0fcaf-65e7-483b-aa9f-73237bc39c94"
      },
      "source": [
        "Q3. Ans"
      ]
    },
    {
      "cell_type": "code",
      "execution_count": 1,
      "id": "4446c1b4-02b3-436b-92b5-29eaf3c75e2f",
      "metadata": {
        "colab": {
          "base_uri": "https://localhost:8080/"
        },
        "id": "4446c1b4-02b3-436b-92b5-29eaf3c75e2f",
        "outputId": "2d362fc4-e275-4ffc-ff19-d3c5bdfedcb1"
      },
      "outputs": [
        {
          "output_type": "stream",
          "name": "stdout",
          "text": [
            "PDF at x = 2.5 : 0.01752830049356854\n"
          ]
        }
      ],
      "source": [
        "from scipy.stats import norm\n",
        "\n",
        "def calculate_pdf(x, mean, std_dev):\n",
        "    \"\"\"\n",
        "    Calculates the probability density function (PDF) of a normal distribution\n",
        "    at a given point.\n",
        "\n",
        "    Args:\n",
        "        x (float): The point at which to calculate the PDF.\n",
        "        mean (float): The mean of the normal distribution.\n",
        "        std_dev (float): The standard deviation of the normal distribution.\n",
        "\n",
        "    Returns:\n",
        "        float: The PDF value at the given point.\n",
        "    \"\"\"\n",
        "    pdf = norm.pdf(x, loc=mean, scale=std_dev)\n",
        "    return pdf\n",
        "x = 2.5\n",
        "mean = 0\n",
        "std_dev = 1\n",
        "\n",
        "pdf_value = calculate_pdf(x, mean, std_dev)\n",
        "print(\"PDF at x =\", x, \":\", pdf_value)\n"
      ]
    },
    {
      "cell_type": "markdown",
      "id": "d46e2ac2-b288-4622-b766-c28584e868be",
      "metadata": {
        "id": "d46e2ac2-b288-4622-b766-c28584e868be"
      },
      "source": [
        "Q4. Ans"
      ]
    },
    {
      "cell_type": "code",
      "execution_count": null,
      "id": "43f43dff-09fc-478d-8514-eb4cb4bba730",
      "metadata": {
        "id": "43f43dff-09fc-478d-8514-eb4cb4bba730"
      },
      "outputs": [],
      "source": [
        "The properties of the binomial distribution are:\n",
        "\n",
        "1. There are two possible outcomes: true or false, success or failure, yes or no.\n",
        "2. There is ‘n’ number of independent trials or a fixed number of n times repeated trials.\n",
        "3. The probability of success or failure remains the same for each trial.\n",
        "4. Only the number of success is calculated out of n independent trials.\n",
        "5. Every trial is an independent trial, which means the outcome of one trial does not affect the outcome of another trial."
      ]
    },
    {
      "cell_type": "markdown",
      "id": "366a1d7f-3416-4b7a-a911-cd1bac7b24bb",
      "metadata": {
        "id": "366a1d7f-3416-4b7a-a911-cd1bac7b24bb"
      },
      "source": [
        "Example 1: If a coin is tossed 5 times, find the probability of:\n",
        "\n",
        "(a) Exactly 2 heads\n",
        "\n",
        "(b) At least 4 heads.\n",
        "\n",
        "Solution:\n",
        "\n",
        "(a) The repeated tossing of the coin is an example of a Bernoulli trial. According to the problem:\n",
        "\n",
        "Number of trials: n=5\n",
        "\n",
        "Probability of head: p= 1/2 and hence the probability of tail, q =1/2\n",
        "\n",
        "For exactly two heads:\n",
        "\n",
        "x=2\n",
        "\n",
        "P(x=2) = 5C2 p2 q5-2 = 5! / 2! 3! × (½)2× (½)3\n",
        "\n",
        "P(x=2) = 5/16\n",
        "\n",
        "(b) For at least four heads,\n",
        "\n",
        "x ≥ 4, P(x ≥ 4) = P(x = 4) + P(x=5)\n",
        "\n",
        "Hence,\n",
        "\n",
        "P(x = 4) = 5C4 p4 q5-4 = 5!/4! 1! × (½)4× (½)1 = 5/32\n",
        "\n",
        "P(x = 5) = 5C5 p5 q5-5 = (½)5 = 1/32\n",
        "\n",
        "Therefore,\n",
        "\n",
        "P(x ≥ 4) = 5/32 + 1/32 = 6/32 = 3/16"
      ]
    },
    {
      "cell_type": "markdown",
      "id": "6ffba826-eb2b-40d2-8970-f589ae0c43a7",
      "metadata": {
        "id": "6ffba826-eb2b-40d2-8970-f589ae0c43a7"
      },
      "source": [
        "Q5. Ans"
      ]
    },
    {
      "cell_type": "code",
      "execution_count": 2,
      "id": "af28f5e2-8e76-4e13-9b17-7f3b0b244e78",
      "metadata": {
        "colab": {
          "base_uri": "https://localhost:8080/",
          "height": 472
        },
        "id": "af28f5e2-8e76-4e13-9b17-7f3b0b244e78",
        "outputId": "c6c8c47d-b1f0-43db-c3d0-ad108221ca06"
      },
      "outputs": [
        {
          "output_type": "display_data",
          "data": {
            "text/plain": [
              "<Figure size 640x480 with 1 Axes>"
            ],
            "image/png": "[encoded data removed]"
          },
          "metadata": {}
        }
      ],
      "source": [
        "import numpy as np\n",
        "import matplotlib.pyplot as plt\n",
        "\n",
        "# Set the parameters\n",
        "n = 1  # Number of trials\n",
        "p = 0.4  # Probability of success\n",
        "sample_size = 1000  # Sample size\n",
        "\n",
        "# Generate random sample from binomial distribution\n",
        "sample = np.random.binomial(n, p, size=sample_size)\n",
        "\n",
        "# Plot the histogram\n",
        "plt.hist(sample, bins='auto', color='blue', alpha=0.7)\n",
        "plt.xlabel('Number of Successes')\n",
        "plt.ylabel('Frequency')\n",
        "plt.title('Histogram of Binomial Distribution')\n",
        "plt.grid(True)\n",
        "plt.show()\n"
      ]
    },
    {
      "cell_type": "markdown",
      "id": "9dda4e97-0c03-4a61-8688-b2c4d6ae2a59",
      "metadata": {
        "id": "9dda4e97-0c03-4a61-8688-b2c4d6ae2a59"
      },
      "source": [
        "Q6.Ans"
      ]
    },
    {
      "cell_type": "code",
      "execution_count": 3,
      "id": "12f13279-cc43-4d6f-8776-74c3c00df265",
      "metadata": {
        "colab": {
          "base_uri": "https://localhost:8080/"
        },
        "id": "12f13279-cc43-4d6f-8776-74c3c00df265",
        "outputId": "8b1f8d29-945a-4a47-a605-f381603fa599"
      },
      "outputs": [
        {
          "output_type": "stream",
          "name": "stdout",
          "text": [
            "CDF at x = 3 : 0.7575761331330662\n"
          ]
        }
      ],
      "source": [
        "from scipy.stats import poisson\n",
        "\n",
        "def calculate_cdf(x, mean):\n",
        "    \"\"\"\n",
        "    Calculates the cumulative distribution function (CDF) of a Poisson distribution\n",
        "    at a given point.\n",
        "\n",
        "    Args:\n",
        "        x (int): The point at which to calculate the CDF.\n",
        "        mean (float): The mean of the Poisson distribution.\n",
        "\n",
        "    Returns:\n",
        "        float: The CDF value at the given point.\n",
        "    \"\"\"\n",
        "    cdf = poisson.cdf(x, mu=mean)\n",
        "    return cdf\n",
        "x = 3\n",
        "mean = 2.5\n",
        "\n",
        "cdf_value = calculate_cdf(x, mean)\n",
        "print(\"CDF at x =\", x, \":\", cdf_value)\n"
      ]
    },
    {
      "cell_type": "markdown",
      "id": "6777daca-f62a-4da0-abf5-53fcb2633aa5",
      "metadata": {
        "id": "6777daca-f62a-4da0-abf5-53fcb2633aa5"
      },
      "source": [
        "Q7. Ans"
      ]
    },
    {
      "cell_type": "markdown",
      "id": "1fb8a6ce-968c-4e93-80c0-c7e03b55afd9",
      "metadata": {
        "id": "1fb8a6ce-968c-4e93-80c0-c7e03b55afd9"
      },
      "source": [
        "Binomial distribution describes the distribution of binary data from a finite sample. Thus it gives the probability of getting r events out of n trials. Poisson distribution describes the distribution of binary data from an infinite sample. Thus it gives the probability of getting r events in a population."
      ]
    },
    {
      "cell_type": "markdown",
      "id": "77d9d94d-0486-4c5d-ab18-1dd7959197cf",
      "metadata": {
        "id": "77d9d94d-0486-4c5d-ab18-1dd7959197cf"
      },
      "source": [
        "Q8. Ans"
      ]
    },
    {
      "cell_type": "code",
      "execution_count": 4,
      "id": "25861a55-fa38-499c-8608-8c7c1b23c0ca",
      "metadata": {
        "colab": {
          "base_uri": "https://localhost:8080/"
        },
        "id": "25861a55-fa38-499c-8608-8c7c1b23c0ca",
        "outputId": "c16279cf-f7c0-4474-ba2d-fdfed3d58288"
      },
      "outputs": [
        {
          "output_type": "stream",
          "name": "stdout",
          "text": [
            "Sample Mean: 5.043\n",
            "Sample Variance: 4.721151\n"
          ]
        }
      ],
      "source": [
        "import numpy as np\n",
        "\n",
        "# Set the parameters\n",
        "mean = 5  # Mean of the Poisson distribution\n",
        "sample_size = 1000  # Sample size\n",
        "\n",
        "# Generate random sample from Poisson distribution\n",
        "sample = np.random.poisson(mean, size=sample_size)\n",
        "\n",
        "# Calculate the sample mean and variance\n",
        "sample_mean = np.mean(sample)\n",
        "sample_variance = np.var(sample)\n",
        "\n",
        "print(\"Sample Mean:\", sample_mean)\n",
        "print(\"Sample Variance:\", sample_variance)\n"
      ]
    },
    {
      "cell_type": "markdown",
      "id": "6368864a-e087-4be7-a981-7b3266c8ed6c",
      "metadata": {
        "id": "6368864a-e087-4be7-a981-7b3266c8ed6c"
      },
      "source": [
        "Q9. Ans"
      ]
    },
    {
      "cell_type": "markdown",
      "id": "99650617-1eec-41aa-9a78-b5ce7aff7a29",
      "metadata": {
        "id": "99650617-1eec-41aa-9a78-b5ce7aff7a29"
      },
      "source": [
        "The mean and the variance of the Poisson distribution are the same, which is equal to the average number of successes that occur in the given interval of time."
      ]
    }
  ],
  "metadata": {
    "kernelspec": {
      "display_name": "Python 3 (ipykernel)",
      "language": "python",
      "name": "python3"
    },
    "language_info": {
      "codemirror_mode": {
        "name": "ipython",
        "version": 3
      },
      "file_extension": ".py",
      "mimetype": "text/x-python",
      "name": "python",
      "nbconvert_exporter": "python",
      "pygments_lexer": "ipython3",
      "version": "3.10.8"
    },
    "colab": {
      "provenance": []
    }
  },
  "nbformat": 4,
  "nbformat_minor": 5
}