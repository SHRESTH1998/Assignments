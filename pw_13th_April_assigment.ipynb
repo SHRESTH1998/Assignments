{
 "cells": [
  {
   "cell_type": "markdown",
   "id": "6d4c4b7f",
   "metadata": {},
   "source": [
    "# Q1. Ans"
   ]
  },
  {
   "cell_type": "markdown",
   "id": "441b015d",
   "metadata": {},
   "source": [
    " A random forest is a meta estimator that fits a number of classifying decision trees on various sub-samples of the dataset and uses averaging to improve the predictive accuracy and control over-fitting."
   ]
  },
  {
   "cell_type": "markdown",
   "id": "5de74840",
   "metadata": {},
   "source": [
    "# Q2. Ans"
   ]
  },
  {
   "cell_type": "markdown",
   "id": "da23ecd3",
   "metadata": {},
   "source": [
    "Random forests deals with the problem of overfitting by creating multiple trees, with each tree trained slightly differently so it overfits differently. Random forests is a classifier that combines a large number of decision trees. The decisions of each tree are then combined to make the final classification."
   ]
  },
  {
   "cell_type": "markdown",
   "id": "16abf608",
   "metadata": {},
   "source": [
    "# Q3. Ans"
   ]
  },
  {
   "cell_type": "markdown",
   "id": "1ef8e690",
   "metadata": {},
   "source": [
    "The Random Forest Regressor aggregates the predictions of multiple decision trees in a specific way to make a final prediction. Here's how it works:\n",
    "\n",
    "1. Ensemble of Decision Trees:\n",
    "\n",
    "Random Forest Regressor creates an ensemble of decision trees, typically referred to as a forest. Each decision tree in the forest is trained on a bootstrap sample of the original training data, which involves randomly selecting a subset of the data with replacement.\n",
    "\n",
    "Additionally, during the training process of each decision tree, a random subset of features is considered for each split. This introduces further randomness and helps to reduce correlation among the trees.\n",
    "\n",
    "2. Prediction Aggregation:\n",
    "\n",
    "When making predictions using the Random Forest Regressor, each decision tree in the ensemble independently produces its own prediction for a given input.\n",
    "\n",
    "For regression tasks, the predictions of the individual decision trees are aggregated to obtain the final prediction. The most common method for aggregation is to take the average of the predicted values from all the decision trees.\n",
    "\n",
    "In other words, the Random Forest Regressor calculates the average of the individual predictions to obtain the final prediction.\n",
    "\n",
    "3. Weighted Aggregation (Optional):\n",
    "\n",
    "In some implementations of the Random Forest Regressor, each decision tree's prediction can be weighted based on its performance or some other criterion. The weights are used during the aggregation process to give more importance to certain decision trees or to adjust their influence on the final prediction."
   ]
  },
  {
   "cell_type": "markdown",
   "id": "0a4b7769",
   "metadata": {},
   "source": [
    "# Q4. Ans"
   ]
  },
  {
   "cell_type": "markdown",
   "id": "cd8a5b3f",
   "metadata": {},
   "source": [
    "There are various hyperparameters that can be controlled in a random forest:\n",
    "\n",
    "1. N_estimators: The number of decision trees being built in the forest. Default values in sklearn are 100. N_estimators are mostly correlated to the size of data, to encapsulate the trends in the data, more number of DTs are needed. \n",
    "\n",
    "2. Criterion: The function that is used to measure the quality of splits in a decision tree (Classification Problem). Supported criteria are gini: gini impurity or entropy: information gain. In case of Regression Mean Absolute Error (MAE) or Mean Squared Error (MSE) can be used. Default is gini and mse.\n",
    "\n",
    "3. Max_depth: The maximum levels allowed in a decision tree. If set to nothing, The decision tree will keep on splitting until purity is reached.\n",
    "\n",
    "4. Max_features: Maximum number of features used for a node split process. Types: sqrt, log2. If total features are n_features then: sqrt(n_features) or log2(n_features) can be selected as max features for node splitting.\n",
    "\n",
    "5. Bootstrap: Bootstrap samples are used when building decision trees if True is selected in bootstrap, else whole data is used for every decision tree.\n",
    "\n",
    "6. Min_samples_split: This parameter decides the minimum number of samples required to split an internal node. Default value =2. The problem with such a small value is that the condition is checked on the terminal node. If the data points in the node exceed the value 2, then further splitting takes place. Whereas if a more lenient value like 6 is set, then the splitting will stop early and the decision tree wont overfit on the data.\n",
    "\n",
    "7. Min_sample_leaf: This parameter sets the minimum number of data point requirements in a node of the decision tree. It affects the terminal node and basically helps in controlling the depth of the tree. If after a split the data points in a node goes under the min_sample_leaf number, the split won’t go through and will be stopped at the parent node.\n",
    "\n",
    "8. Max_leaf_nodes- With the help of this hyperparameter, a condition can be set on the splitting of the nodes in the tree. Thus, the growth of the tree gets automatically restricted."
   ]
  },
  {
   "cell_type": "markdown",
   "id": "f838d0b7",
   "metadata": {},
   "source": [
    "# Q5. Ans"
   ]
  },
  {
   "cell_type": "markdown",
   "id": "76aaff76",
   "metadata": {},
   "source": [
    "A decision tree combines some decisions, whereas a random forest combines several decision trees. Thus, it is a long process, yet slow. Whereas, a decision tree is fast and operates easily on large data sets, especially the linear one. The random forest model needs rigorous training."
   ]
  },
  {
   "cell_type": "markdown",
   "id": "1b3998e4",
   "metadata": {},
   "source": [
    "# Q6. Ans"
   ]
  },
  {
   "cell_type": "markdown",
   "id": "65eb53ab",
   "metadata": {},
   "source": [
    "Advantages of random forest\n",
    "\n",
    "1. It can perform both regression and classification tasks.\n",
    "2. A random forest produces good predictions that can be understood easily.\n",
    "3. It can handle large datasets efficiently.\n",
    "4. The random forest algorithm provides a higher level of accuracy in predicting outcomes over the decision tree algorithm.\n",
    "\n",
    "Disadvantages of Random Forest\n",
    "\n",
    "The main limitation of random forest is that a large number of trees can make the algorithm too slow and ineffective for real-time predictions. In general, these algorithms are fast to train, but quite slow to create predictions once they are trained."
   ]
  },
  {
   "cell_type": "markdown",
   "id": "32837a1f",
   "metadata": {},
   "source": [
    "# Q7. Ans"
   ]
  },
  {
   "cell_type": "markdown",
   "id": "13091734",
   "metadata": {},
   "source": [
    "Random forest operates by constructing a multitude of decision trees at training time and outputting the clas s that's the mode of the classes (classification) or mean prediction (regression) of the individual trees."
   ]
  },
  {
   "cell_type": "markdown",
   "id": "f05ca49b",
   "metadata": {},
   "source": [
    "# Q8. Ans"
   ]
  },
  {
   "cell_type": "markdown",
   "id": "1e1c517a",
   "metadata": {},
   "source": [
    "Yes, the Random Forest algorithm can be used for both classification and regression tasks. While the Random Forest Regressor is primarily used for regression problems, there is also a variant called the Random Forest Classifier specifically designed for classification tasks.\n",
    "\n",
    "Random Forest Classifier operates similarly to the Random Forest Regressor, but with some differences in the way predictions are made and the evaluation of the algorithm. Here are the key points regarding Random Forest Classifier:\n",
    "\n",
    "Ensemble of Decision Trees: Like the Random Forest Regressor, the Random Forest Classifier creates an ensemble of decision trees. Each decision tree is trained on a bootstrap sample of the training data, and a random subset of features is considered for each split to introduce diversity among the trees.\n",
    "\n",
    "Prediction Aggregation: In classification tasks, the predictions of the individual decision trees are aggregated through majority voting. Each tree in the ensemble independently predicts the class for a given input, and the class that receives the most votes across all the trees is considered the final prediction. This voting mechanism ensures robust predictions and helps to handle class imbalances.\n",
    "\n",
    "Probability Estimation: In addition to the predicted class labels, Random Forest Classifier can also estimate the probability or confidence of a data point belonging to each class. This is done by averaging the probabilities of the individual decision trees in the ensemble. These probabilities can be useful for assessing the certainty of the predictions or for other tasks such as thresholding or ranking.\n",
    "\n",
    "Random Forest Classifier is a powerful and popular algorithm for classification tasks. It offers several advantages, including handling high-dimensional data, handling missing values, and being less prone to overfitting compared to individual decision trees. It can handle binary classification as well as multi-class classification problems effectively."
   ]
  }
 ],
 "metadata": {
  "kernelspec": {
   "display_name": "Python 3 (ipykernel)",
   "language": "python",
   "name": "python3"
  },
  "language_info": {
   "codemirror_mode": {
    "name": "ipython",
    "version": 3
   },
   "file_extension": ".py",
   "mimetype": "text/x-python",
   "name": "python",
   "nbconvert_exporter": "python",
   "pygments_lexer": "ipython3",
   "version": "3.9.12"
  }
 },
 "nbformat": 4,
 "nbformat_minor": 5
}
