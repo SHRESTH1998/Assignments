{
  "cells": [
    {
      "cell_type": "markdown",
      "id": "0362b593-1e50-4a76-acd9-3f94752f2df1",
      "metadata": {
        "id": "0362b593-1e50-4a76-acd9-3f94752f2df1"
      },
      "source": [
        "Q1. Ans"
      ]
    },
    {
      "cell_type": "markdown",
      "id": "fc6a2f26-f29a-41e9-bb3d-4fb7d7c0fd5b",
      "metadata": {
        "id": "fc6a2f26-f29a-41e9-bb3d-4fb7d7c0fd5b"
      },
      "source": [
        "Estimation is the process by which the numerical value of unknown population values are inferred from incomplete data, such as a sample. If a single figure is calculated for each unknown parameter, the process is called point estimation.\n",
        "\n",
        "A point estimate is a single value estimate of a parameter. For instance, a sample mean is a point estimate of a population mean.\n",
        "\n",
        "An interval estimate gives you a range of values where the parameter is expected to lie. A confidence interval is the most common type of interval estimate."
      ]
    },
    {
      "cell_type": "markdown",
      "id": "ea1f89b6-3564-4d76-ad07-b5faa6865281",
      "metadata": {
        "id": "ea1f89b6-3564-4d76-ad07-b5faa6865281"
      },
      "source": [
        "Q2. Ans"
      ]
    },
    {
      "cell_type": "code",
      "execution_count": 2,
      "id": "42b72e8e-9d3e-4bec-9d71-2da3b886b5d5",
      "metadata": {
        "colab": {
          "base_uri": "https://localhost:8080/"
        },
        "id": "42b72e8e-9d3e-4bec-9d71-2da3b886b5d5",
        "outputId": "ce038b71-f4a6-4459-c0bb-10b07eb4b890"
      },
      "outputs": [
        {
          "output_type": "stream",
          "name": "stdout",
          "text": [
            "Estimated Population Mean: 50.0\n"
          ]
        }
      ],
      "source": [
        "def estimate_population_mean(sample_mean, sample_std_dev, sample_size):\n",
        "\n",
        "    estimated_population_mean = sample_mean * (sample_size ** 0.5) / sample_std_dev\n",
        "    return estimated_population_mean\n",
        "\n",
        "sample_mean = 10\n",
        "sample_std_dev = 2\n",
        "sample_size = 100\n",
        "\n",
        "estimated_mean = estimate_population_mean(sample_mean, sample_std_dev, sample_size)\n",
        "print(\"Estimated Population Mean:\", estimated_mean)\n"
      ]
    },
    {
      "cell_type": "markdown",
      "id": "d3fb539a-d15a-42ac-8b8b-d7b7d0688c46",
      "metadata": {
        "id": "d3fb539a-d15a-42ac-8b8b-d7b7d0688c46"
      },
      "source": [
        "Q3. Ans"
      ]
    },
    {
      "cell_type": "markdown",
      "id": "bfce4e02-a7de-473a-ac8a-a1eed8942774",
      "metadata": {
        "id": "bfce4e02-a7de-473a-ac8a-a1eed8942774"
      },
      "source": [
        "Hypothesis testing is the process used to evaluate the strength of evidence from the sample and provides a framework for making determinations related to the population, ie, it provides a method for understanding how reliably one can extrapolate observed findings in a sample under study to the larger population from which the sample was drawn. The investigator formulates a specific hypothesis, evaluates data from the sample, and uses these data to decide whether they support the specific hypothesis\n",
        "\n",
        "Suppose a company needs to launch a new bicycle in the market. For this situation, they will follow Hypothesis Testing all together decide the success of the new product in the market.\n",
        "\n",
        "Where the likelihood of the product being ineffective in the market is undertaken as the Null Hypothesis and the likelihood of the product being profitable is undertaken as an Alternative Hypothesis. By following the process of Hypothesis testing they will foresee the accomplishment."
      ]
    },
    {
      "cell_type": "markdown",
      "id": "5c583d32-8044-4036-8ff1-c9c52589f84f",
      "metadata": {
        "id": "5c583d32-8044-4036-8ff1-c9c52589f84f"
      },
      "source": [
        "Q4. Ans"
      ]
    },
    {
      "cell_type": "markdown",
      "source": [
        "Hypothesis:\n",
        "The average weight of male college students is greater than the average weight of female college students.\n",
        "\n",
        "Null Hypothesis (H₀):\n",
        "The average weight of male college students is equal to or less than the average weight of female college students.\n",
        "\n",
        "Alternate Hypothesis (H₁):\n",
        "The average weight of male college students is greater than the average weight of female college students.\n",
        "\n",
        "Symbolically:\n",
        "\n",
        "H₀: μ₁ ≤ μ₂\n",
        "\n",
        "H₁: μ₁ > μ₂\n",
        "\n",
        "where:\n",
        "\n",
        "μ₁ represents the population mean weight of male college students.\n",
        "μ₂ represents the population mean weight of female college students.\n",
        "In this hypothesis, we are testing whether there is evidence to suggest that male college students have a greater average weight compared to female college students. The null hypothesis assumes that there is no significant difference or that female college students might have an equal or greater average weight. The alternative hypothesis states that male college students have a higher average weight than female college students.\n",
        "\n",
        "To test this hypothesis, we would collect data on the weights of male and female college students and perform appropriate statistical tests, such as a t-test or a hypothesis test for comparing means, to determine whether there is enough evidence to reject the null hypothesis in favor of the alternative hypothesis."
      ],
      "metadata": {
        "id": "OZabBix92jwQ"
      },
      "id": "OZabBix92jwQ"
    },
    {
      "cell_type": "markdown",
      "id": "6b276ae5-ce67-4845-afc5-344ebfa4cee1",
      "metadata": {
        "id": "6b276ae5-ce67-4845-afc5-344ebfa4cee1"
      },
      "source": [
        "Q5. Ans"
      ]
    },
    {
      "cell_type": "code",
      "execution_count": 3,
      "id": "37ee7aac-9d53-472e-b5fb-35d4290c4694",
      "metadata": {
        "colab": {
          "base_uri": "https://localhost:8080/"
        },
        "id": "37ee7aac-9d53-472e-b5fb-35d4290c4694",
        "outputId": "de2da5e2-9790-4c17-8e50-15d0d37738d6"
      },
      "outputs": [
        {
          "output_type": "stream",
          "name": "stdout",
          "text": [
            "Fail to reject the null hypothesis.\n",
            "T-statistic: 0.7276068751089985\n",
            "P-value: 0.48759961684241493\n"
          ]
        }
      ],
      "source": [
        "from scipy import stats\n",
        "\n",
        "# Sample data\n",
        "sample1 = [12, 15, 18, 20, 22]\n",
        "sample2 = [10, 14, 16, 18, 20]\n",
        "\n",
        "# Perform t-test for independent samples\n",
        "t_statistic, p_value = stats.ttest_ind(sample1, sample2)\n",
        "\n",
        "# Set the significance level (alpha)\n",
        "alpha = 0.05\n",
        "\n",
        "# Compare p-value to alpha and make a decision\n",
        "if p_value < alpha:\n",
        "    print(\"Reject the null hypothesis.\")\n",
        "else:\n",
        "    print(\"Fail to reject the null hypothesis.\")\n",
        "\n",
        "# Print the t-statistic and p-value\n",
        "print(\"T-statistic:\", t_statistic)\n",
        "print(\"P-value:\", p_value)\n"
      ]
    },
    {
      "cell_type": "markdown",
      "id": "b9884b76-f4c7-4007-af59-47a8d1f8bc8b",
      "metadata": {
        "id": "b9884b76-f4c7-4007-af59-47a8d1f8bc8b"
      },
      "source": [
        "Q6. Ans"
      ]
    },
    {
      "cell_type": "markdown",
      "id": "c06b12d4-e36d-4126-8e4f-73482c4469c2",
      "metadata": {
        "id": "c06b12d4-e36d-4126-8e4f-73482c4469c2"
      },
      "source": [
        "Null and alternative hypotheses are used in statistical hypothesis testing. The null hypothesis of a test always predicts no effect or no relationship between variables, while the alternative hypothesis states your research prediction of an effect or relationship.\n",
        "\n",
        "Null hypothesis - Children who take vitamin C are no less likely to become ill during flu season.\n",
        "\n",
        "Alternative hypothesis - Children who take vitamin C are less likely to become ill during flu season. Significance level - The significance level is 0.05."
      ]
    },
    {
      "cell_type": "markdown",
      "id": "9426c862-f703-4f99-ae5f-f3ff26b448ee",
      "metadata": {
        "id": "9426c862-f703-4f99-ae5f-f3ff26b448ee"
      },
      "source": [
        "Q7. Ans"
      ]
    },
    {
      "cell_type": "code",
      "execution_count": null,
      "id": "e0937442-37c3-49ed-b87a-8a7d8479661e",
      "metadata": {
        "id": "e0937442-37c3-49ed-b87a-8a7d8479661e"
      },
      "outputs": [],
      "source": [
        "Step 1: State your null and alternate hypothesis.\n",
        "Step 2: Collect data.\n",
        "Step 3: Perform a statistical test.\n",
        "Step 4: Decide whether to reject or fail to reject your null hypothesis.\n",
        "Step 5: Present your findings."
      ]
    },
    {
      "cell_type": "markdown",
      "id": "e440e880-3ec9-4039-91e8-9456a3757ca2",
      "metadata": {
        "id": "e440e880-3ec9-4039-91e8-9456a3757ca2"
      },
      "source": [
        "Q8. Ans"
      ]
    },
    {
      "cell_type": "markdown",
      "id": "f666f881-bc79-4160-9d22-a25df570ea5b",
      "metadata": {
        "id": "f666f881-bc79-4160-9d22-a25df570ea5b"
      },
      "source": [
        "The p value is a number, calculated from a statistical test, that describes how likely you are to have found a particular set of observations if the null hypothesis were true. P values are used in hypothesis testing to help decide whether to reject the null hypothesis.\n",
        "\n",
        "P-value shows how likely it is that your set of observations could have occurred under the null hypothesis. P-Values are used in statistical hypothesis testing to determine whether to reject the null hypothesis. The smaller the p-value, the stronger the likelihood that you should reject the null hypothesis."
      ]
    },
    {
      "cell_type": "markdown",
      "id": "d105b6d8-427d-46fa-b5fd-24fa4dbb27f1",
      "metadata": {
        "id": "d105b6d8-427d-46fa-b5fd-24fa4dbb27f1"
      },
      "source": [
        "Q9. Ans"
      ]
    },
    {
      "cell_type": "code",
      "execution_count": 4,
      "id": "74900c3a-5605-4c1c-9387-acb4e20bf3d7",
      "metadata": {
        "colab": {
          "base_uri": "https://localhost:8080/",
          "height": 472
        },
        "id": "74900c3a-5605-4c1c-9387-acb4e20bf3d7",
        "outputId": "7ac8bbfa-fab4-4bbc-c01e-a3dd4f41e765"
      },
      "outputs": [
        {
          "output_type": "display_data",
          "data": {
            "text/plain": [
              "<Figure size 640x480 with 1 Axes>"
            ],
            "image/png": "[encoded data removed]"
          },
          "metadata": {}
        }
      ],
      "source": [
        "import numpy as np\n",
        "import matplotlib.pyplot as plt\n",
        "from scipy.stats import t\n",
        "\n",
        "# Set the degrees of freedom\n",
        "df = 10\n",
        "\n",
        "# Generate x values for the plot\n",
        "x = np.linspace(-4, 4, 1000)\n",
        "\n",
        "# Calculate the probability density function (PDF) for the t-distribution\n",
        "pdf = t.pdf(x, df)\n",
        "\n",
        "# Create the plot\n",
        "plt.plot(x, pdf, label='Degrees of Freedom = 10')\n",
        "plt.xlabel('x')\n",
        "plt.ylabel('Probability Density')\n",
        "plt.title('Student\\'s t-Distribution')\n",
        "plt.legend()\n",
        "plt.grid(True)\n",
        "\n",
        "# Display the plot\n",
        "plt.show()\n"
      ]
    },
    {
      "cell_type": "markdown",
      "id": "50480edc-00e5-4954-be8c-cd9e7af8a0a7",
      "metadata": {
        "id": "50480edc-00e5-4954-be8c-cd9e7af8a0a7"
      },
      "source": [
        "Q10. Ans"
      ]
    },
    {
      "cell_type": "code",
      "execution_count": 5,
      "id": "d545c022-a44c-4dcd-8c1a-30fbd6ef8d3f",
      "metadata": {
        "colab": {
          "base_uri": "https://localhost:8080/"
        },
        "id": "d545c022-a44c-4dcd-8c1a-30fbd6ef8d3f",
        "outputId": "d2fa463a-30b4-49d0-b180-a4879ed469ec"
      },
      "outputs": [
        {
          "output_type": "stream",
          "name": "stdout",
          "text": [
            "Fail to reject the null hypothesis.\n",
            "T-statistic: 0.7276068751089985\n",
            "P-value: 0.48759961684241493\n"
          ]
        }
      ],
      "source": [
        "from scipy import stats\n",
        "import numpy as np\n",
        "\n",
        "# Sample data\n",
        "sample1 = [12, 15, 18, 20, 22]\n",
        "sample2 = [10, 14, 16, 18, 20]\n",
        "\n",
        "# Perform t-test for independent samples\n",
        "t_statistic, p_value = stats.ttest_ind(sample1, sample2)\n",
        "\n",
        "# Set the significance level (alpha)\n",
        "alpha = 0.05\n",
        "\n",
        "# Compare p-value to alpha and make a decision\n",
        "if p_value < alpha:\n",
        "    print(\"Reject the null hypothesis.\")\n",
        "else:\n",
        "    print(\"Fail to reject the null hypothesis.\")\n",
        "\n",
        "# Print the t-statistic and p-value\n",
        "print(\"T-statistic:\", t_statistic)\n",
        "print(\"P-value:\", p_value)\n"
      ]
    },
    {
      "cell_type": "markdown",
      "id": "c5d47a0b-d300-4ecf-8f34-7571c77bc728",
      "metadata": {
        "id": "c5d47a0b-d300-4ecf-8f34-7571c77bc728"
      },
      "source": [
        "Q11. Ans"
      ]
    },
    {
      "cell_type": "markdown",
      "id": "a493d739-f91d-4128-a580-28dce4bb3fe3",
      "metadata": {
        "id": "a493d739-f91d-4128-a580-28dce4bb3fe3"
      },
      "source": [
        "The t-distribution, also known as the Student's t-distribution, is a type of probability distribution that is similar to the normal distribution with its bell shape but has heavier tails.\n",
        "\n",
        "The t-distribution is used when data are approximately normally distributed, which means the data follow a bell shape but the population variance is unknown. The variance in a t-distribution is estimated based on the degrees of freedom of the data set (total number of observations minus 1)."
      ]
    },
    {
      "cell_type": "markdown",
      "id": "50c11168-725d-450d-8b76-acb5c39d18ad",
      "metadata": {
        "id": "50c11168-725d-450d-8b76-acb5c39d18ad"
      },
      "source": [
        "Q12. Ans"
      ]
    },
    {
      "cell_type": "markdown",
      "id": "aafa5738-f7fd-4c93-9b54-a05cf44bf625",
      "metadata": {
        "id": "aafa5738-f7fd-4c93-9b54-a05cf44bf625"
      },
      "source": [
        "In statistics, the t-statistic is the ratio of the departure of the estimated value of a parameter from its hypothesized value to its standard error. It is used in hypothesis testing via Student's t-test. The t-statistic is used in a t-test to determine whether to support or reject the null hypothesis.\n",
        "\n",
        "You can calculate a t-value using a common t-test with the formula:\n",
        "t = (X‾ - μ0) / (s / √n),\n",
        "where X‾ is the sample mean, μ0 represents the population mean, s is the standard deviation of the sample and n stands for the size of the sample."
      ]
    },
    {
      "cell_type": "markdown",
      "source": [
        "Q13. Ans"
      ],
      "metadata": {
        "id": "tdJVM_yz39nr"
      },
      "id": "tdJVM_yz39nr"
    },
    {
      "cell_type": "code",
      "execution_count": 6,
      "id": "f68e89d9-9122-40f9-bf29-fc5ddb055aa9",
      "metadata": {
        "colab": {
          "base_uri": "https://localhost:8080/"
        },
        "id": "f68e89d9-9122-40f9-bf29-fc5ddb055aa9",
        "outputId": "a263fd7b-422b-47e7-bf6f-5cba391c6bfe"
      },
      "outputs": [
        {
          "output_type": "stream",
          "name": "stdout",
          "text": [
            "Population mean revenue 95% confidence interval: $485.79 - $514.21\n"
          ]
        }
      ],
      "source": [
        "import scipy.stats as stats\n",
        "import math\n",
        "\n",
        "sample_mean = 500  # Sample mean\n",
        "sample_std_dev = 50  # Sample standard deviation\n",
        "sample_size = 50  # Sample size\n",
        "confidence_level = 0.95  # Confidence level\n",
        "\n",
        "# Calculate the critical value\n",
        "critical_value = stats.t.ppf((1 + confidence_level) / 2, df=sample_size-1)\n",
        "\n",
        "# Calculate the standard error\n",
        "standard_error = sample_std_dev / math.sqrt(sample_size)\n",
        "\n",
        "# Calculate the confidence interval\n",
        "lower_bound = sample_mean - critical_value * standard_error\n",
        "upper_bound = sample_mean + critical_value * standard_error\n",
        "\n",
        "# Print the confidence interval\n",
        "print(\"Population mean revenue 95% confidence interval: ${:.2f} - ${:.2f}\".format(lower_bound, upper_bound))\n"
      ]
    },
    {
      "cell_type": "markdown",
      "source": [
        "Q14. Ans"
      ],
      "metadata": {
        "id": "jUJsGK2j4E0-"
      },
      "id": "jUJsGK2j4E0-"
    },
    {
      "cell_type": "code",
      "execution_count": 7,
      "id": "75cf907d-a76b-43eb-949d-f0ec75923aff",
      "metadata": {
        "colab": {
          "base_uri": "https://localhost:8080/"
        },
        "id": "75cf907d-a76b-43eb-949d-f0ec75923aff",
        "outputId": "8390b8dd-58ce-4a24-e65b-1a8d79628566"
      },
      "outputs": [
        {
          "output_type": "stream",
          "name": "stdout",
          "text": [
            "Reject the null hypothesis.\n",
            "T-statistic: -6.666666666666667\n",
            "Critical value: 1.6603911559963895\n"
          ]
        }
      ],
      "source": [
        "import scipy.stats as stats\n",
        "\n",
        "sample_mean = 8  # Sample mean decrease in blood pressure\n",
        "population_mean = 10  # Hypothesized population mean decrease in blood pressure\n",
        "sample_std_dev = 3  # Sample standard deviation\n",
        "sample_size = 100  # Sample size\n",
        "significance_level = 0.05  # Significance level\n",
        "\n",
        "# Calculate the t-statistic\n",
        "t_statistic = (sample_mean - population_mean) / (sample_std_dev / (sample_size ** 0.5))\n",
        "\n",
        "# Calculate the degrees of freedom\n",
        "degrees_of_freedom = sample_size - 1\n",
        "\n",
        "# Calculate the critical value\n",
        "critical_value = stats.t.ppf(1 - significance_level, df=degrees_of_freedom)\n",
        "\n",
        "# Compare the t-statistic with the critical value and make a decision\n",
        "if t_statistic < -critical_value or t_statistic > critical_value:\n",
        "    print(\"Reject the null hypothesis.\")\n",
        "else:\n",
        "    print(\"Fail to reject the null hypothesis.\")\n",
        "\n",
        "# Print the t-statistic and critical value\n",
        "print(\"T-statistic:\", t_statistic)\n",
        "print(\"Critical value:\", critical_value)\n"
      ]
    },
    {
      "cell_type": "markdown",
      "source": [
        "Q15. Ans"
      ],
      "metadata": {
        "id": "lkjOYvf64UEe"
      },
      "id": "lkjOYvf64UEe"
    },
    {
      "cell_type": "code",
      "source": [
        "import scipy.stats as stats\n",
        "\n",
        "sample_mean = 4.8  # Sample mean weight\n",
        "population_mean = 5  # Hypothesized population mean weight\n",
        "sample_std_dev = 0.5  # Sample standard deviation\n",
        "sample_size = 25  # Sample size\n",
        "significance_level = 0.01  # Significance level\n",
        "\n",
        "# Calculate the t-statistic\n",
        "t_statistic = (sample_mean - population_mean) / (sample_std_dev / (sample_size ** 0.5))\n",
        "\n",
        "# Calculate the degrees of freedom\n",
        "degrees_of_freedom = sample_size - 1\n",
        "\n",
        "# Calculate the critical value\n",
        "critical_value = stats.t.ppf(significance_level, df=degrees_of_freedom)\n",
        "\n",
        "# Compare the t-statistic with the critical value and make a decision\n",
        "if t_statistic < critical_value:\n",
        "    print(\"Reject the null hypothesis.\")\n",
        "else:\n",
        "    print(\"Fail to reject the null hypothesis.\")\n",
        "\n",
        "# Print the t-statistic and critical value\n",
        "print(\"T-statistic:\", t_statistic)\n",
        "print(\"Critical value:\", critical_value)\n",
        "\n"
      ],
      "metadata": {
        "colab": {
          "base_uri": "https://localhost:8080/"
        },
        "id": "KlbWpMcg4YAr",
        "outputId": "b3a59110-1b7b-4888-fccc-8f54b774a397"
      },
      "id": "KlbWpMcg4YAr",
      "execution_count": 8,
      "outputs": [
        {
          "output_type": "stream",
          "name": "stdout",
          "text": [
            "Fail to reject the null hypothesis.\n",
            "T-statistic: -2.0000000000000018\n",
            "Critical value: -2.4921594731575762\n"
          ]
        }
      ]
    },
    {
      "cell_type": "markdown",
      "source": [
        "Q16. Ans"
      ],
      "metadata": {
        "id": "scBmczsD4C-Q"
      },
      "id": "scBmczsD4C-Q"
    },
    {
      "cell_type": "code",
      "source": [
        "import scipy.stats as stats\n",
        "\n",
        "# Group 1\n",
        "sample_mean_1 = 80  # Sample mean score of group 1\n",
        "sample_std_dev_1 = 10  # Sample standard deviation of group 1\n",
        "sample_size_1 = 30  # Sample size of group 1\n",
        "\n",
        "# Group 2\n",
        "sample_mean_2 = 75  # Sample mean score of group 2\n",
        "sample_std_dev_2 = 8  # Sample standard deviation of group 2\n",
        "sample_size_2 = 40  # Sample size of group 2\n",
        "\n",
        "# Perform two-sample t-test assuming unequal variances\n",
        "t_statistic, p_value = stats.ttest_ind_from_stats(\n",
        "    sample_mean_1, sample_std_dev_1, sample_size_1,\n",
        "    sample_mean_2, sample_std_dev_2, sample_size_2,\n",
        "    equal_var=False\n",
        ")\n",
        "\n",
        "# Set the significance level\n",
        "significance_level = 0.01\n",
        "\n",
        "# Compare p-value to the significance level and make a decision\n",
        "if p_value < significance_level:\n",
        "    print(\"Reject the null hypothesis.\")\n",
        "else:\n",
        "    print(\"Fail to reject the null hypothesis.\")\n",
        "\n",
        "# Print the t-statistic and p-value\n",
        "print(\"T-statistic:\", t_statistic)\n",
        "print(\"P-value:\", p_value)\n"
      ],
      "metadata": {
        "colab": {
          "base_uri": "https://localhost:8080/"
        },
        "id": "dssuUL554uG7",
        "outputId": "9d4e90e1-0eab-4750-ff4a-a94956ba6fac"
      },
      "id": "dssuUL554uG7",
      "execution_count": 9,
      "outputs": [
        {
          "output_type": "stream",
          "name": "stdout",
          "text": [
            "Fail to reject the null hypothesis.\n",
            "T-statistic: 2.2511258444537408\n",
            "P-value: 0.02845213338800089\n"
          ]
        }
      ]
    },
    {
      "cell_type": "markdown",
      "source": [
        "Q17. Ans"
      ],
      "metadata": {
        "id": "wWSCkmlo4_Hl"
      },
      "id": "wWSCkmlo4_Hl"
    },
    {
      "cell_type": "code",
      "source": [
        "import scipy.stats as stats\n",
        "import math\n",
        "\n",
        "sample_mean = 4  # Sample mean number of ads watched\n",
        "sample_std_dev = 1.5  # Sample standard deviation\n",
        "sample_size = 50  # Sample size\n",
        "confidence_level = 0.99  # Confidence level\n",
        "\n",
        "# Calculate the critical value\n",
        "critical_value = stats.t.ppf((1 + confidence_level) / 2, df=sample_size-1)\n",
        "\n",
        "# Calculate the standard error\n",
        "standard_error = sample_std_dev / math.sqrt(sample_size)\n",
        "\n",
        "# Calculate the confidence interval\n",
        "lower_bound = sample_mean - critical_value * standard_error\n",
        "upper_bound = sample_mean + critical_value * standard_error\n",
        "\n",
        "# Print the confidence interval\n",
        "print(\"Population mean number of ads watched 99% confidence interval:\", lower_bound, \"-\", upper_bound)\n"
      ],
      "metadata": {
        "colab": {
          "base_uri": "https://localhost:8080/"
        },
        "id": "3qSayGrn48r9",
        "outputId": "2f5c6cb0-730f-4a30-cdbb-12c809368c0a"
      },
      "id": "3qSayGrn48r9",
      "execution_count": 10,
      "outputs": [
        {
          "output_type": "stream",
          "name": "stdout",
          "text": [
            "Population mean number of ads watched 99% confidence interval: 3.4314963358572577 - 4.568503664142742\n"
          ]
        }
      ]
    },
    {
      "cell_type": "code",
      "source": [],
      "metadata": {
        "id": "ng-mQfaF5MNr"
      },
      "id": "ng-mQfaF5MNr",
      "execution_count": null,
      "outputs": []
    }
  ],
  "metadata": {
    "kernelspec": {
      "display_name": "Python 3 (ipykernel)",
      "language": "python",
      "name": "python3"
    },
    "language_info": {
      "codemirror_mode": {
        "name": "ipython",
        "version": 3
      },
      "file_extension": ".py",
      "mimetype": "text/x-python",
      "name": "python",
      "nbconvert_exporter": "python",
      "pygments_lexer": "ipython3",
      "version": "3.10.8"
    },
    "colab": {
      "provenance": []
    }
  },
  "nbformat": 4,
  "nbformat_minor": 5
}