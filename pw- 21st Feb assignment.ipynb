{
 "cells": [
  {
   "cell_type": "markdown",
   "id": "9d38846b-df22-4bb9-913f-d37f145ce94d",
   "metadata": {},
   "source": [
    "Q1. Ans"
   ]
  },
  {
   "cell_type": "markdown",
   "id": "e80bdbe3-d9b7-4824-8e04-4671250fc38a",
   "metadata": {},
   "source": [
    "Web scraping is a term used to describe the use of a program or algorithm to extract and process large amounts of data from the web. Whether you are a data scientist, engineer, or anybody who analyzes large amounts of datasets, the ability to scrape data from the web is a useful skill to have. \n",
    "\n",
    "Web scraping is the process of extracting data from a website. While you can do this manually, when projects require extracted data from hundreds or even thousands of web pages, automated web scraping tools can do the job more quickly and efficiently.\n",
    "\n",
    "Web Scrapping used for\n",
    "1. Price Monitoring\n",
    "2. Market Research\n",
    "3. News Monitoring\n",
    "4. Sentiment Analysis\n",
    "5. Email Marketing"
   ]
  },
  {
   "cell_type": "markdown",
   "id": "af0bb206-a0f3-4b8e-b3ac-4f91116c018e",
   "metadata": {},
   "source": [
    "Q2. Ans"
   ]
  },
  {
   "cell_type": "markdown",
   "id": "dbbeaa7b-3d06-43b5-8b11-c1a5dc69298f",
   "metadata": {},
   "source": [
    "Web Scraping Techniques\n",
    "\n",
    "1. HTML Parsing. HTML parsing involves the use of JavaScript to target a linear or nested HTML page. \n",
    "2. DOM Parsing. \n",
    "3. Vertical Aggregation.\n",
    "4. XPath. \n",
    "5. Google Sheets.\n",
    "6. Rate Limit User Requests.\n",
    "7. Mitigate High-Volume Requesters with CAPTCHAs. \n",
    "8. Regularly Modify HTML Markup."
   ]
  },
  {
   "cell_type": "markdown",
   "id": "084933cb-48d1-4c3a-9564-8eed213e9e1d",
   "metadata": {},
   "source": [
    "Q3. Ans"
   ]
  },
  {
   "cell_type": "markdown",
   "id": "7c84526f-29d9-4830-b661-adea720ddfa0",
   "metadata": {},
   "source": [
    "Beautiful Soup is a Python package for parsing HTML and XML documents (including having malformed markup, i.e. non-closed tags, so named after tag soup). \n",
    "\n",
    "It creates a parse tree for parsed pages that can be used to extract data from HTML, which is useful for web scraping."
   ]
  },
  {
   "cell_type": "markdown",
   "id": "28f7c716-80af-4f81-8851-55a1b1b0bcba",
   "metadata": {},
   "source": [
    "Q4. Ans"
   ]
  },
  {
   "cell_type": "markdown",
   "id": "e2601191-3de4-460d-9795-8fc9f71b8781",
   "metadata": {},
   "source": [
    "Flask is a lightweight framework to build websites. We'll use this to parse our collected data and display it as HTML in a new HTML file. The requests module allows us to send http requests to the website we want to scrape. The first line imports the Flask class and the render_template method from the flask library."
   ]
  },
  {
   "cell_type": "markdown",
   "id": "1d861792-f434-4baf-bc6b-33678c232fdf",
   "metadata": {},
   "source": [
    "Q5. Ans"
   ]
  },
  {
   "cell_type": "code",
   "execution_count": null,
   "id": "998ef76a-6588-4567-8766-0766875c3452",
   "metadata": {},
   "outputs": [],
   "source": []
  }
 ],
 "metadata": {
  "kernelspec": {
   "display_name": "Python 3 (ipykernel)",
   "language": "python",
   "name": "python3"
  },
  "language_info": {
   "codemirror_mode": {
    "name": "ipython",
    "version": 3
   },
   "file_extension": ".py",
   "mimetype": "text/x-python",
   "name": "python",
   "nbconvert_exporter": "python",
   "pygments_lexer": "ipython3",
   "version": "3.10.8"
  }
 },
 "nbformat": 4,
 "nbformat_minor": 5
}
