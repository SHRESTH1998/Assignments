{
 "cells": [
  {
   "cell_type": "markdown",
   "id": "55617c9b",
   "metadata": {},
   "source": [
    "# Q1. Ans"
   ]
  },
  {
   "cell_type": "code",
   "execution_count": 10,
   "id": "49e11e07",
   "metadata": {},
   "outputs": [
    {
     "name": "stdout",
     "output_type": "stream",
     "text": [
      "Invalid Password\n",
      "Invalid Password\n",
      "Valid Password\n",
      "Invalid Password\n",
      "Invalid Password\n"
     ]
    }
   ],
   "source": [
    "import re\n",
    "\n",
    "def check_password(password):\n",
    "    # Check length of the password\n",
    "    if len(password) != 10:\n",
    "        return \"Invalid Password\"\n",
    "    \n",
    "    # Count uppercase and lowercase letters\n",
    "    uppercase_count = sum(1 for char in password if char.isupper())\n",
    "    lowercase_count = sum(1 for char in password if char.islower())\n",
    "    \n",
    "    # Check for at least two uppercase and two lowercase letters\n",
    "    if uppercase_count < 2 or lowercase_count < 2:\n",
    "        return \"Invalid Password\"\n",
    "    \n",
    "    # Check for at least one number\n",
    "    if not any(char.isdigit() for char in password):\n",
    "        return \"Invalid Password\"\n",
    "    \n",
    "    # Check for at least three special characters\n",
    "    special_count = len(re.findall(r'[!@#$%^&*()-=_+{};:,.<>?]', password))\n",
    "    if special_count < 3:\n",
    "        return \"Invalid Password\"\n",
    "    \n",
    "    return \"Valid Password\"\n",
    "\n",
    "\n",
    "# Test the function\n",
    "password1 = \"Abcdefghi1$\"\n",
    "password2 = \"abc123#$%^\"\n",
    "password3 = \"ABcd12@#$&\"\n",
    "password4 = \"passWord$12\"\n",
    "password5 = \"Short!1234\"\n",
    "\n",
    "print(check_password(password1))  # Invalid Password\n",
    "print(check_password(password2))  # Invalid Password\n",
    "print(check_password(password3))  # Valid Password\n",
    "print(check_password(password4))  # Invalid Password\n",
    "print(check_password(password5))  # Invalid Password\n"
   ]
  },
  {
   "cell_type": "markdown",
   "id": "345485a5",
   "metadata": {},
   "source": [
    "# Q2. Ans"
   ]
  },
  {
   "cell_type": "code",
   "execution_count": 14,
   "id": "4c3c170a",
   "metadata": {},
   "outputs": [
    {
     "name": "stdout",
     "output_type": "stream",
     "text": [
      "Python\n"
     ]
    }
   ],
   "source": [
    "#2 A. Filter Function\n",
    "\n",
    "strings = [\"Hello\", \"Python\", \"OpenAI\", \"World\"]\n",
    "letter = \"P\"\n",
    "\n",
    "starts_with_letter = filter(lambda x: x.startswith(letter), strings)\n",
    "\n",
    "for string in starts_with_letter:\n",
    "    print(string)\n",
    "\n"
   ]
  },
  {
   "cell_type": "code",
   "execution_count": 16,
   "id": "60e35cfc",
   "metadata": {},
   "outputs": [
    {
     "name": "stdout",
     "output_type": "stream",
     "text": [
      "True\n",
      "False\n",
      "False\n",
      "True\n"
     ]
    }
   ],
   "source": [
    "#2 B. Map Function \n",
    "\n",
    "strings = [\"12345\", \"3.14\", \"Hello\", \"42\"]\n",
    "\n",
    "is_numeric = list(map(lambda x: x.isdigit(), strings))\n",
    "\n",
    "for result in is_numeric:\n",
    "    print(result)\n"
   ]
  },
  {
   "cell_type": "code",
   "execution_count": 13,
   "id": "61d42920",
   "metadata": {},
   "outputs": [
    {
     "name": "stdout",
     "output_type": "stream",
     "text": [
      "[('orange', 80), ('mango', 99), ('grapes', 1000)]\n"
     ]
    }
   ],
   "source": [
    "#2 C. Lambda Function\n",
    "\n",
    "fruits = [(\"mango\", 99), (\"orange\", 80), (\"grapes\", 1000)]\n",
    "\n",
    "sorted_fruits = sorted(fruits, key=lambda x: x[1])\n",
    "\n",
    "print(sorted_fruits)\n"
   ]
  },
  {
   "cell_type": "code",
   "execution_count": 17,
   "id": "d7cca3cd",
   "metadata": {},
   "outputs": [
    {
     "name": "stdout",
     "output_type": "stream",
     "text": [
      "[1, 4, 9, 16, 25, 36, 49, 64, 81, 100]\n"
     ]
    }
   ],
   "source": [
    "#2 D. Map Function\n",
    "\n",
    "numbers = range(1, 11)\n",
    "\n",
    "squares = list(map(lambda x: x**2, numbers))\n",
    "\n",
    "print(squares)\n"
   ]
  },
  {
   "cell_type": "code",
   "execution_count": 18,
   "id": "82b8e65b",
   "metadata": {},
   "outputs": [
    {
     "name": "stdout",
     "output_type": "stream",
     "text": [
      "[1.0, 1.2599210498948732, 1.4422495703074083, 1.5874010519681994, 1.7099759466766968, 1.8171205928321397, 1.912931182772389, 2.0, 2.080083823051904, 2.154434690031884]\n"
     ]
    }
   ],
   "source": [
    "#2 E. List Comprehension Function\n",
    "\n",
    "numbers = range(1, 11)\n",
    "\n",
    "cube_roots = [(x**(1/3)) for x in numbers]\n",
    "\n",
    "print(cube_roots)\n"
   ]
  },
  {
   "cell_type": "code",
   "execution_count": 19,
   "id": "b694b14a",
   "metadata": {},
   "outputs": [
    {
     "name": "stdout",
     "output_type": "stream",
     "text": [
      "[True]\n"
     ]
    }
   ],
   "source": [
    "#2 F. List Comprehension Function\n",
    "\n",
    "number = 6\n",
    "\n",
    "is_even = [True if number % 2 == 0 else False]\n",
    "\n",
    "print(is_even)\n"
   ]
  },
  {
   "cell_type": "code",
   "execution_count": 20,
   "id": "42491fec",
   "metadata": {},
   "outputs": [
    {
     "name": "stdout",
     "output_type": "stream",
     "text": [
      "[1, 3, 5, 7, 9]\n"
     ]
    }
   ],
   "source": [
    "#2 G. Filter Function\n",
    "\n",
    "numbers = [1, 2, 3, 4, 5, 6, 7, 8, 9, 10]\n",
    "\n",
    "odd_numbers = list(filter(lambda x: x % 2 != 0, numbers))\n",
    "\n",
    "print(odd_numbers)\n"
   ]
  },
  {
   "cell_type": "code",
   "execution_count": 21,
   "id": "f9582737",
   "metadata": {},
   "outputs": [
    {
     "name": "stdout",
     "output_type": "stream",
     "text": [
      "Positive Numbers: [1, 2, 3, 4, 5, 6]\n",
      "Negative Numbers: [-1, -2, -3, -4, -5]\n"
     ]
    }
   ],
   "source": [
    "#2 H. List Comprehension Function\n",
    "\n",
    "numbers = [1, 2, 3, 4, 5, 6, -1, -2, -3, -4, -5, 0]\n",
    "\n",
    "positive_numbers = [num for num in numbers if num > 0]\n",
    "negative_numbers = [num for num in numbers if num < 0]\n",
    "\n",
    "print(\"Positive Numbers:\", positive_numbers)\n",
    "print(\"Negative Numbers:\", negative_numbers)\n"
   ]
  },
  {
   "cell_type": "code",
   "execution_count": null,
   "id": "3de58a01",
   "metadata": {},
   "outputs": [],
   "source": []
  }
 ],
 "metadata": {
  "kernelspec": {
   "display_name": "Python 3 (ipykernel)",
   "language": "python",
   "name": "python3"
  },
  "language_info": {
   "codemirror_mode": {
    "name": "ipython",
    "version": 3
   },
   "file_extension": ".py",
   "mimetype": "text/x-python",
   "name": "python",
   "nbconvert_exporter": "python",
   "pygments_lexer": "ipython3",
   "version": "3.9.12"
  }
 },
 "nbformat": 4,
 "nbformat_minor": 5
}
