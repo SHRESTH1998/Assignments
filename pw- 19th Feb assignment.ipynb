{
 "cells": [
  {
   "cell_type": "markdown",
   "id": "6728fedd",
   "metadata": {},
   "source": [
    "# Q1. Ans"
   ]
  },
  {
   "cell_type": "markdown",
   "id": "09cbe312",
   "metadata": {},
   "source": [
    "Flask is a lightweight framework because it is independent of external libraries and it gives \n",
    "a quick start for web development having complex applications. \n",
    "Flask is compatible with the latest technologies such as machine learning, agile development, cloud technologies, etc."
   ]
  },
  {
   "cell_type": "markdown",
   "id": "73c8acac",
   "metadata": {},
   "source": [
    "advantages of Flask\n",
    "\n",
    "1. Scalable. Size is everything, and Flask's status as a microframework means that you can use \n",
    "   it to grow a tech project such as a web app incredibly quickly. ...\n",
    "2. Flexible. ...\n",
    "3. Easy to negotiate. ...\n",
    "4. Lightweight. ...\n",
    "5. Documentation. ...\n",
    "6. Not a lot of tools. ...\n",
    "7. Difficult to get familiar with a larger Flask app. ...\n",
    "8. Maintenance costs."
   ]
  },
  {
   "cell_type": "markdown",
   "id": "82b77454",
   "metadata": {},
   "source": [
    "# Q2. Ans"
   ]
  },
  {
   "cell_type": "code",
   "execution_count": null,
   "id": "a2ed2450",
   "metadata": {},
   "outputs": [
    {
     "name": "stdout",
     "output_type": "stream",
     "text": [
      " * Serving Flask app \"__main__\" (lazy loading)\n",
      " * Environment: production\n",
      "\u001b[31m   WARNING: This is a development server. Do not use it in a production deployment.\u001b[0m\n",
      "\u001b[2m   Use a production WSGI server instead.\u001b[0m\n",
      " * Debug mode: off\n"
     ]
    },
    {
     "name": "stderr",
     "output_type": "stream",
     "text": [
      " * Running on http://127.0.0.1:5000/ (Press CTRL+C to quit)\n",
      "127.0.0.1 - - [08/Jul/2023 14:01:01] \"GET / HTTP/1.1\" 200 -\n",
      "127.0.0.1 - - [08/Jul/2023 14:01:01] \"GET /favicon.ico HTTP/1.1\" 404 -\n"
     ]
    }
   ],
   "source": [
    "from flask import Flask\n",
    "\n",
    "app = Flask(__name__)\n",
    "\n",
    "@app.route('/')\n",
    "def hello_world():\n",
    "    return 'Hello World!!'\n",
    "\n",
    "if __name__ == '__main__':\n",
    "    app.run()\n"
   ]
  },
  {
   "cell_type": "markdown",
   "id": "966e49ce",
   "metadata": {},
   "source": [
    "# Q3. Ans"
   ]
  },
  {
   "cell_type": "markdown",
   "id": "57d4a9f9",
   "metadata": {},
   "source": [
    "App routing is used to map the specific URL with the associated function that is intended to perform some task.\n",
    "It is used to access some particular page like Flask Tutorial in the web application."
   ]
  },
  {
   "cell_type": "markdown",
   "id": "dd2fa1aa",
   "metadata": {},
   "source": [
    "# Q4. Ans"
   ]
  },
  {
   "cell_type": "code",
   "execution_count": null,
   "id": "e0fb1479",
   "metadata": {},
   "outputs": [],
   "source": [
    "from flask import Flask\n",
    "\n",
    "app = Flask(__name__)\n",
    "\n",
    "@app.route('/welcome')\n",
    "def welcome():\n",
    "    return 'Welcome to ABC Corporation'\n",
    "\n",
    "@app.route('/')\n",
    "def company_details():\n",
    "    company_name = 'ABC Corporation'\n",
    "    location = 'India'\n",
    "    contact_detail = '999-999-9999'\n",
    "\n",
    "    return f\"Company Name: {company_name}<br>Location: {location}<br>Contact Detail: {contact_detail}\"\n",
    "\n",
    "if __name__ == '__main__':\n",
    "    app.run()\n"
   ]
  },
  {
   "cell_type": "code",
   "execution_count": null,
   "id": "d85968ff",
   "metadata": {},
   "outputs": [],
   "source": []
  },
  {
   "cell_type": "markdown",
   "id": "c443f4b1",
   "metadata": {},
   "source": [
    "# Q5. Ans"
   ]
  },
  {
   "cell_type": "markdown",
   "id": "d31ae6ea",
   "metadata": {},
   "source": [
    "The url_for() function is very useful for dynamically building a URL for a specific function. \n",
    "The function accepts the name of a function as first argument, and one or more keyword arguments, \n",
    "each corresponding to the variable part of URL."
   ]
  }
 ],
 "metadata": {
  "kernelspec": {
   "display_name": "Python 3 (ipykernel)",
   "language": "python",
   "name": "python3"
  },
  "language_info": {
   "codemirror_mode": {
    "name": "ipython",
    "version": 3
   },
   "file_extension": ".py",
   "mimetype": "text/x-python",
   "name": "python",
   "nbconvert_exporter": "python",
   "pygments_lexer": "ipython3",
   "version": "3.9.12"
  }
 },
 "nbformat": 4,
 "nbformat_minor": 5
}
