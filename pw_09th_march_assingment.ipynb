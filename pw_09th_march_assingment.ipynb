{
  "cells": [
    {
      "cell_type": "markdown",
      "id": "e153ab34-ae1c-49b4-9a8a-744d0d5cb19b",
      "metadata": {
        "id": "e153ab34-ae1c-49b4-9a8a-744d0d5cb19b"
      },
      "source": [
        "Q1. Ans"
      ]
    },
    {
      "cell_type": "markdown",
      "id": "e24b8ef4-8c7b-4756-89b4-837e4a37ba40",
      "metadata": {
        "id": "e24b8ef4-8c7b-4756-89b4-837e4a37ba40"
      },
      "source": [
        "Probability mass function can be defined as the probability that a discrete random variable will be exactly equal to some particular value. In other words, the probability mass function assigns a particular probability to every possible value of a discrete random variable.\n",
        "\n",
        "Formula-\n",
        "f(x) = P(X = x)\n",
        "Probability Mass Function Example\n",
        "\n",
        "Suppose a fair coin is tossed twice and the sample space is recorded as S = [HH, HT, TH, TT]. The probability of getting heads needs to be determined. Let X be the random variable that shows how many heads are obtained. X can take on the values 0, 1, 2. The probability that X will be equal to 1 is 0.5. Thus, it can be said that the probability mass function of X evaluated at 1 will be 0.5"
      ]
    },
    {
      "cell_type": "markdown",
      "id": "72945991-f9db-4110-830e-0b816751f1ed",
      "metadata": {
        "id": "72945991-f9db-4110-830e-0b816751f1ed"
      },
      "source": [
        "Probability density function defines the density of the probability that a continuous random variable will lie within a particular range of values. To determine this probability, we integrate the probability density function between two specified points.\n",
        "\n",
        "example-\n",
        "Say we have a continuous random variable whose probability density function is given by f(x) = x + 2, when 0 < x ≤ 2. We want to find P(0.5 < X < 1). Then we integrate x + 2 within the limits 0.5 and 1. This gives us 1.375. Thus, the probability that the continuous random variable lies between 0.5 and 1 is 1.375."
      ]
    },
    {
      "cell_type": "markdown",
      "id": "6fa2e436-2f30-4804-9392-29e46fb99a76",
      "metadata": {
        "id": "6fa2e436-2f30-4804-9392-29e46fb99a76"
      },
      "source": [
        "Q2. Ans"
      ]
    },
    {
      "cell_type": "markdown",
      "id": "051eda06-ebc9-4589-95a3-2c84e7924e0e",
      "metadata": {
        "id": "051eda06-ebc9-4589-95a3-2c84e7924e0e"
      },
      "source": [
        "CDF of a random variable ‘X’ is a function which can be defined as,\n",
        "\n",
        "FX(x) = P(X ≤ x)\n",
        "\n",
        "\n",
        "The right-hand side of the cumulative distribution function formula represents the probability of a random variable ‘X’ which takes the value that is less than or equal to that of the x. The semi-closed interval in which the probability of ‘X’ lies is (a.b], where a < b,\n",
        "\n",
        "P(a < X ≤ b) = Fx(b) - Fx(a)\n",
        "\n",
        "The cumulative distribution function is used to describe the probability distribution of random variables. It can be used to describe the probability for a discrete, continuous or mixed variable. It is obtained by summing up the probability density function and getting the cumulative probability for a random variable."
      ]
    },
    {
      "cell_type": "markdown",
      "id": "12ff98d1-bec9-4552-b6e0-e6983e93b346",
      "metadata": {
        "id": "12ff98d1-bec9-4552-b6e0-e6983e93b346"
      },
      "source": [
        "Q3. Ans"
      ]
    },
    {
      "cell_type": "markdown",
      "id": "58addf42-b7d1-452e-acad-19ebb9bcf269",
      "metadata": {
        "id": "58addf42-b7d1-452e-acad-19ebb9bcf269"
      },
      "source": [
        "The height of people is an example of normal distribution. Most of the people in a specific population are of average height. The number of people taller and shorter than the average height people is almost equal, and a very small number of people are either extremely tall or extremely short.\n",
        "\n",
        "Parameters of Normal Distribution\n",
        "The two main parameters of a (normal) distribution are the mean and standard deviation. The parameters determine the shape and probabilities of the distribution. The shape of the distribution changes as the parameter values change."
      ]
    },
    {
      "cell_type": "markdown",
      "id": "6c9e7a4e-5826-45da-be61-901d1ca17d16",
      "metadata": {
        "id": "6c9e7a4e-5826-45da-be61-901d1ca17d16"
      },
      "source": [
        "Q4. Ans"
      ]
    },
    {
      "cell_type": "markdown",
      "id": "98da0996-39b9-4de5-a3c7-08499608dfc2",
      "metadata": {
        "id": "98da0996-39b9-4de5-a3c7-08499608dfc2"
      },
      "source": [
        "One reason the normal distribution is important is that many psychological and educational variables are distributed approximately normally. Measures of reading ability, introversion, job satisfaction, and memory are among the many psychological variables approximately normally distributed.\n",
        "\n",
        "Ex-\n",
        "1. Height\n",
        "2. Rolling A Dice\n",
        "3. Tossing A Coin\n",
        "4. IQ\n",
        "5. Technical Stock Market\n",
        "6. Blood Pressure\n",
        "7.  Shoe Size\n",
        "8. Birth Weight\n",
        "9. Student’s Average Report"
      ]
    },
    {
      "cell_type": "markdown",
      "id": "29221c24-dd9b-4db3-ade0-2dce64edf922",
      "metadata": {
        "id": "29221c24-dd9b-4db3-ade0-2dce64edf922"
      },
      "source": [
        "Q5. Ans"
      ]
    },
    {
      "cell_type": "markdown",
      "id": "bfb61760-6b6a-4c5f-9583-07f5d086a1b9",
      "metadata": {
        "id": "bfb61760-6b6a-4c5f-9583-07f5d086a1b9"
      },
      "source": [
        "Bernoulli distribution is a discrete probability distribution, meaning it’s concerned with discrete random variables. A discrete random variable is one that has a finite or countable number of possible values—the number of heads you get when tossing three coins at once, or the number of students in a class.\n",
        "\n",
        "example,\n",
        "The coin toss example is perhaps the easiest way to explain Bernoulli distribution. Let’s say that the outcome of “heads” is a “success,” while an outcome of “tails” is a “failure.” In this instance:\n",
        "\n",
        "The probability of a successful outcome (landing on heads) is written as p\n",
        "The probability of a failure (landing on tails), written as q, is calculated  as 1 **–** p\n",
        "With a standard coin, we know that there’s a 50/50 chance of landing on either heads or tails. So, in this case:\n",
        "\n",
        "p = 0.5\n",
        "q = 1– **0.5\n",
        "So, in our coin toss example, both p and q = 0.5. On a graph, you’d represent the probability of a failure as “0” and the probability of success as “1,” both on the y-axis.\n",
        "\n",
        "Bernoulli deals with the outcome of the single trial of the event, whereas Binomial deals with the outcome of the multiple trials of the single event. Bernoulli is used when the outcome of an event is required for only one time, whereas the Binomial is used when the outcome of an event is required multiple times.Bernoulli distribution is a discrete probability distribution, meaning it’s concerned with discrete random variables. A discrete random variable is one that has a finite or countable number of possible values—the number of heads you get when tossing three coins at once, or the number of students in a class.\n",
        "\n",
        "example,\n",
        "The coin toss example is perhaps the easiest way to explain Bernoulli distribution. Let’s say that the outcome of “heads” is a “success,” while an outcome of “tails” is a “failure.” In this instance:\n",
        "\n",
        "The probability of a successful outcome (landing on heads) is written as p\n",
        "The probability of a failure (landing on tails), written as q, is calculated  as 1 **–** p\n",
        "With a standard coin, we know that there’s a 50/50 chance of landing on either heads or tails. So, in this case:\n",
        "\n",
        "p = 0.5\n",
        "q = 1– **0.5\n",
        "So, in our coin toss example, both p and q = 0.5. On a graph, you’d represent the probability of a failure as “0” and the probability of success as “1,” both on the y-axis."
      ]
    },
    {
      "cell_type": "markdown",
      "id": "ada2ea2e-cb73-4314-b7d4-45e6c609aebc",
      "metadata": {
        "id": "ada2ea2e-cb73-4314-b7d4-45e6c609aebc"
      },
      "source": [
        "Q6. Ans"
      ]
    },
    {
      "cell_type": "markdown",
      "source": [
        "To calculate the probability that a randomly selected observation from a normally distributed dataset with a mean of 50 and a standard deviation of 10 will be greater than 60, we can use the Z-score and the cumulative distribution function (CDF) of the standard normal distribution.\n",
        "\n",
        "The Z-score measures the number of standard deviations an observation is from the mean. It can be calculated using the formula: Z = (X - μ) / σ, where X is the observed value, μ is the mean, and σ is the standard deviation.\n",
        "\n",
        "In this case, we want to find the probability that a randomly selected observation will be greater than 60. Let's calculate the Z-score for 60:\n",
        "\n",
        "Z = (60 - 50) / 10 = 1\n",
        "\n",
        "Now, we can use the CDF of the standard normal distribution to find the probability corresponding to this Z-score. In Python, we can use the scipy.stats.norm module to calculate the CDF."
      ],
      "metadata": {
        "id": "E_k0CwbO0gsC"
      },
      "id": "E_k0CwbO0gsC"
    },
    {
      "cell_type": "code",
      "execution_count": 1,
      "id": "7eaba674-2a5b-4bf4-86b9-4e201da99645",
      "metadata": {
        "colab": {
          "base_uri": "https://localhost:8080/"
        },
        "id": "7eaba674-2a5b-4bf4-86b9-4e201da99645",
        "outputId": "663081ac-d896-41e0-90ac-16ab490d32eb"
      },
      "outputs": [
        {
          "output_type": "stream",
          "name": "stdout",
          "text": [
            "Probability: 0.15865525393145707\n"
          ]
        }
      ],
      "source": [
        "from scipy.stats import norm\n",
        "\n",
        "mean = 50\n",
        "std_dev = 10\n",
        "observed_value = 60\n",
        "\n",
        "# Calculate the Z-score\n",
        "Z = (observed_value - mean) / std_dev\n",
        "\n",
        "# Calculate the probability using the CDF\n",
        "probability = 1 - norm.cdf(Z)\n",
        "\n",
        "print(\"Probability:\", probability)\n"
      ]
    },
    {
      "cell_type": "markdown",
      "id": "aee71dd0-67ed-4a52-bc0a-85da9c49611f",
      "metadata": {
        "id": "aee71dd0-67ed-4a52-bc0a-85da9c49611f"
      },
      "source": [
        "Q7. Ans"
      ]
    },
    {
      "cell_type": "markdown",
      "id": "899c7f8a-c826-423a-9da6-3db9a4944ec5",
      "metadata": {
        "id": "899c7f8a-c826-423a-9da6-3db9a4944ec5"
      },
      "source": [
        "In statistics, uniform distribution refers to a type of probability distribution in which all outcomes are equally likely. A deck of cards has within it uniform distributions because the likelihood of drawing a heart, a club, a diamond, or a spade is equally likely."
      ]
    },
    {
      "cell_type": "markdown",
      "id": "c9868dd8-496d-43ed-a045-04a9a29ab628",
      "metadata": {
        "id": "c9868dd8-496d-43ed-a045-04a9a29ab628"
      },
      "source": [
        "Q8. Ans"
      ]
    },
    {
      "cell_type": "markdown",
      "id": "4c27cb0d-9bf6-4d11-8ee6-a30348750efc",
      "metadata": {
        "id": "4c27cb0d-9bf6-4d11-8ee6-a30348750efc"
      },
      "source": [
        "The standard score, more commonly referred to as a z-score is a very useful statistic because it\n",
        "(a) allows us to calculate the probability of a score occurring within our normal distribution and\n",
        "(b) enables us to compare two scores that are from different normal distributions.\n",
        "\n",
        "A z-score is important because it tells where your data lies in the data distribution. For example, if a z-score is 1.5, it is 1.5 standard deviations away from the mean."
      ]
    },
    {
      "cell_type": "markdown",
      "id": "494545bf-ceba-4b0c-a910-bf6ddc5b2e91",
      "metadata": {
        "id": "494545bf-ceba-4b0c-a910-bf6ddc5b2e91"
      },
      "source": [
        "Q9.Ans"
      ]
    },
    {
      "cell_type": "markdown",
      "id": "0cfe81c9-68ff-460e-8487-7b1ec395f75e",
      "metadata": {
        "id": "0cfe81c9-68ff-460e-8487-7b1ec395f75e"
      },
      "source": [
        "The central limit theorem says that the sampling distribution of the mean will always be normally distributed, as long as the sample size is large enough. Regardless of whether the population has a normal, Poisson, binomial, or any other distribution, the sampling distribution of the mean will be normal.\n",
        "\n",
        "The CLT performs a significant part in statistical inference. It depicts precisely how much an increase in sample size diminishes sampling error, which tells us about the precision or margin of error for estimates of statistics, for example, percentages, from samples."
      ]
    },
    {
      "cell_type": "code",
      "execution_count": null,
      "id": "9388df59-16e6-472d-bf41-91bd9eab4d8b",
      "metadata": {
        "id": "9388df59-16e6-472d-bf41-91bd9eab4d8b"
      },
      "outputs": [],
      "source": [
        "Q10. Ans"
      ]
    },
    {
      "cell_type": "markdown",
      "source": [
        "The Central Limit Theorem (CLT) relies on certain assumptions to hold true. The assumptions of the Central Limit Theorem are as follows:\n",
        "\n",
        "Independence: The random variables in the sample should be independent of each other. Each observation should be unrelated to the others.\n",
        "\n",
        "Sample Size: The sample should be sufficiently large. While there is no fixed minimum sample size, a commonly suggested guideline is to have at least 30 observations. However, for certain distributions with heavier tails, a larger sample size may be necessary for the CLT to apply.\n",
        "\n",
        "Finite Variance: The population from which the sample is drawn should have a finite variance. This assumption ensures that the sample mean and sample variance are well-defined and not infinite.\n",
        "\n",
        "Identically Distributed: The observations in the sample should be drawn from the same underlying distribution. This assumption ensures that the sample mean converges to the same population mean and that the sample variance is not affected by different underlying distributions."
      ],
      "metadata": {
        "id": "29P6nYvl06sz"
      },
      "id": "29P6nYvl06sz"
    },
    {
      "cell_type": "code",
      "execution_count": null,
      "id": "12cfa105-dda3-4f18-925c-e15471d4c862",
      "metadata": {
        "id": "12cfa105-dda3-4f18-925c-e15471d4c862"
      },
      "outputs": [],
      "source": []
    }
  ],
  "metadata": {
    "kernelspec": {
      "display_name": "Python 3 (ipykernel)",
      "language": "python",
      "name": "python3"
    },
    "language_info": {
      "codemirror_mode": {
        "name": "ipython",
        "version": 3
      },
      "file_extension": ".py",
      "mimetype": "text/x-python",
      "name": "python",
      "nbconvert_exporter": "python",
      "pygments_lexer": "ipython3",
      "version": "3.10.8"
    },
    "colab": {
      "provenance": []
    }
  },
  "nbformat": 4,
  "nbformat_minor": 5
}