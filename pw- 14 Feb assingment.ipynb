{
 "cells": [
  {
   "cell_type": "markdown",
   "id": "ab32bf49",
   "metadata": {},
   "source": [
    "# Q1. Ans"
   ]
  },
  {
   "cell_type": "markdown",
   "id": "37bd1b0c",
   "metadata": {},
   "source": [
    "Multithreading refers to concurrently executing multiple threads by rapidly switching the control of the CPU between threads (called context switching). The Python Global Interpreter Lock limits one thread to run at a time even if the machine contains multiple processors.\n",
    "\n",
    "Python multithreading enables efficient utilization of the resources as the threads share the data space and memory. Multithreading in Python allows the concurrent and parallel occurrence of various tasks. It causes a reduction in time consumption or response time, thereby increasing the performance.\n",
    "\n",
    "The threading module is a high-level implementation of multithreading used to deploy an application in Python. To use multithreading, we need to import the threading module in Python Program. A start() method is used to initiate the activity of a thread."
   ]
  },
  {
   "cell_type": "markdown",
   "id": "da13693d",
   "metadata": {},
   "source": [
    "# Q2. Ans"
   ]
  },
  {
   "cell_type": "markdown",
   "id": "ceb6255c",
   "metadata": {},
   "source": [
    "Python multithreading enables efficient utilization of the resources as the threads share the data space and memory. Multithreading in Python allows the concurrent and parallel occurrence of various tasks. It causes a reduction in time consumption or response time, thereby increasing the performance."
   ]
  },
  {
   "cell_type": "markdown",
   "id": "aa7434b1",
   "metadata": {},
   "source": [
    "activeCount()\n",
    "\n",
    "In Python, the method threading.active_co unt() from the threading module is used to count the currently active or running threads."
   ]
  },
  {
   "cell_type": "markdown",
   "id": "c4f67be2",
   "metadata": {},
   "source": [
    "currentThread()\n",
    "\n",
    "current_thread() is an inbuilt method of the threading module in Python. It is used to return the current Thread object, which corresponds to the caller's thread of control. Parameter(s): None."
   ]
  },
  {
   "cell_type": "markdown",
   "id": "44ccb944",
   "metadata": {},
   "source": [
    "enumerate()\n",
    "\n",
    "Enumerate() method adds a counter to an iterable and returns it in a form of enumerating object. This enumerated object can then be used directly for loops or converted into a list of tuples using the list() function."
   ]
  },
  {
   "cell_type": "markdown",
   "id": "49602d84",
   "metadata": {},
   "source": [
    "# Q3. Ans"
   ]
  },
  {
   "cell_type": "markdown",
   "id": "75fb7ea4",
   "metadata": {},
   "source": [
    "run()\n",
    "\n",
    "The standard run() method invokes the callable object passed to the object's constructor as the target argument, if any, with positional and keyword arguments taken from the args and kwargs arguments, respectively."
   ]
  },
  {
   "cell_type": "markdown",
   "id": "3b171274",
   "metadata": {},
   "source": [
    "start()\n",
    "\n",
    "start() is where the regex was matched in str1. Think of that return as saying, Returning everything in str1 up to where the regex was matched, and strip whitespace."
   ]
  },
  {
   "cell_type": "markdown",
   "id": "f6334fd2",
   "metadata": {},
   "source": [
    "join()\n",
    "\n",
    "The join() method takes all items in an iterable and joins them into one string. A string must be specified as the separator"
   ]
  },
  {
   "cell_type": "markdown",
   "id": "32c90be1",
   "metadata": {},
   "source": [
    "isAlive()\n",
    "\n",
    "is_alive() method is an inbuilt method of the Thread class of the threading module in Python. It uses a Thread object, and checks whether that thread is alive or not, ie, it is still running or not. This method returns True before the run() starts until just after the run() method is executed."
   ]
  },
  {
   "cell_type": "markdown",
   "id": "dce7ed4a",
   "metadata": {},
   "source": [
    "# Q4. Ans"
   ]
  },
  {
   "cell_type": "code",
   "execution_count": 1,
   "id": "13e35bbb",
   "metadata": {},
   "outputs": [
    {
     "name": "stdout",
     "output_type": "stream",
     "text": [
      "List of squares: [1, 4, 9, 16, 25, 36, 49, 64, 81, 100]\n",
      "List of cubes: [1, 8, 27, 64, 125, 216, 343, 512, 729, 1000]\n",
      "Done.\n"
     ]
    }
   ],
   "source": [
    "import threading\n",
    "\n",
    "def print_squares():\n",
    "    squares = [num ** 2 for num in range(1, 11)]\n",
    "    print(\"List of squares:\", squares)\n",
    "\n",
    "def print_cubes():\n",
    "    cubes = [num ** 3 for num in range(1, 11)]\n",
    "    print(\"List of cubes:\", cubes)\n",
    "\n",
    "# Create the threads\n",
    "thread1 = threading.Thread(target=print_squares)\n",
    "thread2 = threading.Thread(target=print_cubes)\n",
    "\n",
    "# Start the threads\n",
    "thread1.start()\n",
    "thread2.start()\n",
    "\n",
    "# Wait for the threads to finish\n",
    "thread1.join()\n",
    "thread2.join()\n",
    "\n",
    "print(\"Done.\")\n"
   ]
  },
  {
   "cell_type": "markdown",
   "id": "688d32f0",
   "metadata": {},
   "source": [
    "# Q5. Ans"
   ]
  },
  {
   "cell_type": "markdown",
   "id": "7966feda",
   "metadata": {},
   "source": [
    "Advantages of Python multithreading\n",
    "\n",
    "Here are the two main advantages: \n",
    "1. Multithreading in Python streamlines the efficient utilization of resources as the threads share the same memory and data space. \n",
    "2. It also allows the concurrent appearance of multiple tasks and reduces the response time. This improves the performance."
   ]
  },
  {
   "cell_type": "markdown",
   "id": "0fd38f83",
   "metadata": {},
   "source": [
    "Multithreaded and multicontexted applications present the following disadvantages:\n",
    "1. Difficulty of writing code. Multithreaded and multicontexted applications are not easy to write. ...\n",
    "2. Difficulty of debugging. ...\n",
    "3. Difficulty of managing concurrency. ...\n",
    "4. Difficulty of testing. ...\n",
    "5. Difficulty of porting existing code."
   ]
  },
  {
   "cell_type": "markdown",
   "id": "41ecf6e6",
   "metadata": {},
   "source": [
    "# Q6. Ans"
   ]
  },
  {
   "cell_type": "markdown",
   "id": "04312887",
   "metadata": {},
   "source": [
    "A most common operational issue with multi-threaded applications, a racing attack is an unwanted situation referring to the incidences when a multithread tool tries to accomplish more than one task at a time. But, the predefined sequencing of that specific program/device will not let it happen as the device/software must follow the default sequence. \n",
    "\n",
    "The ideal occurrence scenario for a race-condition attack is when two or more programs/software/threads try to access a specific asset/resource simultaneously. \n",
    "\n",
    "Ex:\n",
    "\n",
    "A Daily-Life Example\n",
    "Have you seen multiple light switches connected with one main light? It’s a very common situation. However, these multiple-connection circuits are not concerned with the switch position. When the light is on, one can easily turn the light off using any switch.\n",
    "\n",
    "Now, consider a scenario when two people are trying to turn on the light simultaneously. They will use different switches. When this happens, it’s obvious that the action of one switch will cancel out the action of the other switch. This will make the light connection fail. This is a racing situation.\n",
    "\n",
    "A Digital World Example\n",
    "If a programmer is trying to command the device to read & write a big data set and any other machine tries to re-write or overwrite the whole or a part of the database, a race-condition is likely to occur. \n",
    "‍\n",
    "Types:\n",
    "\n",
    "1. Critical\n",
    "2. Non-critical \n",
    "3. Read-modify-write\n",
    "4. Check-then-act"
   ]
  },
  {
   "cell_type": "markdown",
   "id": "7d66871e",
   "metadata": {},
   "source": [
    "A deadlock is a concurrency failure mode where a thread or threads wait for a condition that never occurs. The result is that the deadlock threads are unable to progress and the program is stuck or frozen and must be terminated forcefully.\n",
    "\n",
    "for example, \n",
    "\n",
    "thread_1 is waiting for the release of lock_2 held by thread_2 upon which it will release its lock — lock_1, but the same is true for thread_2 — it will release lock_2 only upon the release of lock_1 by thread_1."
   ]
  }
 ],
 "metadata": {
  "kernelspec": {
   "display_name": "Python 3 (ipykernel)",
   "language": "python",
   "name": "python3"
  },
  "language_info": {
   "codemirror_mode": {
    "name": "ipython",
    "version": 3
   },
   "file_extension": ".py",
   "mimetype": "text/x-python",
   "name": "python",
   "nbconvert_exporter": "python",
   "pygments_lexer": "ipython3",
   "version": "3.9.12"
  }
 },
 "nbformat": 4,
 "nbformat_minor": 5
}
