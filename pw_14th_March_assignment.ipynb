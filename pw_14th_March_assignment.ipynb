{
 "cells": [
  {
   "cell_type": "markdown",
   "id": "1f1cb7ad",
   "metadata": {},
   "source": [
    "# Q1. Ans"
   ]
  },
  {
   "cell_type": "code",
   "execution_count": 1,
   "id": "04f6e87f",
   "metadata": {},
   "outputs": [
    {
     "name": "stdout",
     "output_type": "stream",
     "text": [
      "F-value: 0.25\n",
      "p-value: 0.896\n"
     ]
    }
   ],
   "source": [
    "import numpy as np\n",
    "import scipy.stats as stats\n",
    "\n",
    "def variance_ratio_test(data1, data2):\n",
    "    # Calculate the sample variances\n",
    "    var1 = np.var(data1, ddof=1)\n",
    "    var2 = np.var(data2, ddof=1)\n",
    "\n",
    "    # Calculate the F-value\n",
    "    f_value = var1 / var2\n",
    "\n",
    "    # Calculate the degrees of freedom\n",
    "    df1 = len(data1) - 1\n",
    "    df2 = len(data2) - 1\n",
    "\n",
    "    # Calculate the p-value\n",
    "    p_value = 1 - stats.f.cdf(f_value, df1, df2)\n",
    "\n",
    "    return f_value, p_value\n",
    "data1 = np.array([1, 2, 3, 4, 5])\n",
    "data2 = np.array([2, 4, 6, 8, 10])\n",
    "\n",
    "f_value, p_value = variance_ratio_test(data1, data2)\n",
    "\n",
    "print(\"F-value:\", f_value)\n",
    "print(\"p-value:\", p_value)\n"
   ]
  },
  {
   "cell_type": "markdown",
   "id": "91cca8b1",
   "metadata": {},
   "source": [
    "# Q2. Ans"
   ]
  },
  {
   "cell_type": "code",
   "execution_count": 2,
   "id": "b01ef5bb",
   "metadata": {},
   "outputs": [
    {
     "name": "stdout",
     "output_type": "stream",
     "text": [
      "Critical F-value: 3.8586986662732143\n"
     ]
    }
   ],
   "source": [
    "import scipy.stats as stats\n",
    "\n",
    "def get_critical_f_value(alpha, df_num, df_den):\n",
    "    # Calculate the critical F-value for a two-tailed test\n",
    "    critical_f_value = stats.f.ppf(1 - alpha / 2, df_num, df_den)\n",
    "\n",
    "    return critical_f_value\n",
    "alpha = 0.05\n",
    "df_num = 3\n",
    "df_den = 20\n",
    "\n",
    "critical_f_value = get_critical_f_value(alpha, df_num, df_den)\n",
    "\n",
    "print(\"Critical F-value:\", critical_f_value)\n"
   ]
  },
  {
   "cell_type": "markdown",
   "id": "64851ced",
   "metadata": {},
   "source": [
    "# Q3. Ans"
   ]
  },
  {
   "cell_type": "code",
   "execution_count": 3,
   "id": "0a887965",
   "metadata": {},
   "outputs": [
    {
     "name": "stdout",
     "output_type": "stream",
     "text": [
      "F-value: 1.352732408306068\n",
      "Degrees of freedom: (99, 99)\n",
      "p-value: 0.1345389060631379\n"
     ]
    }
   ],
   "source": [
    "import numpy as np\n",
    "import scipy.stats as stats\n",
    "\n",
    "def f_test_equal_variances(sample1, sample2):\n",
    "    # Calculate the sample variances\n",
    "    var1 = np.var(sample1, ddof=1)\n",
    "    var2 = np.var(sample2, ddof=1)\n",
    "\n",
    "    # Calculate the F-value\n",
    "    f_value = var1 / var2\n",
    "\n",
    "    # Calculate the degrees of freedom\n",
    "    df1 = len(sample1) - 1\n",
    "    df2 = len(sample2) - 1\n",
    "\n",
    "    # Calculate the p-value\n",
    "    p_value = 2 * min(stats.f.cdf(f_value, df1, df2), 1 - stats.f.cdf(f_value, df1, df2))\n",
    "\n",
    "    return f_value, (df1, df2), p_value\n",
    "\n",
    "# Set the random seed for reproducibility\n",
    "np.random.seed(123)\n",
    "\n",
    "# Generate random samples from two normal distributions\n",
    "sample1 = np.random.normal(loc=0, scale=1, size=100)\n",
    "sample2 = np.random.normal(loc=0, scale=1, size=100)\n",
    "\n",
    "# Perform the F-test\n",
    "f_value, degrees_of_freedom, p_value = f_test_equal_variances(sample1, sample2)\n",
    "\n",
    "# Print the F-value, degrees of freedom, and p-value\n",
    "print(\"F-value:\", f_value)\n",
    "print(\"Degrees of freedom:\", degrees_of_freedom)\n",
    "print(\"p-value:\", p_value)\n"
   ]
  },
  {
   "cell_type": "markdown",
   "id": "b7cb6d58",
   "metadata": {},
   "source": [
    "# Q4. Ans"
   ]
  },
  {
   "cell_type": "code",
   "execution_count": 4,
   "id": "c3caff84",
   "metadata": {},
   "outputs": [
    {
     "name": "stdout",
     "output_type": "stream",
     "text": [
      "F-value: 0.6666666666666666\n",
      "Degrees of freedom: 11 , 11\n",
      "Critical F-value: 2.8179304699530863\n",
      "Result: Fail to reject the null hypothesis\n"
     ]
    }
   ],
   "source": [
    "import scipy.stats as stats\n",
    "\n",
    "def f_test_known_variances(variance1, variance2, sample_size1, sample_size2, significance_level):\n",
    "    # Calculate the F-value\n",
    "    f_value = variance1 / variance2\n",
    "\n",
    "    # Calculate the degrees of freedom\n",
    "    df1 = sample_size1 - 1\n",
    "    df2 = sample_size2 - 1\n",
    "\n",
    "    # Calculate the critical F-value\n",
    "    critical_f_value = stats.f.ppf(1 - significance_level, df1, df2)\n",
    "\n",
    "    # Perform the F-test\n",
    "    if f_value > critical_f_value:\n",
    "        result = \"Reject the null hypothesis\"\n",
    "    else:\n",
    "        result = \"Fail to reject the null hypothesis\"\n",
    "\n",
    "    return f_value, df1, df2, critical_f_value, result\n",
    "\n",
    "variance1 = 10\n",
    "variance2 = 15\n",
    "sample_size1 = 12\n",
    "sample_size2 = 12\n",
    "significance_level = 0.05\n",
    "\n",
    "f_value, df1, df2, critical_f_value, result = f_test_known_variances(variance1, variance2, sample_size1, sample_size2, significance_level)\n",
    "\n",
    "print(\"F-value:\", f_value)\n",
    "print(\"Degrees of freedom:\", df1, \",\", df2)\n",
    "print(\"Critical F-value:\", critical_f_value)\n",
    "print(\"Result:\", result)\n"
   ]
  },
  {
   "cell_type": "markdown",
   "id": "69197fd7",
   "metadata": {},
   "source": [
    "# Q5. Ans"
   ]
  },
  {
   "cell_type": "code",
   "execution_count": 5,
   "id": "049a9487",
   "metadata": {},
   "outputs": [
    {
     "name": "stdout",
     "output_type": "stream",
     "text": [
      "F-value: 1.2\n",
      "Degrees of freedom: 24 , 25\n",
      "Critical F-value: 2.620259726620695\n",
      "Result: Fail to reject the claim\n"
     ]
    }
   ],
   "source": [
    "import scipy.stats as stats\n",
    "\n",
    "def f_test_claimed_variance(claimed_variance, sample_variance, sample_size, significance_level):\n",
    "    # Calculate the F-value\n",
    "    f_value = sample_variance / claimed_variance\n",
    "\n",
    "    # Calculate the degrees of freedom\n",
    "    df1 = sample_size - 1\n",
    "    df2 = sample_size\n",
    "\n",
    "    # Calculate the critical F-value\n",
    "    critical_f_value = stats.f.ppf(1 - significance_level, df1, df2)\n",
    "\n",
    "    # Perform the F-test\n",
    "    if f_value > critical_f_value:\n",
    "        result = \"Reject the claim\"\n",
    "    else:\n",
    "        result = \"Fail to reject the claim\"\n",
    "\n",
    "    return f_value, df1, df2, critical_f_value, result\n",
    "\n",
    "claimed_variance = 0.005\n",
    "sample_variance = 0.006\n",
    "sample_size = 25\n",
    "significance_level = 0.01\n",
    "\n",
    "f_value, df1, df2, critical_f_value, result = f_test_claimed_variance(claimed_variance, sample_variance, sample_size, significance_level)\n",
    "\n",
    "print(\"F-value:\", f_value)\n",
    "print(\"Degrees of freedom:\", df1, \",\", df2)\n",
    "print(\"Critical F-value:\", critical_f_value)\n",
    "print(\"Result:\", result)\n"
   ]
  },
  {
   "cell_type": "markdown",
   "id": "0adad7e1",
   "metadata": {},
   "source": [
    "# Q6. Ans"
   ]
  },
  {
   "cell_type": "code",
   "execution_count": 6,
   "id": "d9975f8d",
   "metadata": {},
   "outputs": [
    {
     "name": "stdout",
     "output_type": "stream",
     "text": [
      "Mean: 1.1111111111111112\n",
      "Variance: 1.0802469135802468\n"
     ]
    }
   ],
   "source": [
    "def calculate_f_distribution(df_num, df_den):\n",
    "    # Calculate the mean of the F-distribution\n",
    "    mean = df_den / (df_den - 2)\n",
    "\n",
    "    # Calculate the variance of the F-distribution\n",
    "    variance = (2 * (df_den ** 2) * (df_num + df_den - 2)) / ((df_num * (df_den - 2) ** 2 * (df_den - 4)))\n",
    "\n",
    "    return mean, variance\n",
    "df_num = 3\n",
    "df_den = 20\n",
    "\n",
    "mean, variance = calculate_f_distribution(df_num, df_den)\n",
    "\n",
    "print(\"Mean:\", mean)\n",
    "print(\"Variance:\", variance)\n"
   ]
  },
  {
   "cell_type": "markdown",
   "id": "01418716",
   "metadata": {},
   "source": [
    "# Q7. Ans"
   ]
  },
  {
   "cell_type": "code",
   "execution_count": 7,
   "id": "f95da78a",
   "metadata": {},
   "outputs": [
    {
     "name": "stdout",
     "output_type": "stream",
     "text": [
      "F-value: 1.25\n",
      "Degrees of freedom: 9 , 14\n",
      "Critical F-value: 2.121954566976902\n",
      "Result: Fail to reject the null hypothesis\n"
     ]
    }
   ],
   "source": [
    "import scipy.stats as stats\n",
    "\n",
    "def f_test_variances(sample_variance1, sample_variance2, sample_size1, sample_size2, significance_level):\n",
    "    # Calculate the F-value\n",
    "    f_value = sample_variance1 / sample_variance2\n",
    "\n",
    "    # Calculate the degrees of freedom\n",
    "    df1 = sample_size1 - 1\n",
    "    df2 = sample_size2 - 1\n",
    "\n",
    "    # Calculate the critical F-value\n",
    "    critical_f_value = stats.f.ppf(1 - significance_level, df1, df2)\n",
    "\n",
    "    # Perform the F-test\n",
    "    if f_value > critical_f_value:\n",
    "        result = \"Reject the null hypothesis\"\n",
    "    else:\n",
    "        result = \"Fail to reject the null hypothesis\"\n",
    "\n",
    "    return f_value, df1, df2, critical_f_value, result\n",
    "\n",
    "sample_variance1 = 25\n",
    "sample_variance2 = 20\n",
    "sample_size1 = 10\n",
    "sample_size2 = 15\n",
    "significance_level = 0.10\n",
    "\n",
    "f_value, df1, df2, critical_f_value, result = f_test_variances(sample_variance1, sample_variance2, sample_size1, sample_size2, significance_level)\n",
    "\n",
    "print(\"F-value:\", f_value)\n",
    "print(\"Degrees of freedom:\", df1, \",\", df2)\n",
    "print(\"Critical F-value:\", critical_f_value)\n",
    "print(\"Result:\", result)\n"
   ]
  },
  {
   "cell_type": "markdown",
   "id": "db9aaee1",
   "metadata": {},
   "source": [
    "# Q8. Ans"
   ]
  },
  {
   "cell_type": "code",
   "execution_count": 8,
   "id": "86a0ea59",
   "metadata": {},
   "outputs": [
    {
     "name": "stdout",
     "output_type": "stream",
     "text": [
      "F-value: 1.4551907719609583\n",
      "Degrees of freedom: 6 , 5\n",
      "Critical F-value: 4.950288068694318\n",
      "Result: Fail to reject the null hypothesis\n"
     ]
    }
   ],
   "source": [
    "import numpy as np\n",
    "import scipy.stats as stats\n",
    "\n",
    "def f_test_variances(data1, data2, significance_level):\n",
    "    # Calculate the sample variances\n",
    "    sample_variance1 = np.var(data1, ddof=1)\n",
    "    sample_variance2 = np.var(data2, ddof=1)\n",
    "\n",
    "    # Calculate the F-value\n",
    "    f_value = sample_variance1 / sample_variance2\n",
    "\n",
    "    # Calculate the degrees of freedom\n",
    "    df1 = len(data1) - 1\n",
    "    df2 = len(data2) - 1\n",
    "\n",
    "    # Calculate the critical F-value\n",
    "    critical_f_value = stats.f.ppf(1 - significance_level, df1, df2)\n",
    "\n",
    "    # Perform the F-test\n",
    "    if f_value > critical_f_value:\n",
    "        result = \"Reject the null hypothesis\"\n",
    "    else:\n",
    "        result = \"Fail to reject the null hypothesis\"\n",
    "\n",
    "    return f_value, df1, df2, critical_f_value, result\n",
    "\n",
    "data1 = [24, 25, 28, 23, 22, 20, 27]\n",
    "data2 = [31, 33, 35, 30, 32, 36]\n",
    "significance_level = 0.05\n",
    "\n",
    "f_value, df1, df2, critical_f_value, result = f_test_variances(data1, data2, significance_level)\n",
    "\n",
    "print(\"F-value:\", f_value)\n",
    "print(\"Degrees of freedom:\", df1, \",\", df2)\n",
    "print(\"Critical F-value:\", critical_f_value)\n",
    "print(\"Result:\", result)\n"
   ]
  },
  {
   "cell_type": "markdown",
   "id": "cc12470f",
   "metadata": {},
   "source": [
    "# Q9. Ans"
   ]
  },
  {
   "cell_type": "code",
   "execution_count": 9,
   "id": "8bf93d82",
   "metadata": {},
   "outputs": [
    {
     "name": "stdout",
     "output_type": "stream",
     "text": [
      "F-value: 1.9442622950819677\n",
      "Degrees of freedom: 5 , 5\n",
      "Critical F-value: 10.967020650907992\n",
      "Result: Fail to reject the null hypothesis\n"
     ]
    }
   ],
   "source": [
    "import numpy as np\n",
    "import scipy.stats as stats\n",
    "\n",
    "def f_test_variances(data1, data2, significance_level):\n",
    "    # Calculate the sample variances\n",
    "    sample_variance1 = np.var(data1, ddof=1)\n",
    "    sample_variance2 = np.var(data2, ddof=1)\n",
    "\n",
    "    # Calculate the F-value\n",
    "    f_value = sample_variance1 / sample_variance2\n",
    "\n",
    "    # Calculate the degrees of freedom\n",
    "    df1 = len(data1) - 1\n",
    "    df2 = len(data2) - 1\n",
    "\n",
    "    # Calculate the critical F-value\n",
    "    critical_f_value = stats.f.ppf(1 - significance_level, df1, df2)\n",
    "\n",
    "    # Perform the F-test\n",
    "    if f_value > critical_f_value:\n",
    "        result = \"Reject the null hypothesis\"\n",
    "    else:\n",
    "        result = \"Fail to reject the null hypothesis\"\n",
    "\n",
    "    return f_value, df1, df2, critical_f_value, result\n",
    "\n",
    "groupA = [80, 85, 90, 92, 87, 83]\n",
    "groupB = [75, 78, 82, 79, 81, 84]\n",
    "significance_level = 0.01\n",
    "\n",
    "f_value, df1, df2, critical_f_value, result = f_test_variances(groupA, groupB, significance_level)\n",
    "\n",
    "print(\"F-value:\", f_value)\n",
    "print(\"Degrees of freedom:\", df1, \",\", df2)\n",
    "print(\"Critical F-value:\", critical_f_value)\n",
    "print(\"Result:\", result)\n"
   ]
  },
  {
   "cell_type": "code",
   "execution_count": null,
   "id": "e1bf8ef4",
   "metadata": {},
   "outputs": [],
   "source": []
  }
 ],
 "metadata": {
  "kernelspec": {
   "display_name": "Python 3 (ipykernel)",
   "language": "python",
   "name": "python3"
  },
  "language_info": {
   "codemirror_mode": {
    "name": "ipython",
    "version": 3
   },
   "file_extension": ".py",
   "mimetype": "text/x-python",
   "name": "python",
   "nbconvert_exporter": "python",
   "pygments_lexer": "ipython3",
   "version": "3.9.12"
  }
 },
 "nbformat": 4,
 "nbformat_minor": 5
}
