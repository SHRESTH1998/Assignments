{
 "cells": [
  {
   "cell_type": "markdown",
   "id": "9cfcc3c5",
   "metadata": {},
   "source": [
    "# Q1. Ans"
   ]
  },
  {
   "cell_type": "markdown",
   "id": "0f8b189e",
   "metadata": {},
   "source": [
    "MongoDB is a document database used to build highly available and scalable internet applications. With its flexible schema approach, it's popular with development teams using agile methodologies."
   ]
  },
  {
   "cell_type": "markdown",
   "id": "4426b1b3",
   "metadata": {},
   "source": [
    "A non-relational database is a database that does not use the tabular schema of rows and columns found in most traditional database systems. Instead, non-relational databases use a storage model that is optimized for the specific requirements of the type of data being stored."
   ]
  },
  {
   "cell_type": "markdown",
   "id": "7c13587f",
   "metadata": {},
   "source": [
    "NoSQL databases like MongoDB are a good choice when your data is document-centric and doesn't fit well into the schema of a relational database, when you need to accommodate massive scale, when you are rapidly prototyping, and a few other use cases."
   ]
  },
  {
   "cell_type": "markdown",
   "id": "3b398389",
   "metadata": {},
   "source": [
    "# Q2. Ans"
   ]
  },
  {
   "cell_type": "markdown",
   "id": "edbddd1a",
   "metadata": {},
   "source": [
    "1. Ad-hoc queries for optimized, real-time analytics\n",
    "When designing the schema of a database, it is impossible to know in advance all the queries that will be performed by end users. An ad hoc query is a short-lived command whose value depends on a variable. Each time an ad hoc query is executed, the result may be different, depending on the variables in question."
   ]
  },
  {
   "cell_type": "markdown",
   "id": "a430b01a",
   "metadata": {},
   "source": [
    "2. Indexing appropriately for better query executions\n",
    "Without the right indices, a database is forced to scan documents one by one to identify the ones that match the query statement. But if an appropriate index exists for each query, user requests can be optimally executed by the server. MongoDB offers a broad range of indices and features with language-specific sort orders that support complex access patterns to datasets."
   ]
  },
  {
   "cell_type": "markdown",
   "id": "538274c0",
   "metadata": {},
   "source": [
    "3. Replication for better data availability and stability\n",
    "Replication allows you to sidestep these vulnerabilities by deploying multiple servers for disaster recovery and backup. Horizontal scaling across multiple servers that house the same data (or shards of that same data) means greatly increased data availability and stability. Naturally, replication also helps with load balancing. When multiple users access the same data, the load can be distributed evenly across servers."
   ]
  },
  {
   "cell_type": "markdown",
   "id": "56246749",
   "metadata": {},
   "source": [
    "4. Sharding\n",
    "Like replication via replication sets, sharding in MongoDB allows for much greater horizontal scalability. Horizontal scaling means that each shard in every cluster houses a portion of the dataset in question, essentially functioning as a separate database. The collection of distributed server shards forms a single, comprehensive database much better suited to handling the needs of a popular, growing application with zero downtime."
   ]
  },
  {
   "cell_type": "markdown",
   "id": "dea6074a",
   "metadata": {},
   "source": [
    "5. Load balancing\n",
    "Fortunately, via horizontal scaling features like replication and sharding, MongoDB supports large-scale load balancing. The platform can handle multiple concurrent read and write requests for the same data with best-in-class concurrency control and locking protocols that ensure data consistency. There’s no need to add an external load balancer—MongoDB ensures that each and every user has a consistent view and quality experience with the data they need to access"
   ]
  },
  {
   "cell_type": "markdown",
   "id": "418e6d10",
   "metadata": {},
   "source": [
    "# Q3. Ans"
   ]
  },
  {
   "cell_type": "code",
   "execution_count": 1,
   "id": "3d5c4635",
   "metadata": {},
   "outputs": [],
   "source": [
    "from pymongo import MongoClient\n",
    "\n",
    "# Establishing a connection\n",
    "client = MongoClient(\"mongodb://localhost:27017/\")\n",
    "\n",
    "# Creating a database\n",
    "database = client[\"mydatabase\"]\n",
    "\n",
    "# Creating a collection\n",
    "collection = database[\"mycollection\"]\n"
   ]
  },
  {
   "cell_type": "markdown",
   "id": "6f70d56d",
   "metadata": {},
   "source": [
    "# Q4. Ans"
   ]
  },
  {
   "cell_type": "code",
   "execution_count": 2,
   "id": "295666c9",
   "metadata": {},
   "outputs": [
    {
     "name": "stdout",
     "output_type": "stream",
     "text": [
      "Inserted record ID: 64a91c630b776c2d597d2b31\n",
      "Inserted record IDs: [ObjectId('64a91c630b776c2d597d2b32'), ObjectId('64a91c630b776c2d597d2b33'), ObjectId('64a91c630b776c2d597d2b34')]\n",
      "Retrieved record: {'_id': ObjectId('64a91c630b776c2d597d2b31'), 'name': 'John', 'age': 30}\n",
      "All records:\n",
      "{'_id': ObjectId('64a91c630b776c2d597d2b31'), 'name': 'John', 'age': 30}\n",
      "{'_id': ObjectId('64a91c630b776c2d597d2b32'), 'name': 'Alice', 'age': 25}\n",
      "{'_id': ObjectId('64a91c630b776c2d597d2b33'), 'name': 'Bob', 'age': 35}\n",
      "{'_id': ObjectId('64a91c630b776c2d597d2b34'), 'name': 'Charlie', 'age': 40}\n"
     ]
    }
   ],
   "source": [
    "from pymongo import MongoClient\n",
    "\n",
    "# Establishing a connection\n",
    "client = MongoClient(\"mongodb://localhost:27017/\")\n",
    "\n",
    "# Creating a database and collection\n",
    "database = client[\"mydatabase\"]\n",
    "collection = database[\"mycollection\"]\n",
    "\n",
    "# Inserting one record\n",
    "record_one = {\"name\": \"John\", \"age\": 30}\n",
    "insert_one_result = collection.insert_one(record_one)\n",
    "print(\"Inserted record ID:\", insert_one_result.inserted_id)\n",
    "\n",
    "# Inserting multiple records\n",
    "records_many = [\n",
    "    {\"name\": \"Alice\", \"age\": 25},\n",
    "    {\"name\": \"Bob\", \"age\": 35},\n",
    "    {\"name\": \"Charlie\", \"age\": 40}\n",
    "]\n",
    "insert_many_result = collection.insert_many(records_many)\n",
    "print(\"Inserted record IDs:\", insert_many_result.inserted_ids)\n",
    "\n",
    "# Retrieving the inserted record using find_one()\n",
    "retrieved_record = collection.find_one({\"name\": \"John\"})\n",
    "print(\"Retrieved record:\", retrieved_record)\n",
    "\n",
    "# Retrieving all records using find()\n",
    "all_records = collection.find()\n",
    "print(\"All records:\")\n",
    "for record in all_records:\n",
    "    print(record)\n"
   ]
  },
  {
   "cell_type": "markdown",
   "id": "c006cf6c",
   "metadata": {},
   "source": [
    "# Q5. Ans"
   ]
  },
  {
   "cell_type": "markdown",
   "id": "ef28eff2",
   "metadata": {},
   "source": [
    "In mongoDB, the find() method is used to fetch a particular data from the table. In other words, it is used to select data in a table. It is also used to return all events to the selected data. The find() method consists of two parameters by which we can find a particular record."
   ]
  },
  {
   "cell_type": "markdown",
   "id": "12e03bd7",
   "metadata": {},
   "source": [
    "Ex:\n",
    "\n",
    "db.student.find()  "
   ]
  },
  {
   "cell_type": "markdown",
   "id": "46347fdb",
   "metadata": {},
   "source": [
    "# Q6. Ans"
   ]
  },
  {
   "cell_type": "markdown",
   "id": "18d9b363",
   "metadata": {},
   "source": [
    "The sort() method sorts the elements of an array in place and returns the reference to the same array, now sorted. The default sort order is ascending, built upon converting the elements into strings, then comparing their sequences of UTF-16 code units values."
   ]
  },
  {
   "cell_type": "markdown",
   "id": "f332ee57",
   "metadata": {},
   "source": [
    "Ex:\n",
    "\n",
    "db.student.find().sort({age:1})"
   ]
  },
  {
   "cell_type": "markdown",
   "id": "96e8936e",
   "metadata": {},
   "source": [
    "# Q7. Ans"
   ]
  },
  {
   "cell_type": "markdown",
   "id": "12c25bbf",
   "metadata": {},
   "source": [
    "Delete_many()\n",
    "\n",
    "Delete_many() is used when one needs to delete more than one document. A query object containing which document to be deleted is created and is passed as the first parameter to the delete_many()."
   ]
  },
  {
   "cell_type": "markdown",
   "id": "77aff125",
   "metadata": {},
   "source": [
    "delete_one()\n",
    "\n",
    "In MongoDB, a single document can be deleted by the method delete_one(). The first parameter of the method would be a query object which defines the document to be deleted. If there are multiple documents matching the filter query, only the first appeared document would be deleted"
   ]
  },
  {
   "cell_type": "markdown",
   "id": "5cd5dcb5",
   "metadata": {},
   "source": [
    "The drop() function is used to remove a set of labels from a row or column. We may exclude rows or columns by defining label names and matching axes or directly defining index or column names. Labels on various levels may be removed by using a multi-index by defining the level."
   ]
  }
 ],
 "metadata": {
  "kernelspec": {
   "display_name": "Python 3 (ipykernel)",
   "language": "python",
   "name": "python3"
  },
  "language_info": {
   "codemirror_mode": {
    "name": "ipython",
    "version": 3
   },
   "file_extension": ".py",
   "mimetype": "text/x-python",
   "name": "python",
   "nbconvert_exporter": "python",
   "pygments_lexer": "ipython3",
   "version": "3.9.12"
  }
 },
 "nbformat": 4,
 "nbformat_minor": 5
}
