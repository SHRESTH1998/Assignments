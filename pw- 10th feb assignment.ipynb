{
 "cells": [
  {
   "cell_type": "markdown",
   "id": "5968c13e",
   "metadata": {},
   "source": [
    "# Q1. Ans"
   ]
  },
  {
   "cell_type": "markdown",
   "id": "7dfe2fb8",
   "metadata": {},
   "source": [
    "In Python, we use the open() method to open files.\n",
    "\n",
    "There are many modes for opening a file:\n",
    " \n",
    "1. In ‘r’ mode, the file opens in the read mode. By default, if we don’t specify the mode argument, it will be treated as read or ‘r’ mode. For Example, To open our file myfile.txt in ‘r’ mode:\n",
    "\n",
    "open(\"myfile.txt\") or open(\"myfile.txt\", \"r\")\n",
    "\n",
    "2. In the ‘w’ mode, the file opens in write mode. It removes existing content, if present, in the file. If the specified file doesn’t exist, it creates one with the specified name. For Example, To open our file myfile.txt in ‘w’ mode:\n",
    "\n",
    "open(\"myfile.txt\", \"w\")\n",
    " \n",
    "3. In the ‘a’ mode, the file opens in append mode. It adds content to an existing file (or append at the end of the file). If the specified file doesn’t exist, it creates one with the specified name. It does not remove the existing content from the file. For Example, To open our file myfile.txt in ‘a’ mode:\n",
    "\n",
    "open(\"myfile.txt\", \"a\")\n",
    "\n",
    "4. In the ‘r+’ mode, the file opens in the read & write mode. It does not remove existing content, if present, in the file and does not create a file if not present in the directory. For Example, To open our file myfile.txt in ‘r+‘ mode:\n",
    "\n",
    "open(\"myfile.txt\", \"r+\")\n",
    "\n",
    "5. In the ‘w+’ mode, open the file in the read & write mode & remove existing content. If the file doesn’t exist, it creates a new one. It does not remove existing content & if a file doesn’t exist, it creates a new one. For Example, To open our file myfile.txt in ‘w+’ mode:\n",
    "\n",
    "open(\"myfile.txt\", \"w+\")\n",
    "\n",
    "6. In the ‘a+’ mode, the file opens in the read & append mode. It does not remove existing content & If the file doesn’t exist, it creates a new one. For Example, To open our file myfile.txt in a+ mode:\n",
    "\n",
    "open(\"myfile.txt\", \"a+\")"
   ]
  },
  {
   "cell_type": "markdown",
   "id": "14cca502",
   "metadata": {},
   "source": [
    "# Q2. Ans"
   ]
  },
  {
   "cell_type": "markdown",
   "id": "cf6b7d5f",
   "metadata": {},
   "source": [
    "The close() method closes an open file. You should always close your files, in some cases, \n",
    "due to buffering, changes made to a file may not show until you close the file.\n",
    "\n",
    "You close the file to disconnect the two. When you write into the file, \n",
    "the file may not get modified right away due to buffering. That implies \n",
    "that the memory buffer of the file is modified but the change is not immediately reflected into the file on disk."
   ]
  },
  {
   "cell_type": "markdown",
   "id": "0fcddb12",
   "metadata": {},
   "source": [
    "# Q3. Ans"
   ]
  },
  {
   "cell_type": "code",
   "execution_count": 1,
   "id": "d7beca94",
   "metadata": {},
   "outputs": [
    {
     "name": "stdout",
     "output_type": "stream",
     "text": [
      "I want to become a Data Scientist\n"
     ]
    }
   ],
   "source": [
    "# Create a text file and write content\n",
    "with open(\"data.txt\", \"w\") as file:\n",
    "    file.write(\"I want to become a Data Scientist\")\n",
    "\n",
    "# Read the content from the file\n",
    "with open(\"data.txt\", \"r\") as file:\n",
    "    content = file.read()\n",
    "\n",
    "# Print the content\n",
    "print(content)\n"
   ]
  },
  {
   "cell_type": "markdown",
   "id": "79d48a49",
   "metadata": {},
   "source": [
    "# Q4. Ans"
   ]
  },
  {
   "cell_type": "markdown",
   "id": "05a4784c",
   "metadata": {},
   "source": [
    "The read() method returns the specified number of bytes from the file. Default is -1 which means the whole file.\n",
    "\n"
   ]
  },
  {
   "cell_type": "code",
   "execution_count": null,
   "id": "026ed4c4",
   "metadata": {},
   "outputs": [],
   "source": [
    "f = open(\"demofile.txt\", \"r\")\n",
    "print(f.read(33))"
   ]
  },
  {
   "cell_type": "markdown",
   "id": "6b93c2b2",
   "metadata": {},
   "source": [
    "readline()\n",
    "This method will read one line in a file.\n",
    "\n",
    "A new line character is left at the string end and is ignored for the last line provided the file does not finish in a new line.\n",
    "\n",
    "This method reads up to the end of the line with readline() and returns a list.\n",
    "Ex:"
   ]
  },
  {
   "cell_type": "code",
   "execution_count": null,
   "id": "6f68633e",
   "metadata": {},
   "outputs": [],
   "source": [
    "fl = open('pythonfile.txt')\n",
    "\n",
    "ln = fl.readline()\n",
    "while ln!= \"\":\n",
    "print(ln)\n",
    "ln = fl.readline()\n",
    "\n",
    "fl.close()"
   ]
  },
  {
   "cell_type": "markdown",
   "id": "4bcf7522",
   "metadata": {},
   "source": [
    "readlines()\n",
    "This method will read the entire content of the file at a time.\n",
    "\n",
    "This method reads all the file content and stores it in the list.\n",
    "\n",
    "This method reads up to the end of the line with readline () and returns a list.\n",
    "\n",
    "Ex:"
   ]
  },
  {
   "cell_type": "code",
   "execution_count": null,
   "id": "984b841d",
   "metadata": {},
   "outputs": [],
   "source": [
    "fl = open('pythonfile.txt')\n",
    "\n",
    "for ln in fl.readlines():\n",
    "print(ln)\n",
    "\n",
    "fl.close()"
   ]
  },
  {
   "cell_type": "markdown",
   "id": "940bc223",
   "metadata": {},
   "source": [
    "# Q5. Ans"
   ]
  },
  {
   "cell_type": "code",
   "execution_count": null,
   "id": "79115b88",
   "metadata": {},
   "outputs": [],
   "source": [
    "The with statement works with the open() function to open a file. In Python, with statement\n",
    "is used in exception handling to make the code cleaner and much more readable. It simplifies \n",
    "the management of common resources like file streams\n",
    "\n",
    "When you use with statement with open function, you do not need to close the file\n",
    "at the end, because with would automatically close it for you."
   ]
  },
  {
   "cell_type": "markdown",
   "id": "c355a082",
   "metadata": {},
   "source": [
    "# Q6. Ans"
   ]
  },
  {
   "cell_type": "markdown",
   "id": "73473fa9",
   "metadata": {},
   "source": [
    "The write() function will write the content in the file without adding any extra characters.\n",
    "\n",
    "Ex:"
   ]
  },
  {
   "cell_type": "code",
   "execution_count": 1,
   "id": "039cdec0",
   "metadata": {},
   "outputs": [
    {
     "name": "stdout",
     "output_type": "stream",
     "text": [
      "Enter the name of the employee: Kumar\n",
      "Enter the name of the employee: shresth\n",
      "Enter the name of the employee: kumar shresth\n",
      "Data is written into the file.\n"
     ]
    }
   ],
   "source": [
    "file = open(\"Employees.txt\", \"w\")\n",
    "  \n",
    "for i in range(3):\n",
    "   name = input(\"Enter the name of the employee: \")\n",
    "   file.write(name)\n",
    "   file.write(\"\\n\")\n",
    "     \n",
    "file.close()\n",
    "  \n",
    "print(\"Data is written into the file.\")"
   ]
  },
  {
   "cell_type": "markdown",
   "id": "4e60bc75",
   "metadata": {},
   "source": [
    "The writelines() method writes the items of a list to the file. \n",
    "Where the texts will be inserted depends on the file mode and stream position. \n",
    "\"a\" : The texts will be inserted at the current file stream position, default at the end of the file.\n",
    "\n",
    "Ex:"
   ]
  },
  {
   "cell_type": "code",
   "execution_count": 2,
   "id": "5e2d5354",
   "metadata": {},
   "outputs": [
    {
     "name": "stdout",
     "output_type": "stream",
     "text": [
      "Enter the name of the employee: kumar\n",
      "Enter the name of the employee: shreth\n",
      "Enter the name of the employee: kumar shresth\n",
      "Data is written into the file.\n"
     ]
    }
   ],
   "source": [
    "file1 = open(\"Employees.txt\", \"w\")\n",
    "lst = []\n",
    "for i in range(3):\n",
    "    name = input(\"Enter the name of the employee: \")\n",
    "    lst.append(name + '\\n')\n",
    "      \n",
    "file1.writelines(lst)\n",
    "file1.close()\n",
    "print(\"Data is written into the file.\") "
   ]
  },
  {
   "cell_type": "markdown",
   "id": "eb2007a8",
   "metadata": {},
   "source": [
    "The only difference between the write() and writelines() is that write() is\n",
    "used to write a string to an already opened file while writelines() method \n",
    "is used to write a list of strings in an opened file."
   ]
  }
 ],
 "metadata": {
  "kernelspec": {
   "display_name": "Python 3 (ipykernel)",
   "language": "python",
   "name": "python3"
  },
  "language_info": {
   "codemirror_mode": {
    "name": "ipython",
    "version": 3
   },
   "file_extension": ".py",
   "mimetype": "text/x-python",
   "name": "python",
   "nbconvert_exporter": "python",
   "pygments_lexer": "ipython3",
   "version": "3.9.12"
  }
 },
 "nbformat": 4,
 "nbformat_minor": 5
}
