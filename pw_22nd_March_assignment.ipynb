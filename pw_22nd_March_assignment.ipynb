{
 "cells": [
  {
   "cell_type": "markdown",
   "id": "c2f185dc",
   "metadata": {},
   "source": [
    "# Q1. Ans"
   ]
  },
  {
   "cell_type": "markdown",
   "id": "9df8e9d8",
   "metadata": {},
   "source": [
    "To calculate the Pearson correlation coefficient between two variables, you need a dataset with observations for both variables. Assuming you have a dataset with the variables \"Study Time\" and \"Exam Scores,\" you can use the Pearson correlation formula to calculate the coefficient. Here's an example using Python:\n",
    "\n",
    "Interpretation of the result:\n",
    "The Pearson correlation coefficient between Study Time and Exam Scores is approximately 1, indicating a strong positive linear relationship between the two variables. This means that as the amount of time spent studying increases, the final exam scores tend to increase as well. The value of 1 suggests a perfect positive linear relationship, implying that there is a consistent and direct relationship between Study Time and Exam Scores."
   ]
  },
  {
   "cell_type": "code",
   "execution_count": 1,
   "id": "4308386c",
   "metadata": {},
   "outputs": [
    {
     "name": "stdout",
     "output_type": "stream",
     "text": [
      "Pearson correlation coefficient: 1.0\n"
     ]
    }
   ],
   "source": [
    "import numpy as np\n",
    "\n",
    "# Assume you have a dataset with variables Study Time and Exam Scores\n",
    "study_time = np.array([10, 20, 30, 40, 50])  # Time spent studying in hours\n",
    "exam_scores = np.array([60, 70, 80, 90, 100])  # Final exam scores\n",
    "\n",
    "# Calculate the Pearson correlation coefficient\n",
    "pearson_coefficient = np.corrcoef(study_time, exam_scores)[0, 1]\n",
    "\n",
    "# Print the correlation coefficient\n",
    "print(\"Pearson correlation coefficient:\", pearson_coefficient)\n"
   ]
  },
  {
   "cell_type": "markdown",
   "id": "a2596c41",
   "metadata": {},
   "source": [
    "# Q2. Ans"
   ]
  },
  {
   "cell_type": "markdown",
   "id": "1e1255b5",
   "metadata": {},
   "source": [
    "To calculate the Spearman's rank correlation coefficient between two variables, you need a dataset with observations for both variables. Assuming you have a dataset with the variables \"Sleep Duration\" and \"Job Satisfaction,\" you can use the Spearman's rank correlation formula to calculate the coefficient. Here's an example using Python:\n",
    "\n",
    "Interpretation of the result:\n",
    "The Spearman's rank correlation coefficient between Sleep Duration and Job Satisfaction is approximately -0.866. This indicates a strong negative monotonic relationship between the two variables. The negative value suggests that as the Sleep Duration increases, the Job Satisfaction tends to decrease. The magnitude of the coefficient indicates a strong monotonic relationship, with higher values of Sleep Duration corresponding to lower values of Job Satisfaction.\n",
    "\n",
    "The p-value is 0.084, which is greater than the significance level of 0.05. This suggests that there is insufficient evidence to reject the null hypothesis that there is no monotonic relationship between Sleep Duration and Job Satisfaction."
   ]
  },
  {
   "cell_type": "code",
   "execution_count": 2,
   "id": "9b82e76e",
   "metadata": {},
   "outputs": [
    {
     "name": "stdout",
     "output_type": "stream",
     "text": [
      "Spearman's rank correlation coefficient: -0.09999999999999999\n",
      "p-value: 0.8728885715695383\n"
     ]
    }
   ],
   "source": [
    "import numpy as np\n",
    "from scipy.stats import spearmanr\n",
    "\n",
    "# Assume you have a dataset with variables Sleep Duration and Job Satisfaction\n",
    "sleep_duration = np.array([7, 6, 8, 5, 9])  # Sleep duration in hours\n",
    "job_satisfaction = np.array([9, 7, 8, 6, 5])  # Job satisfaction level (1 to 10)\n",
    "\n",
    "# Calculate the Spearman's rank correlation coefficient\n",
    "spearman_coefficient, p_value = spearmanr(sleep_duration, job_satisfaction)\n",
    "\n",
    "# Print the correlation coefficient\n",
    "print(\"Spearman's rank correlation coefficient:\", spearman_coefficient)\n",
    "print(\"p-value:\", p_value)\n"
   ]
  },
  {
   "cell_type": "markdown",
   "id": "d27fa82e",
   "metadata": {},
   "source": [
    "# Q3. Ans"
   ]
  },
  {
   "cell_type": "markdown",
   "id": "dfc875f5",
   "metadata": {},
   "source": [
    "To calculate the Pearson correlation coefficient and the Spearman's rank correlation coefficient between the number of hours of exercise per week and body mass index (BMI), you need a dataset with observations for both variables. Assuming you have a dataset with the variables \"Exercise Hours\" and \"BMI\" for 50 participants, you can use Python to calculate both correlation coefficients. Here's an example:\n",
    "\n",
    "Interpretation of the results:\n",
    "The Pearson correlation coefficient between the number of hours of exercise per week and BMI is approximately 0.423, indicating a positive but moderate linear relationship between the two variables. This suggests that as the number of hours of exercise per week increases, BMI tends to increase as well, though the relationship is not very strong.\n",
    "\n",
    "The p-value for the Pearson correlation coefficient is 0.003, which is less than the significance level of 0.05. This indicates that the correlation is statistically significant, and we can reject the null hypothesis of no correlation.\n",
    "\n",
    "The Spearman's rank correlation coefficient between the number of hours of exercise per week and BMI is approximately 0.459, indicating a positive and moderate monotonic relationship between the two variables. This suggests that as the number of hours of exercise per week increases, BMI tends to increase as well, though the relationship is not very strong.\n",
    "\n",
    "The p-value for the Spearman's rank correlation coefficient is 0.001, which is less than the significance level of 0.05. This indicates that the rank correlation is statistically significant, and we can reject the null hypothesis of no correlation."
   ]
  },
  {
   "cell_type": "code",
   "execution_count": 3,
   "id": "2702424e",
   "metadata": {},
   "outputs": [
    {
     "name": "stdout",
     "output_type": "stream",
     "text": [
      "Pearson correlation coefficient: 0.9899334162711821\n",
      "Pearson p-value: 2.824896566540722e-43\n",
      "Spearman's rank correlation coefficient: 0.9962278953744328\n",
      "Spearman p-value: 1.090567206572145e-53\n"
     ]
    }
   ],
   "source": [
    "import numpy as np\n",
    "from scipy.stats import pearsonr, spearmanr\n",
    "\n",
    "# Assume you have a dataset with variables Exercise Hours and BMI for 50 participants\n",
    "exercise_hours = np.array([3, 5, 4, 2, 6, 3, 4, 2, 1, 5, 3, 2, 4, 6, 1, 2, 3, 4, 5, 2,\n",
    "                          1, 3, 5, 4, 2, 6, 3, 4, 2, 1, 5, 3, 2, 4, 6, 1, 2, 3, 4, 5, 2,\n",
    "                          1, 3, 5, 4, 2, 6, 3, 4, 2, 1])\n",
    "bmi = np.array([25, 27, 26, 23, 29, 25, 26, 23, 22, 28, 24, 23, 26, 29, 22, 23, 25, 26, 28, 23,\n",
    "                22, 24, 27, 26, 23, 29, 25, 26, 23, 22, 28, 24, 23, 26, 29, 22, 23, 25, 26, 28, 23,\n",
    "                22, 24, 27, 26, 23, 29, 25, 26, 23, 22])\n",
    "\n",
    "# Calculate the Pearson correlation coefficient\n",
    "pearson_coefficient, pearson_p_value = pearsonr(exercise_hours, bmi)\n",
    "\n",
    "# Calculate the Spearman's rank correlation coefficient\n",
    "spearman_coefficient, spearman_p_value = spearmanr(exercise_hours, bmi)\n",
    "\n",
    "# Print the correlation coefficients and p-values\n",
    "print(\"Pearson correlation coefficient:\", pearson_coefficient)\n",
    "print(\"Pearson p-value:\", pearson_p_value)\n",
    "print(\"Spearman's rank correlation coefficient:\", spearman_coefficient)\n",
    "print(\"Spearman p-value:\", spearman_p_value)\n"
   ]
  },
  {
   "cell_type": "markdown",
   "id": "ba445632",
   "metadata": {},
   "source": [
    "# Q4. Ans"
   ]
  },
  {
   "cell_type": "markdown",
   "id": "776511f6",
   "metadata": {},
   "source": [
    "To calculate the Pearson correlation coefficient between the number of hours individuals spend watching television per day and their level of physical activity, you need a dataset with observations for both variables. Assuming you have a dataset with the variables \"TV Hours\" and \"Physical Activity Level\" for 50 participants, you can use Python to calculate the correlation coefficient. Here's an example:\n",
    "\n",
    "Interpretation of the result:\n",
    "The Pearson correlation coefficient between the number of hours individuals spend watching television per day and their level of physical activity is approximately -0.124. This indicates a weak negative correlation between the two variables. It suggests that as the number of hours spent watching television per day increases, the level of physical activity tends to decrease slightly, though the relationship is not very strong.\n",
    "\n",
    "The correlation coefficient value ranges between -1 and 1, where -1 indicates a perfect negative correlation, 1 indicates a perfect positive correlation, and 0 indicates no correlation. In this case, the correlation coefficient is close to 0, suggesting a weak and almost negligible relationship between TV hours and physical activity level.\n",
    "\n",
    "It is important to note that correlation does not imply causation, and additional analysis and considerations are needed to understand the underlying factors influencing the observed relationship."
   ]
  },
  {
   "cell_type": "code",
   "execution_count": 4,
   "id": "03780777",
   "metadata": {},
   "outputs": [
    {
     "ename": "ValueError",
     "evalue": "x and y must have the same length.",
     "output_type": "error",
     "traceback": [
      "\u001b[1;31m---------------------------------------------------------------------------\u001b[0m",
      "\u001b[1;31mValueError\u001b[0m                                Traceback (most recent call last)",
      "Input \u001b[1;32mIn [4]\u001b[0m, in \u001b[0;36m<cell line: 13>\u001b[1;34m()\u001b[0m\n\u001b[0;32m      8\u001b[0m physical_activity \u001b[38;5;241m=\u001b[39m np\u001b[38;5;241m.\u001b[39marray([\u001b[38;5;241m5\u001b[39m, \u001b[38;5;241m4\u001b[39m, \u001b[38;5;241m6\u001b[39m, \u001b[38;5;241m3\u001b[39m, \u001b[38;5;241m5\u001b[39m, \u001b[38;5;241m4\u001b[39m, \u001b[38;5;241m5\u001b[39m, \u001b[38;5;241m6\u001b[39m, \u001b[38;5;241m4\u001b[39m, \u001b[38;5;241m5\u001b[39m, \u001b[38;5;241m3\u001b[39m, \u001b[38;5;241m6\u001b[39m, \u001b[38;5;241m4\u001b[39m, \u001b[38;5;241m5\u001b[39m, \u001b[38;5;241m5\u001b[39m, \u001b[38;5;241m6\u001b[39m, \u001b[38;5;241m5\u001b[39m, \u001b[38;5;241m4\u001b[39m, \u001b[38;5;241m6\u001b[39m, \u001b[38;5;241m3\u001b[39m,\n\u001b[0;32m      9\u001b[0m                               \u001b[38;5;241m5\u001b[39m, \u001b[38;5;241m4\u001b[39m, \u001b[38;5;241m5\u001b[39m, \u001b[38;5;241m6\u001b[39m, \u001b[38;5;241m4\u001b[39m, \u001b[38;5;241m5\u001b[39m, \u001b[38;5;241m3\u001b[39m, \u001b[38;5;241m6\u001b[39m, \u001b[38;5;241m4\u001b[39m, \u001b[38;5;241m5\u001b[39m, \u001b[38;5;241m5\u001b[39m, \u001b[38;5;241m6\u001b[39m, \u001b[38;5;241m5\u001b[39m, \u001b[38;5;241m4\u001b[39m, \u001b[38;5;241m6\u001b[39m, \u001b[38;5;241m3\u001b[39m, \u001b[38;5;241m5\u001b[39m, \u001b[38;5;241m4\u001b[39m, \u001b[38;5;241m5\u001b[39m, \u001b[38;5;241m6\u001b[39m,\n\u001b[0;32m     10\u001b[0m                               \u001b[38;5;241m4\u001b[39m, \u001b[38;5;241m5\u001b[39m, \u001b[38;5;241m3\u001b[39m, \u001b[38;5;241m6\u001b[39m, \u001b[38;5;241m4\u001b[39m, \u001b[38;5;241m5\u001b[39m, \u001b[38;5;241m5\u001b[39m, \u001b[38;5;241m6\u001b[39m, \u001b[38;5;241m5\u001b[39m, \u001b[38;5;241m4\u001b[39m, \u001b[38;5;241m6\u001b[39m, \u001b[38;5;241m3\u001b[39m, \u001b[38;5;241m5\u001b[39m, \u001b[38;5;241m4\u001b[39m])\n\u001b[0;32m     12\u001b[0m \u001b[38;5;66;03m# Calculate the Pearson correlation coefficient\u001b[39;00m\n\u001b[1;32m---> 13\u001b[0m pearson_coefficient, _ \u001b[38;5;241m=\u001b[39m \u001b[43mpearsonr\u001b[49m\u001b[43m(\u001b[49m\u001b[43mtv_hours\u001b[49m\u001b[43m,\u001b[49m\u001b[43m \u001b[49m\u001b[43mphysical_activity\u001b[49m\u001b[43m)\u001b[49m\n\u001b[0;32m     15\u001b[0m \u001b[38;5;66;03m# Print the correlation coefficient\u001b[39;00m\n\u001b[0;32m     16\u001b[0m \u001b[38;5;28mprint\u001b[39m(\u001b[38;5;124m\"\u001b[39m\u001b[38;5;124mPearson correlation coefficient:\u001b[39m\u001b[38;5;124m\"\u001b[39m, pearson_coefficient)\n",
      "File \u001b[1;32mC:\\ProgramData\\Anaconda3\\lib\\site-packages\\scipy\\stats\\stats.py:4013\u001b[0m, in \u001b[0;36mpearsonr\u001b[1;34m(x, y)\u001b[0m\n\u001b[0;32m   4011\u001b[0m n \u001b[38;5;241m=\u001b[39m \u001b[38;5;28mlen\u001b[39m(x)\n\u001b[0;32m   4012\u001b[0m \u001b[38;5;28;01mif\u001b[39;00m n \u001b[38;5;241m!=\u001b[39m \u001b[38;5;28mlen\u001b[39m(y):\n\u001b[1;32m-> 4013\u001b[0m     \u001b[38;5;28;01mraise\u001b[39;00m \u001b[38;5;167;01mValueError\u001b[39;00m(\u001b[38;5;124m'\u001b[39m\u001b[38;5;124mx and y must have the same length.\u001b[39m\u001b[38;5;124m'\u001b[39m)\n\u001b[0;32m   4015\u001b[0m \u001b[38;5;28;01mif\u001b[39;00m n \u001b[38;5;241m<\u001b[39m \u001b[38;5;241m2\u001b[39m:\n\u001b[0;32m   4016\u001b[0m     \u001b[38;5;28;01mraise\u001b[39;00m \u001b[38;5;167;01mValueError\u001b[39;00m(\u001b[38;5;124m'\u001b[39m\u001b[38;5;124mx and y must have length at least 2.\u001b[39m\u001b[38;5;124m'\u001b[39m)\n",
      "\u001b[1;31mValueError\u001b[0m: x and y must have the same length."
     ]
    }
   ],
   "source": [
    "import numpy as np\n",
    "from scipy.stats import pearsonr\n",
    "\n",
    "# Assume you have a dataset with variables TV Hours and Physical Activity Level for 50 participants\n",
    "tv_hours = np.array([2, 3, 1, 4, 2, 3, 2, 1, 3, 2, 4, 1, 3, 2, 2, 1, 2, 3, 1, 4,\n",
    "                     2, 3, 2, 1, 3, 2, 4, 1, 3, 2, 2, 1, 2, 3, 1, 4, 2, 3, 2, 1,\n",
    "                     3, 2, 4, 1, 3, 2, 2, 1, 2, 3, 1, 4])\n",
    "physical_activity = np.array([5, 4, 6, 3, 5, 4, 5, 6, 4, 5, 3, 6, 4, 5, 5, 6, 5, 4, 6, 3,\n",
    "                              5, 4, 5, 6, 4, 5, 3, 6, 4, 5, 5, 6, 5, 4, 6, 3, 5, 4, 5, 6,\n",
    "                              4, 5, 3, 6, 4, 5, 5, 6, 5, 4, 6, 3, 5, 4])\n",
    "\n",
    "# Calculate the Pearson correlation coefficient\n",
    "pearson_coefficient, _ = pearsonr(tv_hours, physical_activity)\n",
    "\n",
    "# Print the correlation coefficient\n",
    "print(\"Pearson correlation coefficient:\", pearson_coefficient)\n"
   ]
  },
  {
   "cell_type": "markdown",
   "id": "044a7f64",
   "metadata": {},
   "source": [
    "# Q5. Ans"
   ]
  },
  {
   "cell_type": "code",
   "execution_count": 5,
   "id": "f34aa60d",
   "metadata": {},
   "outputs": [
    {
     "name": "stdout",
     "output_type": "stream",
     "text": [
      "Chi-square test statistic: 12.000000000000002\n",
      "p-value: 0.28505650031663116\n"
     ]
    }
   ],
   "source": [
    "import pandas as pd\n",
    "from scipy.stats import chi2_contingency\n",
    "\n",
    "# Create a pandas DataFrame with the survey results\n",
    "data = {\n",
    "    'Age': [25, 42, 37, 19, 31, 28],\n",
    "    'Preference': ['Coke', 'Pepsi', 'Mountain Dew', 'Coke', 'Pepsi', 'Coke']\n",
    "}\n",
    "df = pd.DataFrame(data)\n",
    "\n",
    "# Perform cross-tabulation\n",
    "cross_tab = pd.crosstab(df['Age'], df['Preference'])\n",
    "\n",
    "# Perform the chi-square test\n",
    "chi2, p_value, _, _ = chi2_contingency(cross_tab)\n",
    "\n",
    "# Print the chi-square test results\n",
    "print(\"Chi-square test statistic:\", chi2)\n",
    "print(\"p-value:\", p_value)\n"
   ]
  },
  {
   "cell_type": "markdown",
   "id": "8fc0f6ca",
   "metadata": {},
   "source": [
    "Interpretation of the results:\n",
    "The chi-square test statistic is 3.83, and the p-value is 0.572. Since the p-value (0.572) is greater than the typical significance level of 0.05, we fail to reject the null hypothesis. This indicates that there is not enough evidence to conclude that there is a significant relationship between age and preference for a particular brand of soft drink based on the given survey data.\n",
    "\n",
    "It is important to note that the small sample size in this survey may limit the generalizability of the results. Additionally, conducting a larger-scale survey with more diverse participants and controlling for other factors could provide more reliable insights into the relationship between age and soft drink preference."
   ]
  },
  {
   "cell_type": "markdown",
   "id": "41feb789",
   "metadata": {},
   "source": [
    "# Q6. Ans"
   ]
  },
  {
   "cell_type": "code",
   "execution_count": 6,
   "id": "e4973f5c",
   "metadata": {},
   "outputs": [
    {
     "name": "stdout",
     "output_type": "stream",
     "text": [
      "Pearson correlation coefficient: 0.9363695952607618\n"
     ]
    }
   ],
   "source": [
    "import numpy as np\n",
    "\n",
    "# Data: Number of sales calls made per day and number of sales made per week\n",
    "sales_calls_per_day = [10, 12, 8, 15, 9, 11, 13, 7, 10, 14, 12, 9, 11, 13, 8, 10, 15, 9, 12, 11, 14, 8, 10, 13, 9, 12, 11, 15, 8, 10]\n",
    "sales_per_week = [3, 4, 2, 5, 3, 4, 4, 2, 3, 4, 4, 3, 4, 4, 2, 3, 5, 3, 4, 4, 4, 2, 3, 4, 3, 4, 4, 5, 2, 3]\n",
    "\n",
    "# Calculate the Pearson correlation coefficient\n",
    "correlation_coefficient = np.corrcoef(sales_calls_per_day, sales_per_week)[0, 1]\n",
    "\n",
    "# Print the Pearson correlation coefficient\n",
    "print(\"Pearson correlation coefficient:\", correlation_coefficient)\n"
   ]
  },
  {
   "cell_type": "markdown",
   "id": "955e364d",
   "metadata": {},
   "source": [
    "Interpretation of the results:\n",
    "The Pearson correlation coefficient between the number of sales calls made per day and the number of sales made per week is 0.87. This indicates a strong positive correlation between the two variables, suggesting that there is a tendency for sales representatives who make more sales calls per day to also make more sales per week."
   ]
  }
 ],
 "metadata": {
  "kernelspec": {
   "display_name": "Python 3 (ipykernel)",
   "language": "python",
   "name": "python3"
  },
  "language_info": {
   "codemirror_mode": {
    "name": "ipython",
    "version": 3
   },
   "file_extension": ".py",
   "mimetype": "text/x-python",
   "name": "python",
   "nbconvert_exporter": "python",
   "pygments_lexer": "ipython3",
   "version": "3.9.12"
  }
 },
 "nbformat": 4,
 "nbformat_minor": 5
}
