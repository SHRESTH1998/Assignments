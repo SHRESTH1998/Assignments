{
 "cells": [
  {
   "cell_type": "markdown",
   "id": "07d414f0",
   "metadata": {},
   "source": [
    "# Part- 1 Understanding Optimizers"
   ]
  },
  {
   "cell_type": "markdown",
   "id": "34788c86",
   "metadata": {},
   "source": [
    "# Q1. Ans"
   ]
  },
  {
   "cell_type": "markdown",
   "id": "ea7eea55",
   "metadata": {},
   "source": [
    "The process of minimizing (or maximizing) any mathematical expression is called optimization. Optimizers are algorithms or methods used to change the attributes of the neural network such as weights and learning rate to reduce the losses. Optimizers are used to solve optimization problems by minimizing the function."
   ]
  },
  {
   "cell_type": "markdown",
   "id": "668044de",
   "metadata": {},
   "source": [
    "# Q2. Ans"
   ]
  },
  {
   "cell_type": "markdown",
   "id": "4c7c785d",
   "metadata": {},
   "source": [
    "Gradient descent is an iterative optimization algorithm used to minimize a cost function by adjusting the parameters of a model. It is widely used in machine learning to train models such as neural networks. The goal of gradient descent is to find the values of the parameters that minimize the cost function.\n",
    "\n",
    "In gradient descent, the algorithm starts with initial values for the parameters and iteratively updates them by moving in the direction of steepest descent of the cost function. This is done by calculating the gradients of the cost function with respect to the parameters and taking steps proportional to the negative of the gradients.\n",
    "\n",
    "There are three main variants of gradient descent: batch gradient descent, stochastic gradient descent (SGD), and mini-batch gradient descent.\n",
    "\n",
    "Batch Gradient Descent:\n",
    "\n",
    "In batch gradient descent, the algorithm computes the gradients for the entire training dataset before making a parameter update.\n",
    "It calculates the average gradient of the cost function with respect to the parameters over the entire dataset.\n",
    "Batch gradient descent can provide a more accurate estimate of the true gradients since it considers the entire dataset. However, it can be computationally expensive, especially for large datasets, and requires a lot of memory to store the gradients for the entire dataset.\n",
    "Stochastic Gradient Descent (SGD):\n",
    "\n",
    "In stochastic gradient descent, the algorithm computes the gradient and performs a parameter update for each individual training sample.\n",
    "It randomly selects one sample from the training dataset at each iteration and updates the parameters based on the gradient of the cost function computed on that sample.\n",
    "SGD is much faster compared to batch gradient descent since it updates the parameters after processing each sample. It is also less memory-intensive since it only needs to store the gradients for one sample at a time.\n",
    "However, the stochastic nature of SGD can introduce more noise in the parameter updates, which can lead to slower convergence and fluctuations in the optimization process.\n",
    "Mini-Batch Gradient Descent:\n",
    "\n",
    "Mini-batch gradient descent is a compromise between batch gradient descent and SGD.\n",
    "Instead of processing the entire dataset or a single sample, mini-batch gradient descent processes a small batch of samples (typically between 10 and 100) at each iteration.\n",
    "It calculates the average gradient over the mini-batch and updates the parameters accordingly.\n",
    "Mini-batch gradient descent provides a balance between the accuracy of batch gradient descent and the efficiency of SGD. It reduces the noise introduced by SGD and allows for parallelization on hardware like GPUs.\n",
    "The choice of batch size in mini-batch gradient descent affects the convergence speed and memory requirements. Larger batch sizes provide more accurate gradient estimates but require more memory, while smaller batch sizes introduce more noise but reduce memory requirements.\n",
    "Trade-offs:\n",
    "\n",
    "Convergence speed: Batch gradient descent updates the parameters less frequently but calculates more accurate gradients, potentially leading to faster convergence. SGD and mini-batch gradient descent update the parameters more frequently, which can lead to faster convergence in terms of the number of iterations. However, the convergence rate in terms of actual time may depend on factors such as the dataset size and the complexity of the cost function.\n",
    "\n",
    "Memory requirements: Batch gradient descent requires memory to store the gradients for the entire dataset, which can be prohibitive for large datasets. SGD and mini-batch gradient descent have lower memory requirements since they only need to store gradients for a subset or single sample at a time.\n",
    "\n",
    "Noise and stability: Batch gradient descent provides a more stable optimization process since it uses more data to estimate the gradients. SGD and mini-batch gradient descent introduce more noise due to the use of subsets or individual samples, which can result in fluctuations during the optimization process.\n",
    "\n",
    "Parallelization: Mini-batch gradient descent can be easily parallelized, allowing for efficient utilization of hardware resources such as GPUs. Batch gradient descent and SGD are less amenable to parallelization."
   ]
  },
  {
   "cell_type": "markdown",
   "id": "2723ff9c",
   "metadata": {},
   "source": [
    "# Q3. Ans"
   ]
  },
  {
   "cell_type": "markdown",
   "id": "4bbb73c5",
   "metadata": {},
   "source": [
    "Traditional gradient descent optimization methods, such as batch gradient descent, can face several challenges:\n",
    "\n",
    "Slow convergence: Traditional optimization methods may have slow convergence rates, especially when dealing with large datasets or complex models. The algorithm updates the parameters based on the average gradients computed over the entire dataset, which requires a full pass through the data for each update. This can lead to slow convergence and a large number of iterations needed to reach the optimal solution.\n",
    "\n",
    "Local minima and saddle points: Traditional optimization methods are prone to getting stuck in local minima or saddle points. These points are regions of the parameter space where the gradient is close to zero, causing the optimization process to stall or converge to suboptimal solutions. This can hinder the model's ability to find the global optimum.\n",
    "\n",
    "Modern optimizers address these challenges by introducing various techniques that improve the convergence speed and overcome local minima:\n",
    "\n",
    "Stochastic Gradient Descent (SGD): Instead of computing gradients over the entire dataset, SGD randomly selects a single data point or a small batch of data points to compute the gradients. This approach introduces more randomness into the optimization process, which can help escape local minima and speed up convergence.\n",
    "\n",
    "Mini-Batch Gradient Descent: Mini-Batch Gradient Descent is a compromise between batch gradient descent and SGD. It computes gradients on a small batch of data points instead of the whole dataset. This approach combines the advantages of both methods by reducing the noise of SGD while still being computationally efficient.\n",
    "\n",
    "Momentum: Momentum is a technique that adds a fraction of the previous parameter update to the current update. It helps accelerate the convergence by accumulating the speed of the gradients in relevant directions and dampening oscillations in irrelevant directions. This allows the optimizer to quickly move through flat regions and overcome small local minima.\n",
    "\n",
    "Adaptive Learning Rate: Traditional gradient descent uses a fixed learning rate throughout the optimization process. Adaptive learning rate techniques, such as AdaGrad, RMSprop, and Adam, adjust the learning rate dynamically based on the history of gradient updates. These methods allow for faster convergence by reducing the learning rate for frequently updated parameters and increasing it for infrequently updated parameters.\n",
    "\n",
    "Second-order Optimization: Second-order optimization methods, such as Newton's method and the Limited-memory Broyden-Fletcher-Goldfarb-Shanno (L-BFGS) algorithm, utilize the Hessian matrix (second-order derivatives) in addition to gradients. These methods can converge faster by approximating the curvature of the loss function and taking into account the local curvature information."
   ]
  },
  {
   "cell_type": "markdown",
   "id": "278db818",
   "metadata": {},
   "source": [
    "# Q4. Ans"
   ]
  },
  {
   "cell_type": "markdown",
   "id": "1c6b79d8",
   "metadata": {},
   "source": [
    "In the context of optimization algorithms, momentum and learning rate are important concepts that impact convergence and model performance.\n",
    "\n",
    "Momentum: Momentum is a technique used in optimization algorithms to accelerate convergence and overcome oscillations or small local minima. It introduces a momentum term that adds a fraction of the previous parameter update to the current update. The purpose of momentum is to accumulate the speed of the gradients in relevant directions and dampen oscillations in irrelevant directions.\n",
    "When the gradients consistently point in the same direction, momentum helps the optimization process to move faster towards the optimum. It accelerates the convergence by allowing the optimizer to \"build up momentum\" in the direction of steepest descent. Moreover, momentum helps the optimizer overcome flat regions and small local minima by allowing it to keep moving in the same direction instead of getting stuck.\n",
    "\n",
    "The momentum term is typically represented by a hyperparameter, often denoted as \"beta\" or \"momentum coefficient,\" which determines the contribution of the previous update. A higher momentum value increases the contribution of previous updates, leading to faster convergence but potentially overshooting the optimal solution. On the other hand, a lower momentum value makes the optimization process more cautious and less likely to overshoot, but it might slow down convergence.\n",
    "\n",
    "Learning Rate: The learning rate is a hyperparameter that determines the step size or rate at which the optimization algorithm updates the model parameters during the training process. It controls the distance or magnitude of the parameter update at each iteration.\n",
    "A high learning rate allows for larger updates, enabling faster convergence, but it also increases the risk of overshooting the optimal solution and potentially causing divergence. On the other hand, a low learning rate makes smaller updates, which may lead to slower convergence, but it can help the algorithm to converge more accurately.\n",
    "\n",
    "Choosing an appropriate learning rate is crucial. If the learning rate is too high, the optimization process may become unstable and fail to converge. If it is too low, the optimization process may take a long time to converge or get stuck in suboptimal solutions.\n",
    "\n",
    "Finding an optimal learning rate often requires experimentation and fine-tuning. Some approaches, such as learning rate schedules or adaptive learning rate methods like AdaGrad, RMSprop, and Adam, adjust the learning rate dynamically based on the history of parameter updates or gradients to improve convergence and avoid issues like vanishing or exploding gradients."
   ]
  },
  {
   "cell_type": "markdown",
   "id": "4e2b5eb9",
   "metadata": {},
   "source": [
    "# Part- 2 Optimizers Techniques"
   ]
  },
  {
   "cell_type": "markdown",
   "id": "4e4d22d7",
   "metadata": {},
   "source": [
    "# Q5. Ans"
   ]
  },
  {
   "cell_type": "markdown",
   "id": "ec5fb2c9",
   "metadata": {},
   "source": [
    "Stochastic Gradient Descent (SGD) is an optimization algorithm commonly used in machine learning for training models. It is a variant of traditional gradient descent that offers several advantages compared to the batch gradient descent.\n",
    "\n",
    "In traditional gradient descent, the model parameters are updated after evaluating the average gradient of the loss function over the entire training dataset. This can be computationally expensive, especially when dealing with large datasets. SGD addresses this issue by updating the parameters after evaluating the gradient based on a randomly selected subset of the training data, often referred to as a mini-batch.\n",
    "\n",
    "Advantages of SGD:\n",
    "\n",
    "Efficiency: Since SGD only uses a subset of the training data to compute the gradient, it can be significantly faster than batch gradient descent, especially for large datasets. It allows for more frequent updates to the model parameters, which can help converge to a solution faster.\n",
    "\n",
    "Generalization: SGD introduces noise in the parameter updates due to the randomness of the mini-batches. This noise can help the model avoid getting stuck in local optima and improve its generalization performance. It adds a form of regularization to the training process.\n",
    "\n",
    "Convergence on large datasets: SGD is often more effective than batch gradient descent when dealing with large datasets because it avoids the computational burden of processing the entire dataset for each parameter update.\n",
    "\n",
    "Limitations of SGD:\n",
    "\n",
    "Noisy updates: The stochastic nature of SGD introduces noise into the parameter updates, which can make convergence to the optimal solution slower and less stable compared to batch gradient descent. This noise can also lead to a more oscillating learning process.\n",
    "\n",
    "Sensitivity to learning rate: SGD is more sensitive to the learning rate choice compared to batch gradient descent. Selecting an appropriate learning rate is crucial for stable convergence. A learning rate that is too large can cause the model to diverge, while a learning rate that is too small can slow down the convergence.\n",
    "\n",
    "Scenarios where SGD is most suitable:\n",
    "\n",
    "Large datasets: SGD is particularly beneficial when dealing with large datasets since it allows for more efficient parameter updates by using mini-batches instead of processing the entire dataset.\n",
    "\n",
    "Online learning: SGD is well-suited for online learning scenarios where new data arrives continuously, and the model needs to adapt incrementally. It can update the model parameters on the fly as new data becomes available.\n",
    "\n",
    "Non-convex optimization: SGD's stochastic updates and noise injection can help escape local optima in non-convex optimization problems, making it a preferred choice in scenarios where the loss function has multiple local optima."
   ]
  },
  {
   "cell_type": "markdown",
   "id": "0cd785bd",
   "metadata": {},
   "source": [
    "# Q6. Ans"
   ]
  },
  {
   "cell_type": "markdown",
   "id": "04d9b53f",
   "metadata": {},
   "source": [
    "Adam (Adaptive Moment Estimation) is an optimization algorithm that combines the concepts of momentum and adaptive learning rates. It aims to provide efficient and effective optimization for deep neural networks.\n",
    "\n",
    "The key idea behind Adam is to adaptively adjust the learning rate for each parameter based on the estimated first and second moments of the gradients. It maintains a per-parameter learning rate and performs individual parameter updates accordingly.\n",
    "\n",
    "Here's a high-level overview of how Adam works:\n",
    "\n",
    "Initialization: Adam initializes the first moment estimates (mean) and second moment estimates (variance) for each parameter to zero.\n",
    "\n",
    "Computation of moments: During each iteration of the optimization, Adam computes the gradient for the parameters based on the current mini-batch of training data. It then calculates the first moment estimate by exponentially decaying the previous estimate and adding the current gradient. Similarly, it calculates the second moment estimate using the previous estimate and the squared gradient.\n",
    "\n",
    "Bias correction: Since the moment estimates are initialized to zero, they will be biased towards zero, especially at the beginning of training. To correct this bias, Adam performs a bias correction step by scaling the first and second moment estimates.\n",
    "\n",
    "Parameter update: Adam updates the parameters based on the first and second moment estimates, combined with a momentum term. The update equation involves scaling the gradients by the adaptive learning rate, which is calculated based on the first and second moment estimates.\n",
    "\n",
    "Benefits of Adam optimizer:\n",
    "\n",
    "Adaptive learning rates: Adam adapts the learning rate for each parameter based on the observed gradients, which allows for efficient and effective optimization. It can automatically adjust the learning rate based on the varying characteristics of different parameters in the model.\n",
    "\n",
    "Momentum effect: By incorporating a momentum term, Adam helps accelerate convergence by accumulating past gradients. This momentum term allows the optimization process to continue in a more consistent direction, even when encountering flat or noisy regions.\n",
    "\n",
    "Efficiency: Adam combines the benefits of adaptive learning rates and momentum, which can lead to faster convergence and improved optimization performance, especially in deep neural networks.\n",
    "\n",
    "Potential drawbacks of Adam optimizer:\n",
    "\n",
    "Sensitivity to hyperparameters: Adam has several hyperparameters, including the learning rate, momentum term, and exponential decay rates for the moment estimates. Selecting appropriate hyperparameters can be challenging and may require careful tuning for optimal performance.\n",
    "\n",
    "Robustness to noise and outliers: The adaptive learning rate computation in Adam can be influenced by noisy or outlier gradients. In some cases, this may lead to unstable updates and affect convergence."
   ]
  },
  {
   "cell_type": "markdown",
   "id": "f52cbbbb",
   "metadata": {},
   "source": [
    "# Q7. Ans"
   ]
  },
  {
   "cell_type": "markdown",
   "id": "14b58e4f",
   "metadata": {},
   "source": [
    "RMSprop (Root Mean Square Propagation) is an optimization algorithm that addresses the challenges of adaptive learning rates by adapting the learning rates based on the magnitude of recent gradients. It is similar to the adaptive learning rate component of Adam but lacks the momentum term.\n",
    "\n",
    "The key idea behind RMSprop is to maintain a moving average of squared gradients for each parameter. This moving average acts as an estimate of the second moment (variance) of the gradients. The algorithm then uses this estimate to normalize the gradients during the parameter updates.\n",
    "\n",
    "Here's a high-level overview of how RMSprop works:\n",
    "\n",
    "Initialization: RMSprop initializes the moving average of squared gradients (the second moment) for each parameter to zero.\n",
    "\n",
    "Computation of squared gradients: During each iteration of the optimization, RMSprop computes the gradient for the parameters based on the current mini-batch of training data. It then calculates the squared gradient for each parameter.\n",
    "\n",
    "Updating the moving average: RMSprop updates the moving average of squared gradients by applying exponential decay. This ensures that recent squared gradients have more influence on the estimate.\n",
    "\n",
    "Parameter update: RMSprop updates the parameters by dividing the gradients by the square root of the moving average of squared gradients, which acts as a normalized scaling factor for the gradients.\n",
    "\n",
    "Now, let's compare RMSprop with Adam and discuss their relative strengths and weaknesses:\n",
    "\n",
    "Adaptive learning rates: Both RMSprop and Adam adapt the learning rates based on the estimated moments of the gradients. However, Adam also incorporates a momentum term, which can help accelerate convergence in certain scenarios.\n",
    "\n",
    "Momentum effect: Adam includes a momentum term that accumulates past gradients, allowing the optimization process to continue in a consistent direction. RMSprop, on the other hand, lacks the momentum term and focuses solely on adapting the learning rates based on the recent magnitude of gradients.\n",
    "\n",
    "Complexity and memory requirements: Adam has a slightly higher complexity and memory requirements compared to RMSprop due to the additional momentum term. This can be a consideration for large-scale models or resource-constrained environments.\n",
    "\n",
    "Hyperparameter sensitivity: Both RMSprop and Adam have hyperparameters that require tuning, such as the learning rate, decay rates, and momentum term (for Adam). Proper hyperparameter selection is crucial for achieving optimal performance, and it can be a challenging task for both optimizers.\n",
    "\n",
    "In general, RMSprop and Adam are both effective optimization algorithms for training deep neural networks. RMSprop is relatively simpler and computationally efficient compared to Adam, making it a good choice when memory or computational resources are limited. "
   ]
  },
  {
   "cell_type": "markdown",
   "id": "8f7db8ba",
   "metadata": {},
   "source": [
    "# Part- 3 Applying Optimizers"
   ]
  },
  {
   "cell_type": "markdown",
   "id": "6c9a6bc1",
   "metadata": {},
   "source": [
    "# Q8. Ans"
   ]
  },
  {
   "cell_type": "code",
   "execution_count": 4,
   "id": "c885b999",
   "metadata": {},
   "outputs": [
    {
     "ename": "ModuleNotFoundError",
     "evalue": "No module named 'tensorflow'",
     "output_type": "error",
     "traceback": [
      "\u001b[1;31m---------------------------------------------------------------------------\u001b[0m",
      "\u001b[1;31mModuleNotFoundError\u001b[0m                       Traceback (most recent call last)",
      "Input \u001b[1;32mIn [4]\u001b[0m, in \u001b[0;36m<cell line: 1>\u001b[1;34m()\u001b[0m\n\u001b[1;32m----> 1\u001b[0m \u001b[38;5;28;01mimport\u001b[39;00m \u001b[38;5;21;01mtensorflow\u001b[39;00m \u001b[38;5;28;01mas\u001b[39;00m \u001b[38;5;21;01mtf\u001b[39;00m\n\u001b[0;32m      2\u001b[0m \u001b[38;5;28;01mfrom\u001b[39;00m \u001b[38;5;21;01mtensorflow\u001b[39;00m \u001b[38;5;28;01mimport\u001b[39;00m keras\n\u001b[0;32m      3\u001b[0m \u001b[38;5;28;01mfrom\u001b[39;00m \u001b[38;5;21;01mtensorflow\u001b[39;00m\u001b[38;5;21;01m.\u001b[39;00m\u001b[38;5;21;01mkeras\u001b[39;00m \u001b[38;5;28;01mimport\u001b[39;00m layers\n",
      "\u001b[1;31mModuleNotFoundError\u001b[0m: No module named 'tensorflow'"
     ]
    }
   ],
   "source": [
    "import tensorflow as tf\n",
    "from tensorflow import keras\n",
    "from tensorflow.keras import layers\n",
    "\n",
    "# Load the MNIST dataset\n",
    "(x_train, y_train), (x_test, y_test) = keras.datasets.mnist.load_data()\n",
    "\n",
    "# Preprocess the data\n",
    "x_train = x_train.reshape(-1, 28 * 28).astype(\"float32\") / 255.0\n",
    "x_test = x_test.reshape(-1, 28 * 28).astype(\"float32\") / 255.0\n",
    "\n",
    "# Define the model architecture\n",
    "model = keras.Sequential([\n",
    "    layers.Dense(64, activation=\"relu\"),\n",
    "    layers.Dense(64, activation=\"relu\"),\n",
    "    layers.Dense(10, activation=\"softmax\")\n",
    "])\n",
    "\n",
    "# Compile the model with SGD optimizer\n",
    "sgd_optimizer = keras.optimizers.SGD(learning_rate=0.01)\n",
    "model.compile(optimizer=sgd_optimizer, loss=\"sparse_categorical_crossentropy\", metrics=[\"accuracy\"])\n",
    "\n",
    "# Train the model with SGD optimizer\n",
    "sgd_history = model.fit(x_train, y_train, batch_size=32, epochs=10, validation_data=(x_test, y_test), verbose=2)\n",
    "\n",
    "# Compile the model with Adam optimizer\n",
    "adam_optimizer = keras.optimizers.Adam(learning_rate=0.001)\n",
    "model.compile(optimizer=adam_optimizer, loss=\"sparse_categorical_crossentropy\", metrics=[\"accuracy\"])\n",
    "\n",
    "# Train the model with Adam optimizer\n",
    "adam_history = model.fit(x_train, y_train, batch_size=32, epochs=10, validation_data=(x_test, y_test), verbose=2)\n",
    "\n",
    "# Compile the model with RMSprop optimizer\n",
    "rmsprop_optimizer = keras.optimizers.RMSprop(learning_rate=0.001)\n",
    "model.compile(optimizer=rmsprop_optimizer, loss=\"sparse_categorical_crossentropy\", metrics=[\"accuracy\"])\n",
    "\n",
    "# Train the model with RMSprop optimizer\n",
    "rmsprop_history = model.fit(x_train, y_train, batch_size=32, epochs=10, validation_data=(x_test, y_test), verbose=2)\n"
   ]
  },
  {
   "cell_type": "markdown",
   "id": "7982311b",
   "metadata": {},
   "source": [
    "# Q9. Ans"
   ]
  },
  {
   "cell_type": "markdown",
   "id": "6e2b2e8d",
   "metadata": {},
   "source": [
    "When choosing an optimizer for a neural network, several considerations and tradeoffs need to be taken into account, including convergence speed, stability, and generalization performance. Here are some factors to consider:\n",
    "\n",
    "Convergence Speed: Some optimizers converge faster than others. Optimizers like Adam and RMSprop often exhibit faster convergence compared to traditional optimizers like SGD. Faster convergence can be beneficial when training large networks or dealing with time-sensitive tasks.\n",
    "\n",
    "Stability: Different optimizers have varying degrees of stability. Traditional optimizers like SGD can be more stable since they rely on a fixed learning rate. On the other hand, adaptive optimizers like Adam and RMSprop dynamically adjust the learning rate, which can introduce instability during training. In some cases, adaptive optimizers may oscillate or overshoot the optimal solution, leading to slower convergence or suboptimal performance.\n",
    "\n",
    "Generalization Performance: The choice of optimizer can impact the generalization performance of the trained model. Optimizers that converge quickly may be prone to overfitting the training data, leading to poor generalization on unseen data. In such cases, regularization techniques like dropout or weight decay can be employed to mitigate overfitting.\n",
    "\n",
    "Dataset Size: The size of the dataset can influence the choice of optimizer. Adaptive optimizers like Adam and RMSprop are known to perform well on large datasets due to their ability to adapt the learning rate to different parameter updates. However, on smaller datasets, traditional optimizers like SGD can sometimes achieve comparable or better performance.\n",
    "\n",
    "Memory Requirements: Adaptive optimizers often require more memory compared to traditional optimizers because they maintain additional statistics or momentum values for each parameter. This increased memory usage can be a concern, particularly when training large-scale models with limited resources.\n",
    "\n",
    "Hyperparameter Sensitivity: Different optimizers have their own set of hyperparameters that need to be tuned. Adaptive optimizers typically have more hyperparameters to adjust compared to traditional optimizers. Finding the optimal set of hyperparameters can be time-consuming and may require extensive experimentation."
   ]
  }
 ],
 "metadata": {
  "kernelspec": {
   "display_name": "Python 3 (ipykernel)",
   "language": "python",
   "name": "python3"
  },
  "language_info": {
   "codemirror_mode": {
    "name": "ipython",
    "version": 3
   },
   "file_extension": ".py",
   "mimetype": "text/x-python",
   "name": "python",
   "nbconvert_exporter": "python",
   "pygments_lexer": "ipython3",
   "version": "3.9.12"
  }
 },
 "nbformat": 4,
 "nbformat_minor": 5
}
